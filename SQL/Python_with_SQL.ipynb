{
 "metadata": {
  "name": "",
  "signature": "sha256:4ce5729ebe11c1ce31a126ade4fde618b7b5e4c08e6316417044cdd45ad0e3b2"
 },
 "nbformat": 3,
 "nbformat_minor": 0,
 "worksheets": [
  {
   "cells": [
    {
     "cell_type": "code",
     "collapsed": false,
     "input": [
      "import pandas as pd\n",
      "import sqlite3\n",
      "import statsmodels.api as sm\n",
      "import numpy as np # might not need this\n",
      "import seaborn as sns\n",
      "from pylab import savefig\n",
      "from IPython.display import HTML\n",
      "from premailer import transform\n",
      "import matplotlib.pyplot as plt"
     ],
     "language": "python",
     "metadata": {},
     "outputs": [],
     "prompt_number": 58
    },
    {
     "cell_type": "code",
     "collapsed": false,
     "input": [
      "# all of these imports are for the mail() function\n",
      "import smtplib\n",
      "from email.mime.image import MIMEImage\n",
      "from email.mime.multipart import MIMEMultipart\n",
      "from email.mime.base import MIMEBase\n",
      "from email.mime.text import MIMEText\n",
      "from email import encoders\n",
      "import os\n",
      "from sys import exit"
     ],
     "language": "python",
     "metadata": {},
     "outputs": [],
     "prompt_number": 273
    },
    {
     "cell_type": "code",
     "collapsed": false,
     "input": [
      "#to view graphs in ipython\n",
      "%matplotlib inline"
     ],
     "language": "python",
     "metadata": {},
     "outputs": [],
     "prompt_number": 60
    },
    {
     "cell_type": "code",
     "collapsed": false,
     "input": [
      "# if this .sqlite db doesn't already exists, this will create it\n",
      "# if the .sqlite db *does* already exist, this establishes the desired connection\n",
      "con = sqlite3.connect(\"sql_sample_db_2.sqlite\")"
     ],
     "language": "python",
     "metadata": {},
     "outputs": [],
     "prompt_number": 61
    },
    {
     "cell_type": "code",
     "collapsed": false,
     "input": [
      "# create pandas dataframes from each .csv file:\n",
      "sales_table = pd.read_csv('https://raw.githubusercontent.com/DaveBackus/Data_Bootcamp/master/Code/SQL/sales_table.csv')\n",
      "car_table = pd.read_csv('https://raw.githubusercontent.com/DaveBackus/Data_Bootcamp/master/Code/SQL/car_table.csv')\n",
      "salesman_table = pd.read_csv('https://raw.githubusercontent.com/DaveBackus/Data_Bootcamp/master/Code/SQL/salesman_table.csv')\n",
      "cust_table = pd.read_csv('https://raw.githubusercontent.com/DaveBackus/Data_Bootcamp/master/Code/SQL/cust_table.csv')"
     ],
     "language": "python",
     "metadata": {},
     "outputs": [],
     "prompt_number": 62
    },
    {
     "cell_type": "code",
     "collapsed": false,
     "input": [
      "# make a list of the tables (dataframes) and table names:\n",
      "tables = [sales_table, car_table, salesman_table, cust_table]\n",
      "table_names = ['sales_table', 'car_table', 'salesman_table', 'cust_table']"
     ],
     "language": "python",
     "metadata": {},
     "outputs": [],
     "prompt_number": 63
    },
    {
     "cell_type": "code",
     "collapsed": false,
     "input": [
      "# drop each table name if it already exists to avoid error if you rerun this bit of code\n",
      "# then add it back (or add it for the first time, if the table didn't already exist)\n",
      "for i in range(len(tables)):\n",
      "    table_name = table_names[i]\n",
      "    table = tables[i]\n",
      "    con.execute(\"DROP TABLE IF EXISTS {}\".format(table_name))\n",
      "    pd.io.sql.to_sql(table, \"{}\".format(table_name), con, index=False)"
     ],
     "language": "python",
     "metadata": {},
     "outputs": [],
     "prompt_number": 64
    },
    {
     "cell_type": "code",
     "collapsed": false,
     "input": [
      "#quick function that's useful to turn things into a comma separated string, useful for SQL\n",
      "def to_list_string(series):\n",
      "    try:\n",
      "        series.iloc[0] + 1\n",
      "        return ', '.join([\"{:.0f}\".format(row[1]) for row in series.iteritems()])\n",
      "    except TypeError:\n",
      "        return ', '.join([\"'\" + row[1] + \"'\" for row in series.iteritems()])"
     ],
     "language": "python",
     "metadata": {},
     "outputs": [],
     "prompt_number": 65
    },
    {
     "cell_type": "code",
     "collapsed": false,
     "input": [
      "# these just provide formatting to enable images to appear in-line in emails\n",
      "def to_cid(path):\n",
      "    return '<img src=\"cid:{}\">'.format(path)\n",
      "def to_image(path):\n",
      "    return dict(title=u'Graph', path=u'{}'.format(path), cid='{}'.format(path))\n",
      "image_list = []"
     ],
     "language": "python",
     "metadata": {},
     "outputs": [],
     "prompt_number": 66
    },
    {
     "cell_type": "code",
     "collapsed": false,
     "input": [
      "def html_prep(tables):\n",
      "    no_underscores = tables.replace('_', ' ')\n",
      "    no_indents = no_underscores.replace('<UL>', '')\n",
      "    no_bullet_points = no_indents.replace('<LI>', '')\n",
      "    no_nans = no_bullet_points.replace('NaN', '0')\n",
      "    no_nans2 = no_nans.replace('nan', '0')\n",
      "    no_weird_stuff1 = no_nans2.replace('&lt;', '<')\n",
      "    no_weird_stuff2 = no_weird_stuff1.replace('&gt;', '>')\n",
      "    return no_weird_stuff2"
     ],
     "language": "python",
     "metadata": {},
     "outputs": [],
     "prompt_number": 100
    },
    {
     "cell_type": "code",
     "collapsed": false,
     "input": [
      "# makes it easy to send out an email with inline images and attachments\n",
      "def mail(to, subject, text, html, attach=None, image=None):\n",
      "    sendMail = True\n",
      "    \n",
      "    if type(to) == str:\n",
      "        tempList = []\n",
      "        tempList.append(to)\n",
      "        to = tempList\n",
      "    elif type(to) == list or type(to) == tuple:\n",
      "        pass\n",
      "    else:\n",
      "        print('Unrecognized address input type')\n",
      "        sendMail = False\n",
      "        \n",
      "    if sendMail == True:\n",
      "        msg = MIMEMultipart('alternative')\n",
      "\n",
      "        msg['From'] = 'reports@peanutlabs.com'\n",
      "        msg['To'] = ','.join(to)\n",
      "        msg['Subject'] = subject\n",
      "        \n",
      "\n",
      "        part1 = MIMEText(text,'plain')\n",
      "        part2 = MIMEText(html,'html')\n",
      "\n",
      "        msg.attach(part1)\n",
      "        msg.attach(part2)\n",
      "\n",
      "        def attacher(msg, item):\n",
      "            part = MIMEBase('application', 'octet-stream')\n",
      "            part.set_payload(open(item, 'rb').read())\n",
      "            Encoders.encode_base64(part)\n",
      "            part.add_header('Content-Disposition',\n",
      "                'attachment; filename=\"%s\"' % os.path.basename(item))\n",
      "            msg.attach(part)\n",
      "\n",
      "        if attach:\n",
      "            if isinstance(attach, basestring):\n",
      "                attacher(msg, attach)\n",
      "            else:\n",
      "                for item in attach:\n",
      "                    attacher(msg, item)\n",
      "\n",
      "        def embed_image(msg, image):\n",
      "            #img = dict(title=u'Picture report', path=u'TESTING.png', cid=cid)\n",
      "            with open(image['path'], 'rb') as file:\n",
      "                msg_image = MIMEImage(file.read(), name=os.path.basename(image['path']))\n",
      "                msg.attach(msg_image)\n",
      "            \n",
      "            msg_image.add_header('Content-ID', '<{}>'.format(image['cid']))\n",
      "\n",
      "        if image:\n",
      "            if isinstance(image, dict):\n",
      "                embed_image(msg, image)\n",
      "            else:\n",
      "                for item in image:\n",
      "                    embed_image(msg, item)\n",
      "\n",
      "\n",
      "        mailServer = smtplib.SMTP(\"smtp.gmail.com\", 587)\n",
      "        mailServer.ehlo()\n",
      "        mailServer.starttls()\n",
      "        mailServer.ehlo()\n",
      "        mailServer.login('elizabethjbecket@gmail.com','fakeemailpassword')\n",
      "        mailServer.sendmail('elizabethjbecket@gmail.com', to, msg.as_string())\n",
      "        # Should be mailServer.quit(), but that crashes...\n",
      "        mailServer.close()"
     ],
     "language": "python",
     "metadata": {},
     "outputs": [],
     "prompt_number": 67
    },
    {
     "cell_type": "code",
     "collapsed": false,
     "input": [
      "# Function to make it easy to run queries on this mini-database\n",
      "def run(query):\n",
      "    results = pd.read_sql(\"{}\".format(query), con).fillna(0)\n",
      "    return results"
     ],
     "language": "python",
     "metadata": {},
     "outputs": [],
     "prompt_number": 68
    },
    {
     "cell_type": "code",
     "collapsed": false,
     "input": [
      "# actual query\n",
      "df1 = run('''\n",
      "    SELECT\n",
      "        M.last_name,\n",
      "        first_name ||  ' ' || last_name as Salesperson,\n",
      "        COUNT(*) as Cars_Sold,\n",
      "        sum(revenue)\n",
      "    FROM\n",
      "        sales_table S\n",
      "        JOIN salesman_table M ON S.salesman_id = M.id\n",
      "    GROUP BY \n",
      "        Salesperson\n",
      "    ORDER BY\n",
      "        Cars_Sold DESC\n",
      "    ''') \n",
      "df_html = html_prep(df1[['Salesperson','Cars_Sold']].to_html(index=False))"
     ],
     "language": "python",
     "metadata": {},
     "outputs": [],
     "prompt_number": 288
    },
    {
     "cell_type": "code",
     "collapsed": false,
     "input": [
      "# visualize results\n",
      "sns.set_style('white')\n",
      "sns.set_context('notebook')\n",
      "plot = df1.plot(\n",
      "    x = 'Salesperson',\n",
      "    y = 'Cars_Sold', \n",
      "    kind='barh', \n",
      "    linewidth = 0,\n",
      "    colormap = 'Paired',\n",
      "    grid = False,\n",
      "    xticks = [1,3,5,7,9,11,13,15],\n",
      "    fontsize = 13,\n",
      "    style = 'bms'\n",
      "    )\n",
      "plot.set_xlabel('Cars Sold')\n",
      "sns.despine()\n",
      "image_path = 'test.png'\n",
      "savefig(image_path, bbox_inches='tight')\n",
      "new_cid = to_cid(image_path)\n",
      "image_list.append(to_image(image_path))"
     ],
     "language": "python",
     "metadata": {},
     "outputs": [
      {
       "metadata": {},
       "output_type": "display_data",
       "png": "[encoded data removed]",
       "text": [
        "<matplotlib.figure.Figure at 0x10e8a0c50>"
       ]
      }
     ],
     "prompt_number": 289
    },
    {
     "cell_type": "code",
     "collapsed": false,
     "input": [
      "top_seller = df1.last_name[0]"
     ],
     "language": "python",
     "metadata": {},
     "outputs": [],
     "prompt_number": 71
    },
    {
     "cell_type": "code",
     "collapsed": false,
     "input": [
      "top_seller_df = run('''\n",
      "    SELECT\n",
      "        salesman_id,\n",
      "        first_name ||  ' ' || last_name as Top_Seller,\n",
      "        round(avg(revenue), 2) Rev_per_Sale,\n",
      "        1 - round(avg(revenue/sticker_price), 3) Avg_Customer_Discount,\n",
      "        sum(revenue) Total_Revenue\n",
      "    FROM\n",
      "        sales_table S\n",
      "        JOIN salesman_table M on S.salesman_id = M.id\n",
      "        JOIN car_table C on S.model_id = C.model_id\n",
      "    WHERE\n",
      "        last_name = '{}'\n",
      "'''.format(top_seller))"
     ],
     "language": "python",
     "metadata": {},
     "outputs": [],
     "prompt_number": 277
    },
    {
     "cell_type": "code",
     "collapsed": false,
     "input": [
      "all_others = run('''\n",
      "    SELECT\n",
      "        revenue as Rev_per_Sale,\n",
      "        1-revenue/sticker_price as Avg_Customer_Discount\n",
      "    FROM\n",
      "        sales_table S\n",
      "        JOIN salesman_table M on S.salesman_id = M.id\n",
      "        JOIN car_table C on S.model_id = C.model_id\n",
      "    WHERE\n",
      "        last_name != '{}'\n",
      "        \n",
      "'''.format(top_seller))"
     ],
     "language": "python",
     "metadata": {},
     "outputs": [],
     "prompt_number": 200
    },
    {
     "cell_type": "code",
     "collapsed": false,
     "input": [
      "stdev = all_others.Avg_Customer_Discount.std().round(3)\n",
      "mean = all_others.Avg_Customer_Discount.mean().round(3)\n",
      "top_seller_discount = round(top_seller_df.Avg_Customer_Discount.item(), 3)\n",
      "print('The mean discount given to customers is', \n",
      "                   mean,'with a', stdev, 'standard deviation.' \n",
      "                   ' {} has been giving customers a'.format(top_seller_df.Top_Seller.item()), top_seller_discount ,\n",
      "                   'discount to customers, which is', round(top_seller_discount/stdev, 2), \n",
      "                   'standard deviations from the mean. Action is advised.')\n"
     ],
     "language": "python",
     "metadata": {},
     "outputs": [
      {
       "output_type": "stream",
       "stream": "stdout",
       "text": [
        "The mean discount given to customers is 0.13 with a 0.074 standard deviation. Jared Case has been giving customers a 0.154 discount to customers, which is 2.08 standard deviations from the mean. Action is advised.\n"
       ]
      }
     ],
     "prompt_number": 270
    },
    {
     "cell_type": "code",
     "collapsed": false,
     "input": [
      "if top_seller_discount/stdev >= 2:\n",
      "    pass\n",
      "else:\n",
      "    sys.exit()"
     ],
     "language": "python",
     "metadata": {},
     "outputs": [],
     "prompt_number": 276
    },
    {
     "cell_type": "code",
     "collapsed": false,
     "input": [
      "stat_report = pd.DataFrame({'{}'.format(top_seller_df.Top_Seller.item()) : pd.Series([top_seller_discount]),\n",
      "                           'Mean' : pd.Series([mean]),\n",
      "                           'Standard Deviation' : pd.Series([stdev]),\n",
      "                           'Deviations from the Mean' : pd.Series([top_seller_discount/stdev])})"
     ],
     "language": "python",
     "metadata": {},
     "outputs": [],
     "prompt_number": 300
    },
    {
     "cell_type": "code",
     "collapsed": false,
     "input": [
      "cols = ['Jared Case', 'Mean', 'Standard Deviation', 'Deviations from the Mean']"
     ],
     "language": "python",
     "metadata": {},
     "outputs": [],
     "prompt_number": 304
    },
    {
     "cell_type": "code",
     "collapsed": false,
     "input": [
      "stat_report = stat_report[cols]"
     ],
     "language": "python",
     "metadata": {},
     "outputs": [],
     "prompt_number": 305
    },
    {
     "cell_type": "code",
     "collapsed": false,
     "input": [
      "report_html = html_prep(stat_report.to_html(index=False))"
     ],
     "language": "python",
     "metadata": {},
     "outputs": [],
     "prompt_number": 307
    },
    {
     "cell_type": "code",
     "collapsed": false,
     "input": [
      "HTML(report_html)"
     ],
     "language": "python",
     "metadata": {},
     "outputs": [
      {
       "html": [
        "<table border=\"1\" class=\"dataframe\">\n",
        "  <thead>\n",
        "    <tr style=\"text-align: right;\">\n",
        "      <th>Jared Case</th>\n",
        "      <th>Mean</th>\n",
        "      <th>Standard Deviation</th>\n",
        "      <th>Deviations from the Mean</th>\n",
        "    </tr>\n",
        "  </thead>\n",
        "  <tbody>\n",
        "    <tr>\n",
        "      <td> 0.154</td>\n",
        "      <td> 0.13</td>\n",
        "      <td> 0.074</td>\n",
        "      <td> 2.081081</td>\n",
        "    </tr>\n",
        "  </tbody>\n",
        "</table>"
       ],
       "metadata": {},
       "output_type": "pyout",
       "prompt_number": 308,
       "text": [
        "<IPython.core.display.HTML at 0x10e902828>"
       ]
      }
     ],
     "prompt_number": 308
    },
    {
     "cell_type": "code",
     "collapsed": false,
     "input": [
      "# now for a multiple regression analysis\n",
      "# because data are randomly generated, statistical significance will be extremely low \n",
      "seller0 = df1.last_name[0]\n",
      "seller1 = df1.last_name[1]\n",
      "seller2 = df1.last_name[2]\n",
      "seller3 = df1.last_name[3]\n",
      "seller4 = df1.last_name[4]"
     ],
     "language": "python",
     "metadata": {},
     "outputs": [],
     "prompt_number": 106
    },
    {
     "cell_type": "code",
     "collapsed": false,
     "input": [
      "# query with all factors we want to consider in the regression analysis\n",
      "sales_table = run('''\n",
      "    SELECT \n",
      "        date,\n",
      "        revenue,\n",
      "        case when payment_type = 'cash' then 1 end Cash_Payment,\n",
      "        case when gender = 'male' then 1 end Male_Customer,\n",
      "        age as Age,\n",
      "        case when make = 'Toyota' then 1 end Toyota,\n",
      "        case when make = 'Subaru' then 1 end Subaru,\n",
      "        case when last_name = '{seller0}' then 1 end '{seller0}',\n",
      "        case when last_name = '{seller1}' then 1 end {seller1},\n",
      "        case when last_name = '{seller2}' then 1 end {seller2},\n",
      "        case when last_name = '{seller3}' then 1 end {seller3},\n",
      "        case when last_name = '{seller4}' then 1 end {seller4}\n",
      "    FROM\n",
      "        sales_table S\n",
      "        JOIN car_table C on S.model_id = C.model_id\n",
      "        JOIN cust_table CUST on CUST.customer_id = S.customer_id\n",
      "        JOIN salesman_table M on S.salesman_id = M.id\n",
      "'''.format(seller0=seller0, seller1=seller1, seller2=seller2, seller3=seller3,seller4=seller4))"
     ],
     "language": "python",
     "metadata": {},
     "outputs": [],
     "prompt_number": 168
    },
    {
     "cell_type": "code",
     "collapsed": false,
     "input": [
      "date_df = sales_table.groupby('date').sum()"
     ],
     "language": "python",
     "metadata": {},
     "outputs": [],
     "prompt_number": 169
    },
    {
     "cell_type": "code",
     "collapsed": false,
     "input": [
      "X = date_df[['Cash_Payment', 'Male_Customer', 'Age', 'Toyota', 'Subaru', '%s' % seller0, '%s' % seller1, '%s' % seller2, '%s' % seller3,\n",
      "             '%s' % seller4]]\n",
      "y = date_df['revenue']"
     ],
     "language": "python",
     "metadata": {},
     "outputs": [],
     "prompt_number": 170
    },
    {
     "cell_type": "code",
     "collapsed": false,
     "input": [
      "X = sm.add_constant(X)\n",
      "results = sm.OLS(y, X).fit()\n",
      "\n",
      "mr_analysis = html_prep(results.summary().as_html())"
     ],
     "language": "python",
     "metadata": {},
     "outputs": [],
     "prompt_number": 178
    },
    {
     "cell_type": "code",
     "collapsed": false,
     "input": [
      "HTML(mr_analysis)"
     ],
     "language": "python",
     "metadata": {},
     "outputs": [
      {
       "html": [
        "<table class=\"simpletable\">\n",
        "<caption>OLS Regression Results</caption>\n",
        "<tr>\n",
        "  <th>Dep. Variable:</th>         <td>revenue</td>     <th>  R-squared:         </th> <td>   0.942</td>\n",
        "</tr>\n",
        "<tr>\n",
        "  <th>Model:</th>                   <td>OLS</td>       <th>  Adj. R-squared:    </th> <td>   0.910</td>\n",
        "</tr>\n",
        "<tr>\n",
        "  <th>Method:</th>             <td>Least Squares</td>  <th>  F-statistic:       </th> <td>   29.18</td>\n",
        "</tr>\n",
        "<tr>\n",
        "  <th>Date:</th>             <td>Thu, 05 Mar 2015</td> <th>  Prob (F-statistic):</th> <td>4.35e-09</td>\n",
        "</tr>\n",
        "<tr>\n",
        "  <th>Time:</th>                 <td>10:20:13</td>     <th>  Log-Likelihood:    </th> <td> -299.97</td>\n",
        "</tr>\n",
        "<tr>\n",
        "  <th>No. Observations:</th>      <td>    29</td>      <th>  AIC:               </th> <td>   621.9</td>\n",
        "</tr>\n",
        "<tr>\n",
        "  <th>Df Residuals:</th>          <td>    18</td>      <th>  BIC:               </th> <td>   637.0</td>\n",
        "</tr>\n",
        "<tr>\n",
        "  <th>Df Model:</th>              <td>    10</td>      <th>                     </th>     <td> </td>   \n",
        "</tr>\n",
        "</table>\n",
        "<table class=\"simpletable\">\n",
        "<tr>\n",
        "        <td></td>           <th>coef</th>     <th>std err</th>      <th>t</th>      <th>P>|t|</th> <th>[95.0% Conf. Int.]</th> \n",
        "</tr>\n",
        "<tr>\n",
        "  <th>const</th>         <td> 6379.7470</td> <td> 4862.512</td> <td>    1.312</td> <td> 0.206</td> <td>-3836.011  1.66e+04</td>\n",
        "</tr>\n",
        "<tr>\n",
        "  <th>Cash Payment</th>  <td> 2538.6395</td> <td> 3267.185</td> <td>    0.777</td> <td> 0.447</td> <td>-4325.462  9402.741</td>\n",
        "</tr>\n",
        "<tr>\n",
        "  <th>Male Customer</th> <td> 1374.2896</td> <td> 2225.105</td> <td>    0.618</td> <td> 0.545</td> <td>-3300.482  6049.062</td>\n",
        "</tr>\n",
        "<tr>\n",
        "  <th>Age</th>           <td>  213.9769</td> <td>   67.032</td> <td>    3.192</td> <td> 0.005</td> <td>   73.148   354.806</td>\n",
        "</tr>\n",
        "<tr>\n",
        "  <th>Toyota</th>        <td> 7183.8143</td> <td> 2347.486</td> <td>    3.060</td> <td> 0.007</td> <td> 2251.929  1.21e+04</td>\n",
        "</tr>\n",
        "<tr>\n",
        "  <th>Subaru</th>        <td> 1.003e+04</td> <td> 3328.096</td> <td>    3.014</td> <td> 0.007</td> <td> 3039.368   1.7e+04</td>\n",
        "</tr>\n",
        "<tr>\n",
        "  <th>Case</th>          <td>  393.5815</td> <td> 3182.790</td> <td>    0.124</td> <td> 0.903</td> <td>-6293.212  7080.375</td>\n",
        "</tr>\n",
        "<tr>\n",
        "  <th>Hatch</th>         <td>-2661.7417</td> <td> 4604.299</td> <td>   -0.578</td> <td> 0.570</td> <td>-1.23e+04  7011.532</td>\n",
        "</tr>\n",
        "<tr>\n",
        "  <th>Hill</th>          <td> 6258.0356</td> <td> 3382.020</td> <td>    1.850</td> <td> 0.081</td> <td> -847.324  1.34e+04</td>\n",
        "</tr>\n",
        "<tr>\n",
        "  <th>Self</th>          <td> 2567.4752</td> <td> 4453.775</td> <td>    0.576</td> <td> 0.571</td> <td>-6789.558  1.19e+04</td>\n",
        "</tr>\n",
        "<tr>\n",
        "  <th>Elzy</th>          <td> 2310.8865</td> <td> 5592.478</td> <td>    0.413</td> <td> 0.684</td> <td>-9438.475  1.41e+04</td>\n",
        "</tr>\n",
        "</table>\n",
        "<table class=\"simpletable\">\n",
        "<tr>\n",
        "  <th>Omnibus:</th>       <td> 6.172</td> <th>  Durbin-Watson:     </th> <td>   2.066</td>\n",
        "</tr>\n",
        "<tr>\n",
        "  <th>Prob(Omnibus):</th> <td> 0.046</td> <th>  Jarque-Bera (JB):  </th> <td>   4.422</td>\n",
        "</tr>\n",
        "<tr>\n",
        "  <th>Skew:</th>          <td>-0.879</td> <th>  Prob(JB):          </th> <td>   0.110</td>\n",
        "</tr>\n",
        "<tr>\n",
        "  <th>Kurtosis:</th>      <td> 3.752</td> <th>  Cond. No.          </th> <td>    540.</td>\n",
        "</tr>\n",
        "</table>"
       ],
       "metadata": {},
       "output_type": "pyout",
       "prompt_number": 179,
       "text": [
        "<IPython.core.display.HTML at 0x110436390>"
       ]
      }
     ],
     "prompt_number": 179
    },
    {
     "cell_type": "code",
     "collapsed": false,
     "input": [
      "customer_bias = run('''\n",
      "    SELECT\n",
      "        CASE WHEN age BETWEEN 18 AND 24 THEN '18-24 years'\n",
      "             WHEN age BETWEEN 25 AND 34 THEN '25-34 years'\n",
      "             WHEN age BETWEEN 35 AND 44 THEN '35-45 years'\n",
      "             WHEN age BETWEEN 45 AND 54 THEN '45-54 years'\n",
      "             WHEN age BETWEEN 55 AND 64 THEN '55-64 years'\n",
      "             END Age_Group,\n",
      "        COUNT(*) as Customers\n",
      "    FROM\n",
      "        cust_table\n",
      "    WHERE\n",
      "        salesman_id = \n",
      "    GROUP BY\n",
      "        Age_Group\n",
      "    ''')"
     ],
     "language": "python",
     "metadata": {},
     "outputs": []
    },
    {
     "cell_type": "code",
     "collapsed": false,
     "input": [
      "# some simple CSS to make the tables look cleaner in the email we'll be sending out\n",
      "css_header = '<html>\\n <head>\\n <style>\\n table, td, th\\n {\\n border:2px solid #f7f7f7;\\n }\\n th\\n {\\n background-color:#4b63e3;\\n color:white;\\n }\\n table\\n {\\n border-collapse:collapse;\\n }\\n td, th\\n {\\n padding:3px;\\n }\\n td\\n {\\n font:12px arial,sans-serif;\\n }\\n th\\n {\\n font: 13px arial,sans-serif;\\n }\\n td\\n {\\n text-align:center;\\n }\\n th\\n {\\n text-align:left;\\n }\\n </style>\\n </head>\\n <body>'\n",
      "css_footer = '</body>\\n </html>'"
     ],
     "language": "python",
     "metadata": {},
     "outputs": [],
     "prompt_number": 181
    },
    {
     "cell_type": "code",
     "collapsed": false,
     "input": [
      "header = '<font size=\"3\"><b>Salesperson Report</b></font> <br>'\n",
      "cust_discount = '<font size=\"2\"><b>Negotiation Practices indicated by average customer discounts:</b></font><br>'"
     ],
     "language": "python",
     "metadata": {},
     "outputs": [],
     "prompt_number": 317
    },
    {
     "cell_type": "code",
     "collapsed": false,
     "input": [
      "to_email = transform(css_header + header + cust_discount + report_html + df_html + new_cid + mr_analysis + css_footer)"
     ],
     "language": "python",
     "metadata": {},
     "outputs": [],
     "prompt_number": 320
    },
    {
     "cell_type": "code",
     "collapsed": false,
     "input": [
      "HTML(to_email)"
     ],
     "language": "python",
     "metadata": {},
     "outputs": [
      {
       "html": [
        "<html>\n",
        " <head>\n",
        " </head>\n",
        " <body>\n",
        "<font size=\"3\"><b>Salesperson Report</b></font> <br><font size=\"2\"><b>Negotiation Practices indicated by average customer discounts:</b></font><br><table border=\"1\" style=\"border:2px solid #f7f7f7; border-collapse:collapse\">\n",
        "  <thead>\n",
        "    <tr style=\"text-align: right;\">\n",
        "      <th style=\"background-color:#4b63e3; border:2px solid #f7f7f7; color:white; font:13px arial, sans-serif; padding:3px; text-align:left\" bgcolor=\"#4b63e3\" align=\"left\">Jared Case</th>\n",
        "      <th style=\"background-color:#4b63e3; border:2px solid #f7f7f7; color:white; font:13px arial, sans-serif; padding:3px; text-align:left\" bgcolor=\"#4b63e3\" align=\"left\">Mean</th>\n",
        "      <th style=\"background-color:#4b63e3; border:2px solid #f7f7f7; color:white; font:13px arial, sans-serif; padding:3px; text-align:left\" bgcolor=\"#4b63e3\" align=\"left\">Standard Deviation</th>\n",
        "      <th style=\"background-color:#4b63e3; border:2px solid #f7f7f7; color:white; font:13px arial, sans-serif; padding:3px; text-align:left\" bgcolor=\"#4b63e3\" align=\"left\">Deviations from the Mean</th>\n",
        "    </tr>\n",
        "  </thead>\n",
        "  <tbody>\n",
        "    <tr>\n",
        "      <td style=\"border:2px solid #f7f7f7; font:12px arial, sans-serif; padding:3px; text-align:center\" align=\"center\"> 0.154</td>\n",
        "      <td style=\"border:2px solid #f7f7f7; font:12px arial, sans-serif; padding:3px; text-align:center\" align=\"center\"> 0.13</td>\n",
        "      <td style=\"border:2px solid #f7f7f7; font:12px arial, sans-serif; padding:3px; text-align:center\" align=\"center\"> 0.074</td>\n",
        "      <td style=\"border:2px solid #f7f7f7; font:12px arial, sans-serif; padding:3px; text-align:center\" align=\"center\"> 2.081081</td>\n",
        "    </tr>\n",
        "  </tbody>\n",
        "</table>\n",
        "<table border=\"1\" style=\"border:2px solid #f7f7f7; border-collapse:collapse\">\n",
        "  <thead>\n",
        "    <tr style=\"text-align: right;\">\n",
        "      <th style=\"background-color:#4b63e3; border:2px solid #f7f7f7; color:white; font:13px arial, sans-serif; padding:3px; text-align:left\" bgcolor=\"#4b63e3\" align=\"left\">Salesperson</th>\n",
        "      <th style=\"background-color:#4b63e3; border:2px solid #f7f7f7; color:white; font:13px arial, sans-serif; padding:3px; text-align:left\" bgcolor=\"#4b63e3\" align=\"left\">Cars Sold</th>\n",
        "    </tr>\n",
        "  </thead>\n",
        "  <tbody>\n",
        "    <tr>\n",
        "      <td style=\"border:2px solid #f7f7f7; font:12px arial, sans-serif; padding:3px; text-align:center\" align=\"center\">        Jared Case</td>\n",
        "      <td style=\"border:2px solid #f7f7f7; font:12px arial, sans-serif; padding:3px; text-align:center\" align=\"center\"> 14</td>\n",
        "    </tr>\n",
        "    <tr>\n",
        "      <td style=\"border:2px solid #f7f7f7; font:12px arial, sans-serif; padding:3px; text-align:center\" align=\"center\">    Claudine Hatch</td>\n",
        "      <td style=\"border:2px solid #f7f7f7; font:12px arial, sans-serif; padding:3px; text-align:center\" align=\"center\"> 11</td>\n",
        "    </tr>\n",
        "    <tr>\n",
        "      <td style=\"border:2px solid #f7f7f7; font:12px arial, sans-serif; padding:3px; text-align:center\" align=\"center\">      Michael Hill</td>\n",
        "      <td style=\"border:2px solid #f7f7f7; font:12px arial, sans-serif; padding:3px; text-align:center\" align=\"center\"> 11</td>\n",
        "    </tr>\n",
        "    <tr>\n",
        "      <td style=\"border:2px solid #f7f7f7; font:12px arial, sans-serif; padding:3px; text-align:center\" align=\"center\">    Rosemarie Self</td>\n",
        "      <td style=\"border:2px solid #f7f7f7; font:12px arial, sans-serif; padding:3px; text-align:center\" align=\"center\"> 11</td>\n",
        "    </tr>\n",
        "    <tr>\n",
        "      <td style=\"border:2px solid #f7f7f7; font:12px arial, sans-serif; padding:3px; text-align:center\" align=\"center\">        Elton Elzy</td>\n",
        "      <td style=\"border:2px solid #f7f7f7; font:12px arial, sans-serif; padding:3px; text-align:center\" align=\"center\"> 10</td>\n",
        "    </tr>\n",
        "    <tr>\n",
        "      <td style=\"border:2px solid #f7f7f7; font:12px arial, sans-serif; padding:3px; text-align:center\" align=\"center\">      Matthew Luna</td>\n",
        "      <td style=\"border:2px solid #f7f7f7; font:12px arial, sans-serif; padding:3px; text-align:center\" align=\"center\"> 10</td>\n",
        "    </tr>\n",
        "    <tr>\n",
        "      <td style=\"border:2px solid #f7f7f7; font:12px arial, sans-serif; padding:3px; text-align:center\" align=\"center\">      Joseph Seney</td>\n",
        "      <td style=\"border:2px solid #f7f7f7; font:12px arial, sans-serif; padding:3px; text-align:center\" align=\"center\">  9</td>\n",
        "    </tr>\n",
        "    <tr>\n",
        "      <td style=\"border:2px solid #f7f7f7; font:12px arial, sans-serif; padding:3px; text-align:center\" align=\"center\"> Justin Avellaneda</td>\n",
        "      <td style=\"border:2px solid #f7f7f7; font:12px arial, sans-serif; padding:3px; text-align:center\" align=\"center\">  9</td>\n",
        "    </tr>\n",
        "    <tr>\n",
        "      <td style=\"border:2px solid #f7f7f7; font:12px arial, sans-serif; padding:3px; text-align:center\" align=\"center\">  Samantha Douglas</td>\n",
        "      <td style=\"border:2px solid #f7f7f7; font:12px arial, sans-serif; padding:3px; text-align:center\" align=\"center\">  8</td>\n",
        "    </tr>\n",
        "    <tr>\n",
        "      <td style=\"border:2px solid #f7f7f7; font:12px arial, sans-serif; padding:3px; text-align:center\" align=\"center\">    Kathleen March</td>\n",
        "      <td style=\"border:2px solid #f7f7f7; font:12px arial, sans-serif; padding:3px; text-align:center\" align=\"center\">  7</td>\n",
        "    </tr>\n",
        "  </tbody>\n",
        "</table>\n",
        "<img src=\"cid:test.png\"><table style=\"border:2px solid #f7f7f7; border-collapse:collapse\">\n",
        "<caption>OLS Regression Results</caption>\n",
        "<tr>\n",
        "  <th style=\"background-color:#4b63e3; border:2px solid #f7f7f7; color:white; font:13px arial, sans-serif; padding:3px; text-align:left\" bgcolor=\"#4b63e3\" align=\"left\">Dep. Variable:</th>         <td style=\"border:2px solid #f7f7f7; font:12px arial, sans-serif; padding:3px; text-align:center\" align=\"center\">revenue</td>     <th style=\"background-color:#4b63e3; border:2px solid #f7f7f7; color:white; font:13px arial, sans-serif; padding:3px; text-align:left\" bgcolor=\"#4b63e3\" align=\"left\">  R-squared:         </th> <td style=\"border:2px solid #f7f7f7; font:12px arial, sans-serif; padding:3px; text-align:center\" align=\"center\">   0.942</td>\n",
        "</tr>\n",
        "<tr>\n",
        "  <th style=\"background-color:#4b63e3; border:2px solid #f7f7f7; color:white; font:13px arial, sans-serif; padding:3px; text-align:left\" bgcolor=\"#4b63e3\" align=\"left\">Model:</th>                   <td style=\"border:2px solid #f7f7f7; font:12px arial, sans-serif; padding:3px; text-align:center\" align=\"center\">OLS</td>       <th style=\"background-color:#4b63e3; border:2px solid #f7f7f7; color:white; font:13px arial, sans-serif; padding:3px; text-align:left\" bgcolor=\"#4b63e3\" align=\"left\">  Adj. R-squared:    </th> <td style=\"border:2px solid #f7f7f7; font:12px arial, sans-serif; padding:3px; text-align:center\" align=\"center\">   0.910</td>\n",
        "</tr>\n",
        "<tr>\n",
        "  <th style=\"background-color:#4b63e3; border:2px solid #f7f7f7; color:white; font:13px arial, sans-serif; padding:3px; text-align:left\" bgcolor=\"#4b63e3\" align=\"left\">Method:</th>             <td style=\"border:2px solid #f7f7f7; font:12px arial, sans-serif; padding:3px; text-align:center\" align=\"center\">Least Squares</td>  <th style=\"background-color:#4b63e3; border:2px solid #f7f7f7; color:white; font:13px arial, sans-serif; padding:3px; text-align:left\" bgcolor=\"#4b63e3\" align=\"left\">  F-statistic:       </th> <td style=\"border:2px solid #f7f7f7; font:12px arial, sans-serif; padding:3px; text-align:center\" align=\"center\">   29.18</td>\n",
        "</tr>\n",
        "<tr>\n",
        "  <th style=\"background-color:#4b63e3; border:2px solid #f7f7f7; color:white; font:13px arial, sans-serif; padding:3px; text-align:left\" bgcolor=\"#4b63e3\" align=\"left\">Date:</th>             <td style=\"border:2px solid #f7f7f7; font:12px arial, sans-serif; padding:3px; text-align:center\" align=\"center\">Thu, 05 Mar 2015</td> <th style=\"background-color:#4b63e3; border:2px solid #f7f7f7; color:white; font:13px arial, sans-serif; padding:3px; text-align:left\" bgcolor=\"#4b63e3\" align=\"left\">  Prob (F-statistic):</th> <td style=\"border:2px solid #f7f7f7; font:12px arial, sans-serif; padding:3px; text-align:center\" align=\"center\">4.35e-09</td>\n",
        "</tr>\n",
        "<tr>\n",
        "  <th style=\"background-color:#4b63e3; border:2px solid #f7f7f7; color:white; font:13px arial, sans-serif; padding:3px; text-align:left\" bgcolor=\"#4b63e3\" align=\"left\">Time:</th>                 <td style=\"border:2px solid #f7f7f7; font:12px arial, sans-serif; padding:3px; text-align:center\" align=\"center\">10:20:13</td>     <th style=\"background-color:#4b63e3; border:2px solid #f7f7f7; color:white; font:13px arial, sans-serif; padding:3px; text-align:left\" bgcolor=\"#4b63e3\" align=\"left\">  Log-Likelihood:    </th> <td style=\"border:2px solid #f7f7f7; font:12px arial, sans-serif; padding:3px; text-align:center\" align=\"center\"> -299.97</td>\n",
        "</tr>\n",
        "<tr>\n",
        "  <th style=\"background-color:#4b63e3; border:2px solid #f7f7f7; color:white; font:13px arial, sans-serif; padding:3px; text-align:left\" bgcolor=\"#4b63e3\" align=\"left\">No. Observations:</th>      <td style=\"border:2px solid #f7f7f7; font:12px arial, sans-serif; padding:3px; text-align:center\" align=\"center\">    29</td>      <th style=\"background-color:#4b63e3; border:2px solid #f7f7f7; color:white; font:13px arial, sans-serif; padding:3px; text-align:left\" bgcolor=\"#4b63e3\" align=\"left\">  AIC:               </th> <td style=\"border:2px solid #f7f7f7; font:12px arial, sans-serif; padding:3px; text-align:center\" align=\"center\">   621.9</td>\n",
        "</tr>\n",
        "<tr>\n",
        "  <th style=\"background-color:#4b63e3; border:2px solid #f7f7f7; color:white; font:13px arial, sans-serif; padding:3px; text-align:left\" bgcolor=\"#4b63e3\" align=\"left\">Df Residuals:</th>          <td style=\"border:2px solid #f7f7f7; font:12px arial, sans-serif; padding:3px; text-align:center\" align=\"center\">    18</td>      <th style=\"background-color:#4b63e3; border:2px solid #f7f7f7; color:white; font:13px arial, sans-serif; padding:3px; text-align:left\" bgcolor=\"#4b63e3\" align=\"left\">  BIC:               </th> <td style=\"border:2px solid #f7f7f7; font:12px arial, sans-serif; padding:3px; text-align:center\" align=\"center\">   637.0</td>\n",
        "</tr>\n",
        "<tr>\n",
        "  <th style=\"background-color:#4b63e3; border:2px solid #f7f7f7; color:white; font:13px arial, sans-serif; padding:3px; text-align:left\" bgcolor=\"#4b63e3\" align=\"left\">Df Model:</th>              <td style=\"border:2px solid #f7f7f7; font:12px arial, sans-serif; padding:3px; text-align:center\" align=\"center\">    10</td>      <th style=\"background-color:#4b63e3; border:2px solid #f7f7f7; color:white; font:13px arial, sans-serif; padding:3px; text-align:left\" bgcolor=\"#4b63e3\" align=\"left\">                     </th>     <td style=\"border:2px solid #f7f7f7; font:12px arial, sans-serif; padding:3px; text-align:center\" align=\"center\"> </td>   \n",
        "</tr>\n",
        "</table>\n",
        "<table style=\"border:2px solid #f7f7f7; border-collapse:collapse\">\n",
        "<tr>\n",
        "        <td style=\"border:2px solid #f7f7f7; font:12px arial, sans-serif; padding:3px; text-align:center\" align=\"center\"></td>           <th style=\"background-color:#4b63e3; border:2px solid #f7f7f7; color:white; font:13px arial, sans-serif; padding:3px; text-align:left\" bgcolor=\"#4b63e3\" align=\"left\">coef</th>     <th style=\"background-color:#4b63e3; border:2px solid #f7f7f7; color:white; font:13px arial, sans-serif; padding:3px; text-align:left\" bgcolor=\"#4b63e3\" align=\"left\">std err</th>      <th style=\"background-color:#4b63e3; border:2px solid #f7f7f7; color:white; font:13px arial, sans-serif; padding:3px; text-align:left\" bgcolor=\"#4b63e3\" align=\"left\">t</th>      <th style=\"background-color:#4b63e3; border:2px solid #f7f7f7; color:white; font:13px arial, sans-serif; padding:3px; text-align:left\" bgcolor=\"#4b63e3\" align=\"left\">P&gt;|t|</th> <th style=\"background-color:#4b63e3; border:2px solid #f7f7f7; color:white; font:13px arial, sans-serif; padding:3px; text-align:left\" bgcolor=\"#4b63e3\" align=\"left\">[95.0% Conf. Int.]</th> \n",
        "</tr>\n",
        "<tr>\n",
        "  <th style=\"background-color:#4b63e3; border:2px solid #f7f7f7; color:white; font:13px arial, sans-serif; padding:3px; text-align:left\" bgcolor=\"#4b63e3\" align=\"left\">const</th>         <td style=\"border:2px solid #f7f7f7; font:12px arial, sans-serif; padding:3px; text-align:center\" align=\"center\"> 6379.7470</td> <td style=\"border:2px solid #f7f7f7; font:12px arial, sans-serif; padding:3px; text-align:center\" align=\"center\"> 4862.512</td> <td style=\"border:2px solid #f7f7f7; font:12px arial, sans-serif; padding:3px; text-align:center\" align=\"center\">    1.312</td> <td style=\"border:2px solid #f7f7f7; font:12px arial, sans-serif; padding:3px; text-align:center\" align=\"center\"> 0.206</td> <td style=\"border:2px solid #f7f7f7; font:12px arial, sans-serif; padding:3px; text-align:center\" align=\"center\">-3836.011  1.66e+04</td>\n",
        "</tr>\n",
        "<tr>\n",
        "  <th style=\"background-color:#4b63e3; border:2px solid #f7f7f7; color:white; font:13px arial, sans-serif; padding:3px; text-align:left\" bgcolor=\"#4b63e3\" align=\"left\">Cash Payment</th>  <td style=\"border:2px solid #f7f7f7; font:12px arial, sans-serif; padding:3px; text-align:center\" align=\"center\"> 2538.6395</td> <td style=\"border:2px solid #f7f7f7; font:12px arial, sans-serif; padding:3px; text-align:center\" align=\"center\"> 3267.185</td> <td style=\"border:2px solid #f7f7f7; font:12px arial, sans-serif; padding:3px; text-align:center\" align=\"center\">    0.777</td> <td style=\"border:2px solid #f7f7f7; font:12px arial, sans-serif; padding:3px; text-align:center\" align=\"center\"> 0.447</td> <td style=\"border:2px solid #f7f7f7; font:12px arial, sans-serif; padding:3px; text-align:center\" align=\"center\">-4325.462  9402.741</td>\n",
        "</tr>\n",
        "<tr>\n",
        "  <th style=\"background-color:#4b63e3; border:2px solid #f7f7f7; color:white; font:13px arial, sans-serif; padding:3px; text-align:left\" bgcolor=\"#4b63e3\" align=\"left\">Male Customer</th> <td style=\"border:2px solid #f7f7f7; font:12px arial, sans-serif; padding:3px; text-align:center\" align=\"center\"> 1374.2896</td> <td style=\"border:2px solid #f7f7f7; font:12px arial, sans-serif; padding:3px; text-align:center\" align=\"center\"> 2225.105</td> <td style=\"border:2px solid #f7f7f7; font:12px arial, sans-serif; padding:3px; text-align:center\" align=\"center\">    0.618</td> <td style=\"border:2px solid #f7f7f7; font:12px arial, sans-serif; padding:3px; text-align:center\" align=\"center\"> 0.545</td> <td style=\"border:2px solid #f7f7f7; font:12px arial, sans-serif; padding:3px; text-align:center\" align=\"center\">-3300.482  6049.062</td>\n",
        "</tr>\n",
        "<tr>\n",
        "  <th style=\"background-color:#4b63e3; border:2px solid #f7f7f7; color:white; font:13px arial, sans-serif; padding:3px; text-align:left\" bgcolor=\"#4b63e3\" align=\"left\">Age</th>           <td style=\"border:2px solid #f7f7f7; font:12px arial, sans-serif; padding:3px; text-align:center\" align=\"center\">  213.9769</td> <td style=\"border:2px solid #f7f7f7; font:12px arial, sans-serif; padding:3px; text-align:center\" align=\"center\">   67.032</td> <td style=\"border:2px solid #f7f7f7; font:12px arial, sans-serif; padding:3px; text-align:center\" align=\"center\">    3.192</td> <td style=\"border:2px solid #f7f7f7; font:12px arial, sans-serif; padding:3px; text-align:center\" align=\"center\"> 0.005</td> <td style=\"border:2px solid #f7f7f7; font:12px arial, sans-serif; padding:3px; text-align:center\" align=\"center\">   73.148   354.806</td>\n",
        "</tr>\n",
        "<tr>\n",
        "  <th style=\"background-color:#4b63e3; border:2px solid #f7f7f7; color:white; font:13px arial, sans-serif; padding:3px; text-align:left\" bgcolor=\"#4b63e3\" align=\"left\">Toyota</th>        <td style=\"border:2px solid #f7f7f7; font:12px arial, sans-serif; padding:3px; text-align:center\" align=\"center\"> 7183.8143</td> <td style=\"border:2px solid #f7f7f7; font:12px arial, sans-serif; padding:3px; text-align:center\" align=\"center\"> 2347.486</td> <td style=\"border:2px solid #f7f7f7; font:12px arial, sans-serif; padding:3px; text-align:center\" align=\"center\">    3.060</td> <td style=\"border:2px solid #f7f7f7; font:12px arial, sans-serif; padding:3px; text-align:center\" align=\"center\"> 0.007</td> <td style=\"border:2px solid #f7f7f7; font:12px arial, sans-serif; padding:3px; text-align:center\" align=\"center\"> 2251.929  1.21e+04</td>\n",
        "</tr>\n",
        "<tr>\n",
        "  <th style=\"background-color:#4b63e3; border:2px solid #f7f7f7; color:white; font:13px arial, sans-serif; padding:3px; text-align:left\" bgcolor=\"#4b63e3\" align=\"left\">Subaru</th>        <td style=\"border:2px solid #f7f7f7; font:12px arial, sans-serif; padding:3px; text-align:center\" align=\"center\"> 1.003e+04</td> <td style=\"border:2px solid #f7f7f7; font:12px arial, sans-serif; padding:3px; text-align:center\" align=\"center\"> 3328.096</td> <td style=\"border:2px solid #f7f7f7; font:12px arial, sans-serif; padding:3px; text-align:center\" align=\"center\">    3.014</td> <td style=\"border:2px solid #f7f7f7; font:12px arial, sans-serif; padding:3px; text-align:center\" align=\"center\"> 0.007</td> <td style=\"border:2px solid #f7f7f7; font:12px arial, sans-serif; padding:3px; text-align:center\" align=\"center\"> 3039.368   1.7e+04</td>\n",
        "</tr>\n",
        "<tr>\n",
        "  <th style=\"background-color:#4b63e3; border:2px solid #f7f7f7; color:white; font:13px arial, sans-serif; padding:3px; text-align:left\" bgcolor=\"#4b63e3\" align=\"left\">Case</th>          <td style=\"border:2px solid #f7f7f7; font:12px arial, sans-serif; padding:3px; text-align:center\" align=\"center\">  393.5815</td> <td style=\"border:2px solid #f7f7f7; font:12px arial, sans-serif; padding:3px; text-align:center\" align=\"center\"> 3182.790</td> <td style=\"border:2px solid #f7f7f7; font:12px arial, sans-serif; padding:3px; text-align:center\" align=\"center\">    0.124</td> <td style=\"border:2px solid #f7f7f7; font:12px arial, sans-serif; padding:3px; text-align:center\" align=\"center\"> 0.903</td> <td style=\"border:2px solid #f7f7f7; font:12px arial, sans-serif; padding:3px; text-align:center\" align=\"center\">-6293.212  7080.375</td>\n",
        "</tr>\n",
        "<tr>\n",
        "  <th style=\"background-color:#4b63e3; border:2px solid #f7f7f7; color:white; font:13px arial, sans-serif; padding:3px; text-align:left\" bgcolor=\"#4b63e3\" align=\"left\">Hatch</th>         <td style=\"border:2px solid #f7f7f7; font:12px arial, sans-serif; padding:3px; text-align:center\" align=\"center\">-2661.7417</td> <td style=\"border:2px solid #f7f7f7; font:12px arial, sans-serif; padding:3px; text-align:center\" align=\"center\"> 4604.299</td> <td style=\"border:2px solid #f7f7f7; font:12px arial, sans-serif; padding:3px; text-align:center\" align=\"center\">   -0.578</td> <td style=\"border:2px solid #f7f7f7; font:12px arial, sans-serif; padding:3px; text-align:center\" align=\"center\"> 0.570</td> <td style=\"border:2px solid #f7f7f7; font:12px arial, sans-serif; padding:3px; text-align:center\" align=\"center\">-1.23e+04  7011.532</td>\n",
        "</tr>\n",
        "<tr>\n",
        "  <th style=\"background-color:#4b63e3; border:2px solid #f7f7f7; color:white; font:13px arial, sans-serif; padding:3px; text-align:left\" bgcolor=\"#4b63e3\" align=\"left\">Hill</th>          <td style=\"border:2px solid #f7f7f7; font:12px arial, sans-serif; padding:3px; text-align:center\" align=\"center\"> 6258.0356</td> <td style=\"border:2px solid #f7f7f7; font:12px arial, sans-serif; padding:3px; text-align:center\" align=\"center\"> 3382.020</td> <td style=\"border:2px solid #f7f7f7; font:12px arial, sans-serif; padding:3px; text-align:center\" align=\"center\">    1.850</td> <td style=\"border:2px solid #f7f7f7; font:12px arial, sans-serif; padding:3px; text-align:center\" align=\"center\"> 0.081</td> <td style=\"border:2px solid #f7f7f7; font:12px arial, sans-serif; padding:3px; text-align:center\" align=\"center\"> -847.324  1.34e+04</td>\n",
        "</tr>\n",
        "<tr>\n",
        "  <th style=\"background-color:#4b63e3; border:2px solid #f7f7f7; color:white; font:13px arial, sans-serif; padding:3px; text-align:left\" bgcolor=\"#4b63e3\" align=\"left\">Self</th>          <td style=\"border:2px solid #f7f7f7; font:12px arial, sans-serif; padding:3px; text-align:center\" align=\"center\"> 2567.4752</td> <td style=\"border:2px solid #f7f7f7; font:12px arial, sans-serif; padding:3px; text-align:center\" align=\"center\"> 4453.775</td> <td style=\"border:2px solid #f7f7f7; font:12px arial, sans-serif; padding:3px; text-align:center\" align=\"center\">    0.576</td> <td style=\"border:2px solid #f7f7f7; font:12px arial, sans-serif; padding:3px; text-align:center\" align=\"center\"> 0.571</td> <td style=\"border:2px solid #f7f7f7; font:12px arial, sans-serif; padding:3px; text-align:center\" align=\"center\">-6789.558  1.19e+04</td>\n",
        "</tr>\n",
        "<tr>\n",
        "  <th style=\"background-color:#4b63e3; border:2px solid #f7f7f7; color:white; font:13px arial, sans-serif; padding:3px; text-align:left\" bgcolor=\"#4b63e3\" align=\"left\">Elzy</th>          <td style=\"border:2px solid #f7f7f7; font:12px arial, sans-serif; padding:3px; text-align:center\" align=\"center\"> 2310.8865</td> <td style=\"border:2px solid #f7f7f7; font:12px arial, sans-serif; padding:3px; text-align:center\" align=\"center\"> 5592.478</td> <td style=\"border:2px solid #f7f7f7; font:12px arial, sans-serif; padding:3px; text-align:center\" align=\"center\">    0.413</td> <td style=\"border:2px solid #f7f7f7; font:12px arial, sans-serif; padding:3px; text-align:center\" align=\"center\"> 0.684</td> <td style=\"border:2px solid #f7f7f7; font:12px arial, sans-serif; padding:3px; text-align:center\" align=\"center\">-9438.475  1.41e+04</td>\n",
        "</tr>\n",
        "</table>\n",
        "<table style=\"border:2px solid #f7f7f7; border-collapse:collapse\">\n",
        "<tr>\n",
        "  <th style=\"background-color:#4b63e3; border:2px solid #f7f7f7; color:white; font:13px arial, sans-serif; padding:3px; text-align:left\" bgcolor=\"#4b63e3\" align=\"left\">Omnibus:</th>       <td style=\"border:2px solid #f7f7f7; font:12px arial, sans-serif; padding:3px; text-align:center\" align=\"center\"> 6.172</td> <th style=\"background-color:#4b63e3; border:2px solid #f7f7f7; color:white; font:13px arial, sans-serif; padding:3px; text-align:left\" bgcolor=\"#4b63e3\" align=\"left\">  Durbin-Watson:     </th> <td style=\"border:2px solid #f7f7f7; font:12px arial, sans-serif; padding:3px; text-align:center\" align=\"center\">   2.066</td>\n",
        "</tr>\n",
        "<tr>\n",
        "  <th style=\"background-color:#4b63e3; border:2px solid #f7f7f7; color:white; font:13px arial, sans-serif; padding:3px; text-align:left\" bgcolor=\"#4b63e3\" align=\"left\">Prob(Omnibus):</th> <td style=\"border:2px solid #f7f7f7; font:12px arial, sans-serif; padding:3px; text-align:center\" align=\"center\"> 0.046</td> <th style=\"background-color:#4b63e3; border:2px solid #f7f7f7; color:white; font:13px arial, sans-serif; padding:3px; text-align:left\" bgcolor=\"#4b63e3\" align=\"left\">  Jarque-Bera (JB):  </th> <td style=\"border:2px solid #f7f7f7; font:12px arial, sans-serif; padding:3px; text-align:center\" align=\"center\">   4.422</td>\n",
        "</tr>\n",
        "<tr>\n",
        "  <th style=\"background-color:#4b63e3; border:2px solid #f7f7f7; color:white; font:13px arial, sans-serif; padding:3px; text-align:left\" bgcolor=\"#4b63e3\" align=\"left\">Skew:</th>          <td style=\"border:2px solid #f7f7f7; font:12px arial, sans-serif; padding:3px; text-align:center\" align=\"center\">-0.879</td> <th style=\"background-color:#4b63e3; border:2px solid #f7f7f7; color:white; font:13px arial, sans-serif; padding:3px; text-align:left\" bgcolor=\"#4b63e3\" align=\"left\">  Prob(JB):          </th> <td style=\"border:2px solid #f7f7f7; font:12px arial, sans-serif; padding:3px; text-align:center\" align=\"center\">   0.110</td>\n",
        "</tr>\n",
        "<tr>\n",
        "  <th style=\"background-color:#4b63e3; border:2px solid #f7f7f7; color:white; font:13px arial, sans-serif; padding:3px; text-align:left\" bgcolor=\"#4b63e3\" align=\"left\">Kurtosis:</th>      <td style=\"border:2px solid #f7f7f7; font:12px arial, sans-serif; padding:3px; text-align:center\" align=\"center\"> 3.752</td> <th style=\"background-color:#4b63e3; border:2px solid #f7f7f7; color:white; font:13px arial, sans-serif; padding:3px; text-align:left\" bgcolor=\"#4b63e3\" align=\"left\">  Cond. No.          </th> <td style=\"border:2px solid #f7f7f7; font:12px arial, sans-serif; padding:3px; text-align:center\" align=\"center\">    540.</td>\n",
        "</tr>\n",
        "</table>\n",
        "</body>\n",
        " </html>\n"
       ],
       "metadata": {},
       "output_type": "pyout",
       "prompt_number": 321,
       "text": [
        "<IPython.core.display.HTML at 0x10f116e10>"
       ]
      }
     ],
     "prompt_number": 321
    },
    {
     "cell_type": "code",
     "collapsed": false,
     "input": [
      "mail('becketthile@gmail.com', 'test', 'this is a test', to_email, image=image_list)"
     ],
     "language": "python",
     "metadata": {},
     "outputs": [],
     "prompt_number": 124
    },
    {
     "cell_type": "code",
     "collapsed": false,
     "input": [],
     "language": "python",
     "metadata": {},
     "outputs": []
    }
   ],
   "metadata": {}
  }
 ]
}