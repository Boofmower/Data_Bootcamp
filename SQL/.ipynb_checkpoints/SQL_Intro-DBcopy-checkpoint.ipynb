{
 "metadata": {
  "name": "",
  "signature": "sha256:ef8973cc15360c8f20d1c8f457e24eda58ec73d77161c83f76e2b6671ab8c67a"
 },
 "nbformat": 3,
 "nbformat_minor": 0,
 "worksheets": [
  {
   "cells": [
    {
     "cell_type": "markdown",
     "metadata": {},
     "source": [
      "##SQL Bootcamp\n",
      "\n",
      "Sarah Beckett-Hile | NYU Stern School of Business | February 2015 \n",
      "\n",
      "**Today's plan**\n",
      "\n",
      "* SQL, the tool of business\n",
      "* Why can't I do this in Excel? \n",
      "* Basic features \n",
      "* ... \n",
      "\n",
      "**Things for later** \n",
      "\n",
      "* This document:  [link] \n",
      "* Upcoming noncredit course:  Friday afternoons, 2-5, starting March 27 \n",
      "* Etc \n",
      "\n"
     ]
    },
    {
     "cell_type": "markdown",
     "metadata": {},
     "source": [
      "###About SQL\n",
      "\n",
      "\n",
      "- SQL = \"Structured Query Language\" (pronounced \"S-Q-L\" or \"sequel\") \n",
      "\n",
      "- Tool of choice for business data \n",
      "\n",
      "-  relational database has multiple tables. Visualize it like an Excel file:\n",
      "    - Database = a single Excel file/workbook\n",
      "    - Table = a single worksheet in the same Excel file\n",
      "\n",
      "- SQL is the language, but the software optimized for storing relational databases that you access with SQL varies. Relational Database Management Systems (RDBMS) include MySQL, Microsoft SQL Server, Oracle, and SQLite\n",
      "\n",
      "- The four basic functions you can perform with SQL are referred to as C.R.U.D.: Create, Read, Update, Delete\n",
      "  \n",
      "- We'll focus on \"Read\", which is the only one needed for business analytics\n",
      "\n",
      "- Requests are called \"queries\"\n",
      "\n",
      "- Additional reading: http://www.w3schools.com/sql/sql_intro.asp\n",
      "\n",
      "- Find examples of queries for business analysis at botton of this lesson page\n"
     ]
    },
    {
     "cell_type": "markdown",
     "metadata": {},
     "source": [
      "###About this file \n",
      "\n",
      "* We'll use SQL in Python, specifically an IPython Notebook\n",
      "* No need to know what that means\n",
      "* Features of SQL are alternately described and executed "
     ]
    },
    {
     "cell_type": "code",
     "collapsed": false,
     "input": [
      "from SQL_support_code import *"
     ],
     "language": "python",
     "metadata": {},
     "outputs": [],
     "prompt_number": 2
    },
    {
     "cell_type": "heading",
     "level": 6,
     "metadata": {},
     "source": [
      "TO GET STARTED, CLICK \"CELL\" IN THE MENU BAR ABOVE, THEN SELECT \"RUN ALL\""
     ]
    },
    {
     "cell_type": "heading",
     "level": 1,
     "metadata": {},
     "source": [
      "About SQL:"
     ]
    },
    {
     "cell_type": "heading",
     "level": 1,
     "metadata": {},
     "source": [
      "About this Course:"
     ]
    },
    {
     "cell_type": "markdown",
     "metadata": {},
     "source": [
      "- iPython is acting as a sandbox for learning SQL, and some Python scripts are working in the background. Students *will not* need to learn Python. \n",
      "- The boxes containing code are \"cells\". \n",
      "- \"Run\" a cell (and run the query) by clicking on the cell, then hold down SHIFT-RETURN \n",
      "- Queries in red are interactive. Alter and delete parts to help you figure out what's going on. Undo (\u2318-Z on Macs, CTRL-Z on PCs) to bring the query back to the original version. \n",
      "- In small-font bold text, there are challeneges to rewrite queries or write your own. The cells below these challenges have \"SELECT NULL\" written in them. Delete NULL to finish writing the query. \n",
      "- If you get stumped on a challenge, there are cheats at the bottom of a challenge cell. You'll see something like \"#print(cheat1)\". Delete the hash and run the cell (SHIFT-RETURN). Once you've figured it out, *replace the hash*, and try again."
     ]
    },
    {
     "cell_type": "heading",
     "level": 1,
     "metadata": {},
     "source": [
      "Structure and Formatting Query Basics:"
     ]
    },
    {
     "cell_type": "markdown",
     "metadata": {},
     "source": [
      "\n",
      "- Indentations and Returns:\n",
      "    - Indentations and returns are mostly arbitrary in SQL\n",
      "    - Most people opt to use structure to organize their thoughts; it's just a matter of preference\n",
      "\n",
      "\n",
      "- Capitalization:\n",
      "    - Considered \"good form\" to capitalize keywords to make queries easier to read\n",
      "    - Consistency is the main issue\n",
      "\n",
      "\n",
      "- Order of Clauses:\n",
      "    - Very strict\n",
      "    - Not all clauses need to be present in a query, but when they are present, then they must be in the correct order\n",
      "    - Below are the major clauses that we are going to cover. Use this list as reference if you are getting errors with your queries - there's a chance you just have the clauses in the wrong order:\n",
      "            SELECT\n",
      "            FROM\n",
      "            JOIN...ON \n",
      "            WHERE\n",
      "            GROUP BY\n",
      "            UNION\n",
      "            ORDER BY\n",
      "            LIMIT"
     ]
    },
    {
     "cell_type": "heading",
     "level": 1,
     "metadata": {},
     "source": [
      "Reading a table:"
     ]
    },
    {
     "cell_type": "markdown",
     "metadata": {},
     "source": [
      "    PRAGMA TABLE_INFO(table_name)\n",
      "\n",
      "Running this will let you see the column heads and data types of any table. \n",
      "\n",
      "The SQL query above only works for SQLite, which is what we're using here. If you're interested in knowing the equivalent versions for other RDBMS options, see the table below."
     ]
    },
    {
     "cell_type": "code",
     "collapsed": false,
     "input": [
      "describe_differences"
     ],
     "language": "python",
     "metadata": {},
     "outputs": [
      {
       "html": [
        "<div style=\"max-height:1000px;max-width:1500px;overflow:auto;\">\n",
        "<table border=\"1\" class=\"dataframe\">\n",
        "  <thead>\n",
        "    <tr style=\"text-align: right;\">\n",
        "      <th></th>\n",
        "      <th>Microsoft SQL Server</th>\n",
        "      <th>MySQL</th>\n",
        "      <th>Oracle</th>\n",
        "      <th>SQLite</th>\n",
        "    </tr>\n",
        "  </thead>\n",
        "  <tbody>\n",
        "    <tr>\n",
        "      <th>Reading a table</th>\n",
        "      <td> SP_HELP table_name</td>\n",
        "      <td> DESCRIBE table_name</td>\n",
        "      <td> DESCRIBE table_table</td>\n",
        "      <td> PRAGMA TABLE_INFO(table_name)</td>\n",
        "    </tr>\n",
        "  </tbody>\n",
        "</table>\n",
        "</div>"
       ],
       "metadata": {},
       "output_type": "pyout",
       "prompt_number": 3,
       "text": [
        "                Microsoft SQL Server                MySQL  \\\n",
        "Reading a table   SP_HELP table_name  DESCRIBE table_name   \n",
        "\n",
        "                               Oracle                         SQLite  \n",
        "Reading a table  DESCRIBE table_table  PRAGMA TABLE_INFO(table_name)  "
       ]
      }
     ],
     "prompt_number": 3
    },
    {
     "cell_type": "markdown",
     "metadata": {},
     "source": [
      "These are the names of the tables in our mini SQLite database:\n",
      "\n",
      "    sales_table\n",
      "    car_table\n",
      "    salesman_table\n",
      "    cust_table"
     ]
    },
    {
     "cell_type": "markdown",
     "metadata": {},
     "source": [
      "**Start by looking at the columns and their data types  in the sales_table.**"
     ]
    },
    {
     "cell_type": "code",
     "collapsed": false,
     "input": [
      "run('''\n",
      "    PRAGMA TABLE_INFO(sales_table)\n",
      "    ''')"
     ],
     "language": "python",
     "metadata": {},
     "outputs": [
      {
       "output_type": "stream",
       "stream": "stderr",
       "text": [
        "ERROR: An unexpected error occurred while tokenizing input\n",
        "The following traceback may be corrupted or invalid\n",
        "The error message is: ('EOF in multi-line string', (1, 4))\n",
        "\n"
       ]
      },
      {
       "ename": "ValueError",
       "evalue": "Reading a table with read_sql is not supported for a DBAPI2 connection. Use an SQLAlchemy engine or specify an sql query",
       "output_type": "pyerr",
       "traceback": [
        "\u001b[1;31m---------------------------------------------------------------------------\u001b[0m\n\u001b[1;31mValueError\u001b[0m                                Traceback (most recent call last)",
        "\u001b[1;32m<ipython-input-4-ed8a089df8de>\u001b[0m in \u001b[0;36m<module>\u001b[1;34m()\u001b[0m\n\u001b[0;32m      1\u001b[0m run('''\n\u001b[0;32m      2\u001b[0m     \u001b[0mPRAGMA\u001b[0m \u001b[0mTABLE_INFO\u001b[0m\u001b[1;33m(\u001b[0m\u001b[0msales_table\u001b[0m\u001b[1;33m)\u001b[0m\u001b[1;33m\u001b[0m\u001b[0m\n\u001b[1;32m----> 3\u001b[1;33m     ''')\n\u001b[0m",
        "\u001b[1;32mC:\\Users\\dbackus\\Dropbox\\Documents\\Classes\\Data_Bootcamp\\SQL\\SQL_support_code.py\u001b[0m in \u001b[0;36mrun\u001b[1;34m(query)\u001b[0m\n\u001b[0;32m     30\u001b[0m \u001b[1;31m# Function to make it easy to run queries on this mini-database\u001b[0m\u001b[1;33m\u001b[0m\u001b[1;33m\u001b[0m\u001b[0m\n\u001b[0;32m     31\u001b[0m \u001b[1;32mdef\u001b[0m \u001b[0mrun\u001b[0m\u001b[1;33m(\u001b[0m\u001b[0mquery\u001b[0m\u001b[1;33m)\u001b[0m\u001b[1;33m:\u001b[0m\u001b[1;33m\u001b[0m\u001b[0m\n\u001b[1;32m---> 32\u001b[1;33m     \u001b[0mresults\u001b[0m \u001b[1;33m=\u001b[0m \u001b[0mpd\u001b[0m\u001b[1;33m.\u001b[0m\u001b[0mread_sql\u001b[0m\u001b[1;33m(\u001b[0m\u001b[1;34m\"{}\"\u001b[0m\u001b[1;33m.\u001b[0m\u001b[0mformat\u001b[0m\u001b[1;33m(\u001b[0m\u001b[0mquery\u001b[0m\u001b[1;33m)\u001b[0m\u001b[1;33m,\u001b[0m \u001b[0mcon\u001b[0m\u001b[1;33m)\u001b[0m\u001b[1;33m.\u001b[0m\u001b[0mfillna\u001b[0m\u001b[1;33m(\u001b[0m\u001b[1;34m' '\u001b[0m\u001b[1;33m)\u001b[0m\u001b[1;33m\u001b[0m\u001b[0m\n\u001b[0m\u001b[0;32m     33\u001b[0m     \u001b[1;32mreturn\u001b[0m \u001b[0mresults\u001b[0m\u001b[1;33m\u001b[0m\u001b[0m\n\u001b[0;32m     34\u001b[0m \u001b[1;33m\u001b[0m\u001b[0m\n",
        "\u001b[1;32mC:\\Users\\dbackus\\Anaconda3\\lib\\site-packages\\pandas\\io\\sql.py\u001b[0m in \u001b[0;36mread_sql\u001b[1;34m(sql, con, index_col, coerce_float, params, parse_dates, columns)\u001b[0m\n\u001b[0;32m    389\u001b[0m     \u001b[1;32melse\u001b[0m\u001b[1;33m:\u001b[0m\u001b[1;33m\u001b[0m\u001b[0m\n\u001b[0;32m    390\u001b[0m         \u001b[1;32mif\u001b[0m \u001b[0misinstance\u001b[0m\u001b[1;33m(\u001b[0m\u001b[0mpandas_sql\u001b[0m\u001b[1;33m,\u001b[0m \u001b[0mPandasSQLLegacy\u001b[0m\u001b[1;33m)\u001b[0m\u001b[1;33m:\u001b[0m\u001b[1;33m\u001b[0m\u001b[0m\n\u001b[1;32m--> 391\u001b[1;33m             raise ValueError(\"Reading a table with read_sql is not supported \"\n\u001b[0m\u001b[0;32m    392\u001b[0m                              \u001b[1;34m\"for a DBAPI2 connection. Use an SQLAlchemy \"\u001b[0m\u001b[1;33m\u001b[0m\u001b[0m\n\u001b[0;32m    393\u001b[0m                              \"engine or specify an sql query\")\n",
        "\u001b[1;31mValueError\u001b[0m: Reading a table with read_sql is not supported for a DBAPI2 connection. Use an SQLAlchemy engine or specify an sql query"
       ]
      }
     ],
     "prompt_number": 4
    },
    {
     "cell_type": "heading",
     "level": 4,
     "metadata": {},
     "source": [
      "Rewrite the query to look at the other tables:"
     ]
    },
    {
     "cell_type": "code",
     "collapsed": false,
     "input": [
      "run('''\n",
      "    PRAGMA TABLE_INFO(car_table)\n",
      "    ''')\n",
      "#print(describe_cheat)"
     ],
     "language": "python",
     "metadata": {},
     "outputs": []
    },
    {
     "cell_type": "markdown",
     "metadata": {},
     "source": [
      "Different RDBMS have different datatypes available:\n",
      "- Oracle: http://docs.oracle.com/cd/B10501_01/appdev.920/a96624/03_types.htm\n",
      "- MySQL:\n",
      " - Numeric: http://dev.mysql.com/doc/refman/5.0/en/numeric-type-overview.html\n",
      " - Date/time: http://dev.mysql.com/doc/refman/5.0/en/date-and-time-type-overview.html\n",
      " - String/text: http://dev.mysql.com/doc/refman/5.0/en/string-type-overview.html\n",
      "- SQLite: https://www.sqlite.org/datatype3.html\n",
      "- Microsoft: http://msdn.microsoft.com/en-us/library/ms187752.aspx"
     ]
    },
    {
     "cell_type": "markdown",
     "metadata": {},
     "source": [
      "_____________________\n",
      "__________"
     ]
    },
    {
     "cell_type": "heading",
     "level": 1,
     "metadata": {},
     "source": [
      "SELECT & FROM:"
     ]
    },
    {
     "cell_type": "markdown",
     "metadata": {},
     "source": [
      "- Basically every \"read\" query will contain a SELECT and FROM clause\n",
      "- In the SELECT clause, you tell SQL which columns you want to see\n",
      "- In the FROM clause, you tell SQL the table where those columns are located \n",
      "- More on SELECT: http://www.w3schools.com/sql/sql_select.asp\n",
      "_______"
     ]
    },
    {
     "cell_type": "heading",
     "level": 3,
     "metadata": {},
     "source": [
      "**SELECT * (ALL COLUMNS) **"
     ]
    },
    {
     "cell_type": "markdown",
     "metadata": {},
     "source": [
      "    SELECT          # specifies which columns you want to see \n",
      "        *           # asterisk returns all columns\n",
      "    FROM            # specifies the table or tables where these columns can be found\n",
      "        table_name"
     ]
    },
    {
     "cell_type": "markdown",
     "metadata": {},
     "source": [
      "Use an asterisk to tell SQL to return all columns from the table:"
     ]
    },
    {
     "cell_type": "code",
     "collapsed": false,
     "input": [
      "run('''\n",
      "    SELECT\n",
      "        *\n",
      "    FROM\n",
      "        sales_table\n",
      "    ''')"
     ],
     "language": "python",
     "metadata": {},
     "outputs": []
    },
    {
     "cell_type": "heading",
     "level": 4,
     "metadata": {},
     "source": [
      "Write a query to select all columns from the car_table:"
     ]
    },
    {
     "cell_type": "code",
     "collapsed": false,
     "input": [
      "run('''\n",
      "    SELECT \n",
      "        *\n",
      "    FROM\n",
      "        car_table\n",
      "    ''')\n",
      "#print(select_cheat1)"
     ],
     "language": "python",
     "metadata": {},
     "outputs": []
    },
    {
     "cell_type": "markdown",
     "metadata": {},
     "source": [
      "_____________"
     ]
    },
    {
     "cell_type": "heading",
     "level": 3,
     "metadata": {},
     "source": [
      "SELECT SPECIFIC COLUMNS:"
     ]
    },
    {
     "cell_type": "markdown",
     "metadata": {},
     "source": [
      "    SELECT \n",
      "        column_a,   # comma-separate multiple columns\n",
      "        column_b\n",
      "    FROM \n",
      "        table_name"
     ]
    },
    {
     "cell_type": "markdown",
     "metadata": {},
     "source": [
      "Instead of using an asterisk for \"all columns\", you can specify a particular column or columns:"
     ]
    },
    {
     "cell_type": "code",
     "collapsed": false,
     "input": [
      "run('''\n",
      "    SELECT\n",
      "        model_id, \n",
      "        revenue\n",
      "    FROM\n",
      "        sales_table\n",
      "    ''')"
     ],
     "language": "python",
     "metadata": {},
     "outputs": []
    },
    {
     "cell_type": "heading",
     "level": 4,
     "metadata": {},
     "source": [
      "Write a query to select model_id and model from the car_table:"
     ]
    },
    {
     "cell_type": "code",
     "collapsed": false,
     "input": [
      "run('''\n",
      "    SELECT NULL\n",
      "    ''')\n",
      "#print(select_cheat2)"
     ],
     "language": "python",
     "metadata": {},
     "outputs": []
    },
    {
     "cell_type": "markdown",
     "metadata": {},
     "source": [
      "One more quick note on the basics of SELECT - technically you can SELECT a value without using FROM to specify a table. You could just tell the query exactly what you want to see in the result-set. If it's a number, you can write the exact number. If you are using various characters, put them in quotes.\n",
      "\n",
      "See the query below as an example:"
     ]
    },
    {
     "cell_type": "code",
     "collapsed": false,
     "input": [
      "run('''\n",
      "    SELECT \n",
      "    4, \n",
      "    5, \n",
      "    7, \n",
      "    'various characters or text'\n",
      "    ''')"
     ],
     "language": "python",
     "metadata": {},
     "outputs": []
    },
    {
     "cell_type": "markdown",
     "metadata": {},
     "source": [
      "________"
     ]
    },
    {
     "cell_type": "heading",
     "level": 3,
     "metadata": {},
     "source": [
      "SELECT DISTINCT VALUES IN COLUMNS:"
     ]
    },
    {
     "cell_type": "markdown",
     "metadata": {},
     "source": [
      "    SELECT\n",
      "        DISTINCT column_a     # returns a list of each unique value in column_a\n",
      "    FROM\n",
      "        table_name\n",
      "- Use DISTINCT to return unique values from a column\n",
      "- More on DISTINCT: http://www.w3schools.com/sql/sql_distinct.asp\n",
      "\n",
      "The query below pulls each distinct value from the model_id column in the sales_table, so each value is only listed one time:"
     ]
    },
    {
     "cell_type": "code",
     "collapsed": false,
     "input": [
      "run('''\n",
      "    SELECT\n",
      "        DISTINCT model_id\n",
      "    FROM\n",
      "        sales_table\n",
      "    ''')"
     ],
     "language": "python",
     "metadata": {},
     "outputs": []
    },
    {
     "cell_type": "heading",
     "level": 4,
     "metadata": {},
     "source": [
      "Use DISTINCT to select unqiue values from the salesman_id column in sales_table. Delete DISTINCT and rerun to see the effect."
     ]
    },
    {
     "cell_type": "code",
     "collapsed": false,
     "input": [
      "run('''\n",
      "    SELECT NULL\n",
      "    ''')\n",
      "#print(select_cheat3)"
     ],
     "language": "python",
     "metadata": {},
     "outputs": []
    },
    {
     "cell_type": "markdown",
     "metadata": {},
     "source": [
      "__________\n",
      "__________\n"
     ]
    },
    {
     "cell_type": "heading",
     "level": 1,
     "metadata": {},
     "source": [
      "WHERE"
     ]
    },
    {
     "cell_type": "markdown",
     "metadata": {},
     "source": [
      "    SELECT \n",
      "        column_a\n",
      "    FROM\n",
      "        table_name\n",
      "    WHERE\n",
      "        column_a = x      # filters the result-set to rows where column_a's value is exactly x\n",
      " \n",
      "A few more options for the where clause:\n",
      "\n",
      "    WHERE column_a = 'some_text'      # put text in quotations. CAPITALIZATION IS IMPORTANT\n",
      "    \n",
      "    WHERE column_a != x      # filters the result-set to rows where column_a's value DOES NOT EQUAL x\n",
      "    \n",
      "    WHERE column_a < x       # filters the result-set to rows where column_a's value is less than x\n",
      "    \n",
      "    WHERE columna_a <= x      # filters the result-set to rows where column_a's value is less than or equal to x\n",
      "    \n",
      "    WHERE column_a IN (x, y)       # column_a's value can be EITHER x OR y \n",
      "    \n",
      "    WHERE column_a NOT IN (x, y)     #  column_a's value can be NEITHER x NOR y  \n",
      "    \n",
      "    WHERE column_a BETWEEN x AND y      # BETWEEN lets you specify a range   \n",
      "    \n",
      "    WHERE column_a = x AND column_b = y    # AND lets you add more filters\n",
      "    \n",
      "    WHERE column_a = x OR column_b = y     # OR will include results that fulfill either criteria\n",
      "    \n",
      "    WHERE (column_a = x AND column_b = y) OR (column_c = z)   # use parentheses to create complex AND/OR statements \n",
      "\n",
      "\n",
      "- WHERE allows you to filter the result-set to only include rows matching specific values/criteria. If the value/criteria is text, remember to put it in single or double quotation marks\n",
      "- More on WHERE: http://www.w3schools.com/sql/sql_where.asp\n",
      "\n",
      "Below, WHERE filters out any rows that don't match the criteria. The result-set will only contain rows where the payment type is cash AND where the model_id is 46:"
     ]
    },
    {
     "cell_type": "code",
     "collapsed": false,
     "input": [
      "run('''\n",
      "    SELECT\n",
      "        *\n",
      "    FROM\n",
      "        sales_table\n",
      "    WHERE\n",
      "        payment_type = 'cash'\n",
      "        AND model_id = 46 \n",
      "    ''')"
     ],
     "language": "python",
     "metadata": {},
     "outputs": []
    },
    {
     "cell_type": "markdown",
     "metadata": {},
     "source": [
      "**Rewrite the query to return rows where payment_type is NOT cash, and the model_id is either 31 or 36**\n",
      "- Extra: Try changing 'cash' to 'Cash' to see what happens."
     ]
    },
    {
     "cell_type": "code",
     "collapsed": false,
     "input": [
      "run('''\n",
      "    SELECT NULL\n",
      "    ''')\n",
      "#print(where_cheat1)"
     ],
     "language": "python",
     "metadata": {},
     "outputs": []
    },
    {
     "cell_type": "heading",
     "level": 4,
     "metadata": {},
     "source": [
      "Using BETWEEN, rewrite the query to return rows where the  revenue was between 24,000 and 25,000:"
     ]
    },
    {
     "cell_type": "code",
     "collapsed": false,
     "input": [
      "run('''\n",
      "    SELECT NULL\n",
      "    ''')\n",
      "#print(where_cheat2)"
     ],
     "language": "python",
     "metadata": {},
     "outputs": []
    },
    {
     "cell_type": "heading",
     "level": 3,
     "metadata": {},
     "source": [
      "WHERE column LIKE:"
     ]
    },
    {
     "cell_type": "markdown",
     "metadata": {},
     "source": [
      "    SELECT \n",
      "        column_a\n",
      "    FROM\n",
      "        table_name\n",
      "    WHERE\n",
      "        column_a LIKE '%text or number%'      # Filters the result_set to rows where that text or value can be found, with % standing in as a wildcard\n",
      "        \n",
      "- LIKE lets you avoid issues with capitalization in quotes, and you can use % as a wildcard to stand in for any character\n",
      "- Useful if you have an idea of what text you're looking for, but you are not sure of the spelling or you want all results that contatin those letters\n",
      "- More on LIKE: http://www.w3schools.com/sql/sql_like.asp\n",
      "- More on wildcards: http://www.w3schools.com/sql/sql_wildcards.asp\n",
      "\n",
      "Note that you don't have to use the whole word \"cash\" when you use LIKE, and that the capital \"C\" now doesn't cause a problem:"
     ]
    },
    {
     "cell_type": "code",
     "collapsed": false,
     "input": [
      "run('''\n",
      "    SELECT\n",
      "        *\n",
      "    FROM\n",
      "        sales_table\n",
      "    WHERE\n",
      "        payment_type LIKE 'Cas%'    \n",
      "    ''').head()"
     ],
     "language": "python",
     "metadata": {},
     "outputs": []
    },
    {
     "cell_type": "markdown",
     "metadata": {},
     "source": [
      "Be careful with LIKE though - it can't deal with extra characters or mispellings:"
     ]
    },
    {
     "cell_type": "code",
     "collapsed": false,
     "input": [
      "run('''\n",
      "    SELECT\n",
      "        *\n",
      "    FROM\n",
      "        sales_table\n",
      "    WHERE\n",
      "        payment_type LIKE 'ces%'\n",
      "    LIMIT 5\n",
      "    ''')"
     ],
     "language": "python",
     "metadata": {},
     "outputs": []
    },
    {
     "cell_type": "markdown",
     "metadata": {},
     "source": [
      "LIKE and % will also return too much if you're not specific enough.  This returns both 'cash' and 'finance' because both have a 'c' with some letters before or after:"
     ]
    },
    {
     "cell_type": "code",
     "collapsed": false,
     "input": [
      "run('''\n",
      "    SELECT\n",
      "        *\n",
      "    FROM\n",
      "        sales_table\n",
      "    WHERE\n",
      "        payment_type LIKE '%c%'\n",
      "    LIMIT 5\n",
      "    ''')"
     ],
     "language": "python",
     "metadata": {},
     "outputs": []
    },
    {
     "cell_type": "markdown",
     "metadata": {},
     "source": [
      "You can use different wildcards besides % to get more specific. An underscore is a substitute for a single letter or character, rather than any number. The query below uses 3 underscores after c to get 'cash':"
     ]
    },
    {
     "cell_type": "code",
     "collapsed": false,
     "input": [
      "run('''\n",
      "    SELECT\n",
      "        *\n",
      "    FROM\n",
      "        sales_table\n",
      "    WHERE\n",
      "        payment_type LIKE 'c___'\n",
      "    LIMIT 5\n",
      "    ''')"
     ],
     "language": "python",
     "metadata": {},
     "outputs": []
    },
    {
     "cell_type": "heading",
     "level": 4,
     "metadata": {},
     "source": [
      "Let's say you can't remember the model of the car you're trying to look up. You know it's \"out\"...something. Outcast? Outstanding? \n",
      "\n",
      "Write a query to return the model_id and model from the car_table and use LIKE to help you search:"
     ]
    },
    {
     "cell_type": "code",
     "collapsed": false,
     "input": [
      "run('''\n",
      "    SELECT NULL\n",
      "    ''')\n",
      "#print(where_cheat3)"
     ],
     "language": "python",
     "metadata": {},
     "outputs": []
    },
    {
     "cell_type": "markdown",
     "metadata": {},
     "source": [
      "__________________________\n",
      "__________"
     ]
    },
    {
     "cell_type": "heading",
     "level": 1,
     "metadata": {},
     "source": [
      "ORDER BY:"
     ]
    },
    {
     "cell_type": "markdown",
     "metadata": {},
     "source": [
      "    SELECT \n",
      "        column_a\n",
      "    FROM\n",
      "        table_name\n",
      "    WHERE                 # optional \n",
      "        column_a = x\n",
      "    ORDER BY              # sorts the result-set by column_a\n",
      "        column_a DESC     # DESC is optional. It sorts results in descending order (100->1) instead of ascending (1->100)"
     ]
    },
    {
     "cell_type": "markdown",
     "metadata": {},
     "source": [
      "- Without an ORDER BY clause, the default result-set will be ordered by however it appears in the database \n",
      "    - If you're looking at a live table - meaning that it's constantly updating, like the sales_table would be - the table will usually be ordered by date & time in ascending order. \n",
      "    - If you're looking at a reference table, like the salesman_table, the order can be totally arbitrary and useless for analysis\n",
      "- By default, ORDER BY will sort values in ascending order (A\u2192Z, 1\u2192100). Add DESC to order results in desceding order instead (Z\u2192A, 100\u21921)\n",
      "- More on ORDER BY:  http://www.w3schools.com/sql/sql_orderby.asp"
     ]
    },
    {
     "cell_type": "markdown",
     "metadata": {},
     "source": [
      "The query below orders the result-set by revenue amount, starting with the smallest amount listed first:"
     ]
    },
    {
     "cell_type": "code",
     "collapsed": false,
     "input": [
      "run('''\n",
      "    SELECT\n",
      "        *\n",
      "    FROM\n",
      "        sales_table\n",
      "    ORDER BY\n",
      "        revenue DESC\n",
      "    LIMIT 5\n",
      "    ''')"
     ],
     "language": "python",
     "metadata": {},
     "outputs": []
    },
    {
     "cell_type": "heading",
     "level": 4,
     "metadata": {},
     "source": [
      "Rewrite the query above to look at the sticker_price of cars from the car_table in descending order:"
     ]
    },
    {
     "cell_type": "code",
     "collapsed": false,
     "input": [
      "run('''\n",
      "    SELECT\n",
      "        sticker_price\n",
      "    FROM\n",
      "        car_table\n",
      "    ORDER BY\n",
      "        sticker_price DESC\n",
      "    ''')\n"
     ],
     "language": "python",
     "metadata": {},
     "outputs": []
    },
    {
     "cell_type": "markdown",
     "metadata": {},
     "source": [
      "_________________\n",
      "__________"
     ]
    },
    {
     "cell_type": "heading",
     "level": 1,
     "metadata": {},
     "source": [
      "LIMIT"
     ]
    },
    {
     "cell_type": "markdown",
     "metadata": {},
     "source": [
      "    SELECT\n",
      "        column_a\n",
      "    FROM\n",
      "        table_name\n",
      "    WHERE\n",
      "        columna_a = x      # optional\n",
      "    ORDER BY\n",
      "        column_a           # optional\n",
      "    LIMIT                  # Limits the result-set to N rows\n",
      "        N  "
     ]
    },
    {
     "cell_type": "markdown",
     "metadata": {},
     "source": [
      "- LIMIT just limits the number of rows in your result set\n",
      "- More on LIMIT: http://www.w3schools.com/sql/sql_top.asp \n",
      "- The ability to limit results varies by RBDSM. Below you can see the different ways to do this:"
     ]
    },
    {
     "cell_type": "code",
     "collapsed": false,
     "input": [
      "limit_differences"
     ],
     "language": "python",
     "metadata": {},
     "outputs": []
    },
    {
     "cell_type": "markdown",
     "metadata": {},
     "source": [
      "** The query below limits the number of rows to 5 results. Change it to 10 to get a quick sense of what we're doing here:**"
     ]
    },
    {
     "cell_type": "code",
     "collapsed": false,
     "input": [
      "run('''\n",
      "    SELECT\n",
      "        *\n",
      "    FROM\n",
      "        sales_table\n",
      "    LIMIT 5\n",
      "    ''')"
     ],
     "language": "python",
     "metadata": {},
     "outputs": []
    },
    {
     "cell_type": "markdown",
     "metadata": {},
     "source": [
      "_________\n",
      "__________\n"
     ]
    },
    {
     "cell_type": "heading",
     "level": 1,
     "metadata": {},
     "source": [
      "ALIASES"
     ]
    },
    {
     "cell_type": "markdown",
     "metadata": {},
     "source": [
      "    SELECT\n",
      "        T.column_a AS alias_a    # creates a nickname for column_a, and states that it's from table_name (whose alias is T)\n",
      "    FROM\n",
      "        table_name AS T          # creates a nickname for table_name\n",
      "    WHERE\n",
      "        alias_a = z           # refer to an alias in the WHERE clause\n",
      "    ORDER BY\n",
      "        alias_a                  # refer to an alias in the ORDER BY clause\n",
      "\n",
      "- Aliases are optional, but save you time and make column headers cleaner\n",
      "- AS isn't necessary to create and alias, but commonly used \n",
      "- The convention is to use \"AS\" in the \"SELECT\" clause, but not in the \"FROM\" clause.\n",
      "- More on Aliases: http://www.w3schools.com/sql/sql_alias.asp\n",
      "\n",
      "**Change the aiases for model_id and revenue, or add extra columns to see how they work:**"
     ]
    },
    {
     "cell_type": "code",
     "collapsed": false,
     "input": [
      "run('''\n",
      "    SELECT\n",
      "        model_id AS Model_of_car,\n",
      "        revenue AS Rev_per_car\n",
      "    FROM \n",
      "        sales_table\n",
      "    ''')"
     ],
     "language": "python",
     "metadata": {},
     "outputs": []
    },
    {
     "cell_type": "markdown",
     "metadata": {},
     "source": [
      "**You can use an alias in the ORDER BY and WHERE clauses now. Write a query to:**\n",
      "- pull the model_id and revenue for each transaction\n",
      "- give model_id the alias \"Model\"\n",
      "- give revenue the alias \"Rev\"\n",
      "- limit the results to only include rows where the model_id id 36, use the alias in the WHERE clause\n",
      "- order the results by revenue in descending order, use the alias in the ORDER BY clause\n",
      "- Run the query\n",
      "\n",
      "**THEN:**\n",
      "- Try giving model_id the alias \"ID\" and use it in the WHERE clause, then rerun the query. What do you think is causing the error? "
     ]
    },
    {
     "cell_type": "code",
     "collapsed": false,
     "input": [
      "run('''\n",
      "    SELECT \n",
      "        id,\n",
      "        model_id AS model,\n",
      "        revenue AS Rev\n",
      "    FROM\n",
      "        sales_table\n",
      "    WHERE\n",
      "        model = 36\n",
      "    ORDER BY\n",
      "        Rev DESC\n",
      "    ''') \n",
      "#print(alias_cheat)"
     ],
     "language": "python",
     "metadata": {},
     "outputs": []
    },
    {
     "cell_type": "markdown",
     "metadata": {},
     "source": [
      "You can also assign an alias to a table, and use the alias to tell SQL which table the column is coming from. This isn't of much use when you're only using one table, but it will come in handy when you start joining tables. \n",
      "\n",
      "Below, we've given the sales_table the alias \"S\", and with \"S.model_id\", we're saying \"the model_id column is in the S table\"\n",
      "\n",
      "**Change the S to another letter in the FROM clause and run.**"
     ]
    },
    {
     "cell_type": "code",
     "collapsed": false,
     "input": [
      "run('''\n",
      "    SELECT\n",
      "        S.model_id,\n",
      "        S.revenue\n",
      "    FROM \n",
      "        sales_table AS S\n",
      "    LIMIT 5\n",
      "    ''')"
     ],
     "language": "python",
     "metadata": {},
     "outputs": []
    },
    {
     "cell_type": "markdown",
     "metadata": {},
     "source": [
      "_________\n",
      "__________"
     ]
    },
    {
     "cell_type": "heading",
     "level": 1,
     "metadata": {},
     "source": [
      "JOINING TABLES"
     ]
    },
    {
     "cell_type": "markdown",
     "metadata": {},
     "source": [
      "    SELECT\n",
      "        *\n",
      "    FROM\n",
      "        table_x                                   \n",
      "        JOIN table_y                                 # use JOIN to add the second table\n",
      "            ON table_x.column_a = table_y.column_a   # use ON to specify which columns correspond on each table\n",
      "\n",
      "- Joining tables is the most fundamental and useful part about relational databases\n",
      "- If there is information on one table that corresponds to data on another table, then the tables can be joined using corresponding columns as \"keys\"\n",
      "- The format \"table_x.column_a\" can be read as \"column_a from table_x\"; it tells SQL the table where it can find that column\n",
      "- More on Joins: http://www.w3schools.com/sql/sql_join.asp\n",
      "\n",
      "Start by looking at the first few rows of sales_table again:"
     ]
    },
    {
     "cell_type": "code",
     "collapsed": false,
     "input": [
      "run('''\n",
      "    SELECT\n",
      "        *\n",
      "    FROM\n",
      "        sales_table\n",
      "    LIMIT 5\n",
      "    ''')"
     ],
     "language": "python",
     "metadata": {},
     "outputs": []
    },
    {
     "cell_type": "markdown",
     "metadata": {},
     "source": [
      "Now the first few rows of the car_table:"
     ]
    },
    {
     "cell_type": "code",
     "collapsed": false,
     "input": [
      "run('''\n",
      "    SELECT\n",
      "        *\n",
      "    FROM\n",
      "        car_table\n",
      "    LIMIT 5\n",
      "    ''')"
     ],
     "language": "python",
     "metadata": {},
     "outputs": []
    },
    {
     "cell_type": "markdown",
     "metadata": {},
     "source": [
      "These tables are related. There's a column named \"model_id\" in the sales_table and a \"model_id\" in the car_table - but the column heads don't need to be the same, what's important is that the values in the sales_table's model_id column correspond to the values in the car_table's model_id column. \n",
      "\n",
      "You can join these tables by using these columns as keys. "
     ]
    },
    {
     "cell_type": "code",
     "collapsed": false,
     "input": [
      "run('''\n",
      "    SELECT\n",
      "        *\n",
      "    FROM\n",
      "        sales_table\n",
      "        JOIN car_table ON sales_table.model_id = car_table.model_id\n",
      "    LIMIT 10\n",
      "    ''')"
     ],
     "language": "python",
     "metadata": {},
     "outputs": []
    },
    {
     "cell_type": "markdown",
     "metadata": {},
     "source": [
      "Why is this helpful? Say you want to see the revenue for each car maker, and you have no idea which model_id in the sales_table belongs to which car maker. There's nothing in the sales_table to tell you that. However, you do have the model_id in the sales_table, and the car_table - which fortunately contains the car maker information you're looking for - has the model_id listed too.  By joining these tables \"ON\" the corresponding columns, you can now see which car maker was involved in each sale.\n",
      "\n",
      "**Write a query to join the cust_table to the sales_table, using the customer_id columns in both tables as the key:**"
     ]
    },
    {
     "cell_type": "code",
     "collapsed": false,
     "input": [
      "run('''\n",
      "    SELECT \n",
      "        *\n",
      "    FROM\n",
      "        cust_table\n",
      "        JOIN sales_table ON cust_table.customer_id = sales_table.customer_id\n",
      "    LIMIT 5\n",
      "    ''') \n",
      "#print(join_cheat1)"
     ],
     "language": "python",
     "metadata": {},
     "outputs": []
    },
    {
     "cell_type": "markdown",
     "metadata": {},
     "source": [
      "**Rewrite the query from above, but instead of selecting all columns, specify just the customer gender and the revenue:**"
     ]
    },
    {
     "cell_type": "code",
     "collapsed": false,
     "input": [
      "run('''\n",
      "    SELECT \n",
      "        gender, \n",
      "        revenue\n",
      "    FROM\n",
      "        cust_table\n",
      "        JOIN sales_table ON cust_table.customer_id = sales_table.customer_id\n",
      "    LIMIT 5\n",
      "    ''')\n",
      "#print(join_cheat2)"
     ],
     "language": "python",
     "metadata": {},
     "outputs": []
    },
    {
     "cell_type": "markdown",
     "metadata": {},
     "source": [
      "**Rewrite the query from above, but this time select the customer_id, gender, and revenue:**\n",
      "- You'll probably hit an error at first. Try to use what you've learned about this structure \"table_x.column_a\" to fix the issue. Why do you think you need to use this?"
     ]
    },
    {
     "cell_type": "code",
     "collapsed": false,
     "input": [
      "run('''\n",
      "    SELECT \n",
      "        S.customer_id,\n",
      "        gender, \n",
      "        revenue\n",
      "    FROM\n",
      "        cust_table C\n",
      "        JOIN sales_table S ON C.customer_id = S.customer_id\n",
      "    LIMIT 5\n",
      "    ''')\n",
      "#print(join_cheat3)"
     ],
     "language": "python",
     "metadata": {},
     "outputs": []
    },
    {
     "cell_type": "markdown",
     "metadata": {},
     "source": [
      "Above, the issue was that a column with the name customer_id appeared in both the cust_table and the sales_table. SQL didn't know which one you wanted to see. You have to tell it from which table you want the customer_id. \n",
      "\n",
      "In the case above, this seems like a strange practice because the customer_id columns on both tables correspond, and we'd be happy using the column from either table. However, often two tables will use identical column names, but those columns don't correspond.  \n",
      "\n",
      "Let's take a look at the sales_table again:"
     ]
    },
    {
     "cell_type": "code",
     "collapsed": false,
     "input": [
      "run('''\n",
      "    SELECT\n",
      "        *\n",
      "    FROM\n",
      "        sales_table\n",
      "    LIMIT 5\n",
      "    ''') "
     ],
     "language": "python",
     "metadata": {},
     "outputs": []
    },
    {
     "cell_type": "markdown",
     "metadata": {},
     "source": [
      "Above, there's a column called \"id\".\n",
      "\n",
      "Now let's look at the salesman_table again:"
     ]
    },
    {
     "cell_type": "code",
     "collapsed": false,
     "input": [
      "run('''\n",
      "    SELECT\n",
      "        *\n",
      "    FROM\n",
      "        salesman_table\n",
      "    LIMIT 5\n",
      "    ''') "
     ],
     "language": "python",
     "metadata": {},
     "outputs": []
    },
    {
     "cell_type": "markdown",
     "metadata": {},
     "source": [
      "There's a column named \"id\" in the salesman_table too. However, it doesn't look like those IDs correspond to the sales_table IDs. *In fact, it's the salesman_id column in the sales_table that corresponds to the id column in the salesman_table*. More often than not, your tables will use different headers for corresponding columns, and will have columns with identical headers that don't correspond at all. \n",
      "\n",
      "**Write a query to join the salesman_table with the sales_table (select all columns using an asterisk)**"
     ]
    },
    {
     "cell_type": "code",
     "collapsed": false,
     "input": [
      "run('''\n",
      "    SELECT \n",
      "        *\n",
      "    FROM\n",
      "        salesman_table SM\n",
      "        JOIN sales_table S ON SM.id = S.salesman_id\n",
      "    ''') \n",
      "#print(join_cheat4)"
     ],
     "language": "python",
     "metadata": {},
     "outputs": []
    },
    {
     "cell_type": "markdown",
     "metadata": {},
     "source": [
      "This is why it's a good practice to start applying this \"table_x.column_a\" format to all columns in the SELECT clause when you are joining multiple tables, since multiple tables frequenty use the same column names even when they don't correspond. \n",
      "\n",
      "It's common to use single-letter aliases for tables to make queries shorter to write (just to save you time and extra typing). **Take a look at the query below and make sure you understand what's going on with the table aliases. It's the same query that you wrote earlier, but with aliases to help identify the columns**"
     ]
    },
    {
     "cell_type": "code",
     "collapsed": false,
     "input": [
      "run('''\n",
      "    SELECT\n",
      "        S.customer_id,\n",
      "        C.gender,\n",
      "        S.revenue\n",
      "    FROM\n",
      "        sales_table AS S\n",
      "        JOIN cust_table AS C on S.customer_id = C.customer_id\n",
      "    ''')"
     ],
     "language": "python",
     "metadata": {},
     "outputs": []
    },
    {
     "cell_type": "markdown",
     "metadata": {},
     "source": [
      "** Join the sales_table (assign it the alias S) and salesman_table (alias SM) again.**  \n",
      "- Select the id and salesman_id column from the sales_table \n",
      "- Also, select the id column from the salesman_table\n",
      "- Optional: assign aliases to the columns in the SELECT clause to make the result-set easier to read"
     ]
    },
    {
     "cell_type": "code",
     "collapsed": false,
     "input": [
      "run('''\n",
      "    SELECT \n",
      "        SM.id,\n",
      "        S.salesman_id,\n",
      "        S.id\n",
      "    FROM\n",
      "        salesman_table SM\n",
      "        JOIN sales_table S ON SM.id = S.salesman_id\n",
      "    ''') \n",
      "#print(join_cheat5)"
     ],
     "language": "python",
     "metadata": {},
     "outputs": []
    },
    {
     "cell_type": "markdown",
     "metadata": {},
     "source": [
      "_________"
     ]
    },
    {
     "cell_type": "heading",
     "level": 1,
     "metadata": {},
     "source": [
      "Different Types of Joins"
     ]
    },
    {
     "cell_type": "markdown",
     "metadata": {},
     "source": [
      "There are different types of joins you can do according to your needs. Here's a helpful way to visualize your options: http://www.codeproject.com/Articles/33052/Visual-Representation-of-SQL-Joins\n",
      "\n",
      "However, not all types of joins are compatible with SQLite and MySQL. The table below breaks down compatibility:"
     ]
    },
    {
     "cell_type": "code",
     "collapsed": false,
     "input": [
      "join_differences"
     ],
     "language": "python",
     "metadata": {},
     "outputs": []
    },
    {
     "cell_type": "markdown",
     "metadata": {},
     "source": [
      "_______"
     ]
    },
    {
     "cell_type": "markdown",
     "metadata": {},
     "source": [
      "So far, we've just done a simple join, also called an \"inner join\". We didn't have to think much about different kinds of joins because the tables in the car dealership examples all match up perfectly. That is to say, if there was a value in the sales_table's model_id column, it was always had a corresponding value in the car_table model_id column (and vice versa).  Sometimes, this won't be the case, and you'll have to decide what kind of join you want to use. \n",
      "\n",
      "Just for these next few join lessons we're abondoning the car dealership example and using some new tables. First, let's take a look at each one:"
     ]
    },
    {
     "cell_type": "code",
     "collapsed": false,
     "input": [
      "run('''\n",
      "    SELECT \n",
      "        *\n",
      "    FROM\n",
      "        Dog_Table\n",
      "    ''') "
     ],
     "language": "python",
     "metadata": {},
     "outputs": []
    },
    {
     "cell_type": "code",
     "collapsed": false,
     "input": [
      "run('''\n",
      "    SELECT \n",
      "        *\n",
      "    FROM\n",
      "        Cat_Table\n",
      "    ''') "
     ],
     "language": "python",
     "metadata": {},
     "outputs": []
    },
    {
     "cell_type": "markdown",
     "metadata": {},
     "source": [
      "Notice that the Owner_Name columns on each table have *some* corresponding values (Michael, Gilbert, May and Elizabeth and Donna are in both tables), but they both also have values that don't overlap. "
     ]
    },
    {
     "cell_type": "heading",
     "level": 3,
     "metadata": {},
     "source": [
      "JOINS or INNER JOINS"
     ]
    },
    {
     "cell_type": "markdown",
     "metadata": {},
     "source": [
      "    SELECT\n",
      "        *\n",
      "    FROM \n",
      "        table_x X\n",
      "        JOIN table_y Y ON X.column_a = Y.column_a      # Returns rows when values match on both tables."
     ]
    },
    {
     "cell_type": "markdown",
     "metadata": {},
     "source": [
      "This is what we used in the initial example.  Simple joins, (also called Inner Joins) will combine tables only where there are corresponding values on both tables.\n",
      "\n",
      "**Write a query below to join the Cat_Table and Dog_Table using the same method we've used before:**"
     ]
    },
    {
     "cell_type": "code",
     "collapsed": false,
     "input": [
      "run('''\n",
      "    SELECT \n",
      "        *\n",
      "   FROM \n",
      "        Cat_Table C\n",
      "        JOIN Dog_Table D ON C.Owner_Name = D.Owner_Name\n",
      "    ''')\n",
      "#print(inner_join_cheat)"
     ],
     "language": "python",
     "metadata": {},
     "outputs": []
    },
    {
     "cell_type": "markdown",
     "metadata": {},
     "source": [
      "Notice that the result-set only includes the names that are in both tables. You can think of the results of inner joins as being the overlapping parts of a Venn Diagram. So, essentially we're looking at results *only* where the pet owner has both a cat and a dog. "
     ]
    },
    {
     "cell_type": "markdown",
     "metadata": {},
     "source": [
      "_________"
     ]
    },
    {
     "cell_type": "heading",
     "level": 3,
     "metadata": {},
     "source": [
      "LEFT JOINS or LEFT OUTER JOINS"
     ]
    },
    {
     "cell_type": "markdown",
     "metadata": {},
     "source": [
      "    SELECT\n",
      "        *\n",
      "    FROM \n",
      "        table_x X\n",
      "        LEFT JOIN table_y Y ON X.column_a = Y.column_a   # Returns all rows from 1st table, rows that match from 2nd\n",
      "\n",
      "- LEFT JOINS will return all rows from the first table, but only rows from the second table if a value matches on the key column. \n",
      "\n",
      "**Rewrite your query from above, but instead of \"JOIN\", write \"LEFT JOIN\":**"
     ]
    },
    {
     "cell_type": "code",
     "collapsed": false,
     "input": [
      "run('''\n",
      "    SELECT \n",
      "        *\n",
      "   FROM \n",
      "        Cat_Table C\n",
      "        LEFT JOIN Dog_Table D ON C.Owner_Name = D.Owner_Name\n",
      "    ''')\n",
      "#print(left_join_cheat)"
     ],
     "language": "python",
     "metadata": {},
     "outputs": []
    },
    {
     "cell_type": "markdown",
     "metadata": {},
     "source": [
      "This time, you're seeing everything from the Dog_Table, but only results from the Cat_Table IF the owner also has a dog.  "
     ]
    },
    {
     "cell_type": "markdown",
     "metadata": {},
     "source": [
      "_________"
     ]
    },
    {
     "cell_type": "heading",
     "level": 3,
     "metadata": {},
     "source": [
      "**OUTER JOINS or FULL OUTER JOINS:**"
     ]
    },
    {
     "cell_type": "markdown",
     "metadata": {},
     "source": [
      "    SELECT\n",
      "        *\n",
      "    FROM \n",
      "        table_x X\n",
      "        OUTER JOIN table_y Y ON X.column_a = Y.column_a  # Returns all rows, regardless of whether values match\n",
      "            "
     ]
    },
    {
     "cell_type": "markdown",
     "metadata": {},
     "source": [
      "- Outer joins include ALL rows from both tables, even if the values on the key columns don't match up. \n",
      "- SQLite doesn't support this, so the query below is a workaround to show you the visual effect of an outer join\n",
      "- This provides a great workaround for MySQL: http://stackoverflow.com/questions/4796872/full-outer-join-in-mysql\n",
      "\n",
      "For now, this query won't totally make sense, just pay attention to the results so you can visualize an outer join:"
     ]
    },
    {
     "cell_type": "code",
     "collapsed": false,
     "input": [
      "run('''\n",
      "    SELECT\n",
      "        C.Owner_Name, \n",
      "        Cat_Name, \n",
      "        Dog_Name\n",
      "    FROM\n",
      "        Cat_Table C \n",
      "        LEFT JOIN Dog_Table D ON D.Owner_Name = C.Owner_Name\n",
      "\n",
      "    UNION ALL\n",
      "    \n",
      "    SELECT\n",
      "      D.Owner_Name, \n",
      "      ' ', \n",
      "      Dog_Name  \n",
      "    FROM\n",
      "        Dog_Table D \n",
      "    WHERE \n",
      "        Owner_Name NOT IN (SELECT Owner_Name from Cat_Table)\n",
      "    ''')"
     ],
     "language": "python",
     "metadata": {},
     "outputs": []
    },
    {
     "cell_type": "markdown",
     "metadata": {},
     "source": [
      "Essentially, in Venn Diagram terms, and outer join lets you see all contents of both circles. This join will let you see all pet owners, regardless of whether the own only a cat or only a dog"
     ]
    },
    {
     "cell_type": "markdown",
     "metadata": {},
     "source": [
      "__________"
     ]
    },
    {
     "cell_type": "heading",
     "level": 2,
     "metadata": {},
     "source": [
      "Using the \"WHERE\" Clause to Join Tables"
     ]
    },
    {
     "cell_type": "markdown",
     "metadata": {},
     "source": [
      "    SELECT\n",
      "        *\n",
      "    FROM\n",
      "        table_x X\n",
      "        JOIN table y Y\n",
      "    WHERE\n",
      "        X.column_a = Y.column_a         # tells SQL the key for the join"
     ]
    },
    {
     "cell_type": "markdown",
     "metadata": {},
     "source": [
      "- Some people prefer to use the WHERE clause to specify the key for a join\n",
      "- Fine if the query is short, but SUPER messy when the query is complex\n",
      "- We won't use this moving forward, but it's good to see it in case you run across someone else's code and you need to make sense of it\n",
      "\n",
      "When it's simple, it's not so bad:"
     ]
    },
    {
     "cell_type": "code",
     "collapsed": false,
     "input": [
      "run('''\n",
      "    SELECT\n",
      "        C.model, \n",
      "        S.revenue\n",
      "    FROM\n",
      "        sales_table S, car_table C \n",
      "    WHERE\n",
      "        S.model_id = C.model_id\n",
      "    LIMIT 5\n",
      "    ''')"
     ],
     "language": "python",
     "metadata": {},
     "outputs": []
    },
    {
     "cell_type": "markdown",
     "metadata": {},
     "source": [
      "When the query is longer, this method is messy. Suddenly it's harder to parse out which parts of the \"WHERE\" clause are actual filters, and which parts are just facilitating the join. Note that all of this is stuff we've covered so far, try to parse it out:"
     ]
    },
    {
     "cell_type": "code",
     "collapsed": false,
     "input": [
      "run('''\n",
      "    SELECT\n",
      "        C.make,\n",
      "        C.model, \n",
      "        S.revenue,\n",
      "        CUST.gender,\n",
      "        SM.first_name\n",
      "    FROM\n",
      "        sales_table S\n",
      "        JOIN car_table C\n",
      "        JOIN salesman_table SM\n",
      "        JOIN cust_table CUST\n",
      "    WHERE\n",
      "\n",
      "        AND (C.model in ('Tundra', 'Camry', 'Corolla') OR C.make = 'Subaru')\n",
      "        AND S.revenue between 17000 and 22000\n",
      "        AND CUST.gender = 'female' \n",
      "        AND SM.first_name NOT IN ('Kathleen', 'Samantha')\n",
      "    LIMIT 5\n",
      "    ''')"
     ],
     "language": "python",
     "metadata": {},
     "outputs": []
    },
    {
     "cell_type": "markdown",
     "metadata": {},
     "source": [
      "________\n",
      "__________"
     ]
    },
    {
     "cell_type": "heading",
     "level": 1,
     "metadata": {},
     "source": [
      "OPERATORS"
     ]
    },
    {
     "cell_type": "heading",
     "level": 3,
     "metadata": {},
     "source": [
      "ADDING / SUBSTRACTING / MULTIPLYING / DIVIDING"
     ]
    },
    {
     "cell_type": "markdown",
     "metadata": {},
     "source": [
      "    SELECT\n",
      "        column_a + column_b     # adds the values in column_a to the values in columns_b\n",
      "    FROM\n",
      "        table_name\n",
      "        \n",
      "- Use the standard formats for add, subtract, mutiply, and divide: +   -    *    /\n",
      "\n",
      "The query below subtracts cogs (from the car_table) from revenue (from the sales_table) to show us the gross_profit per transaction"
     ]
    },
    {
     "cell_type": "code",
     "collapsed": false,
     "input": [
      "run('''\n",
      "    SELECT\n",
      "        S.id,\n",
      "        C.model, \n",
      "        S.revenue,\n",
      "        C.cogs,\n",
      "        S.revenue - C.cogs AS gross_profit\n",
      "    FROM\n",
      "        sales_table S \n",
      "        JOIN car_table C on S.model_id = C.model_id\n",
      "    LIMIT 5\n",
      "    ''') "
     ],
     "language": "python",
     "metadata": {},
     "outputs": []
    },
    {
     "cell_type": "markdown",
     "metadata": {},
     "source": [
      "** Rewrite the query above to return gross margin instead of gross profit. Rename the alias as well. Limit it to 5 results**"
     ]
    },
    {
     "cell_type": "code",
     "collapsed": false,
     "input": [
      "run('''\n",
      "    SELECT\n",
      "        S.id,\n",
      "        C.model, \n",
      "        S.revenue,\n",
      "        C.cogs,\n",
      "        (S.revenue - C.cogs) / S.revenue AS Gross_Margin\n",
      "    FROM\n",
      "        sales_table S \n",
      "        JOIN car_table C on S.model_id = C.model_id\n",
      "    LIMIT 5\n",
      "    ''') \n",
      "#print(operator_cheat)"
     ],
     "language": "python",
     "metadata": {},
     "outputs": []
    },
    {
     "cell_type": "markdown",
     "metadata": {},
     "source": [
      "__________"
     ]
    },
    {
     "cell_type": "heading",
     "level": 3,
     "metadata": {},
     "source": [
      "CONCATENATING:"
     ]
    },
    {
     "cell_type": "markdown",
     "metadata": {},
     "source": [
      "Concatenating varies by RDBMS:"
     ]
    },
    {
     "cell_type": "code",
     "collapsed": false,
     "input": [
      "concat_differences"
     ],
     "language": "python",
     "metadata": {},
     "outputs": []
    },
    {
     "cell_type": "markdown",
     "metadata": {},
     "source": [
      "Here we'll use SQLite and use the concatenating operator || to combine words/values in different columns:"
     ]
    },
    {
     "cell_type": "code",
     "collapsed": false,
     "input": [
      "run('''\n",
      "    SELECT\n",
      "        last_name, \n",
      "        first_name,\n",
      "        last_name || ', ' || first_name AS full_name\n",
      "    FROM\n",
      "        salesman_table\n",
      "    ''') "
     ],
     "language": "python",
     "metadata": {},
     "outputs": []
    },
    {
     "cell_type": "markdown",
     "metadata": {},
     "source": [
      "** Use || to pull the make and model from the car_table and make it appear in this format: \"Model (Make)\"**\n",
      "- give it an alias to clean up the column header, otherwise it'll look pretty messy"
     ]
    },
    {
     "cell_type": "code",
     "collapsed": false,
     "input": [
      "run('''\n",
      "    SELECT \n",
      "        model || ' (' || make || ')' AS 'Model (Make)'\n",
      "    FROM\n",
      "        car_table\n",
      "    ''') \n",
      "#print(concat_cheat)"
     ],
     "language": "python",
     "metadata": {},
     "outputs": []
    },
    {
     "cell_type": "markdown",
     "metadata": {},
     "source": [
      "________\n",
      "__________\n"
     ]
    },
    {
     "cell_type": "heading",
     "level": 1,
     "metadata": {},
     "source": [
      "FUNCTIONS:"
     ]
    },
    {
     "cell_type": "markdown",
     "metadata": {},
     "source": [
      "    SELECT\n",
      "        SUM(column_a),             # sums up the values in column_a\n",
      "        AVG(column_a),             # averages the values in column_a\n",
      "        ROUND(AVG(column_a), 2),   # rounds the averaged values in column_a to 2 digits\n",
      "        COUNT(column_a),           # counts the number of rows in column_a  \n",
      "        MAX(column_a),             # returns the maximum value in column_a\n",
      "        MIN(column_a),             # returns the minimum value in column_a\n",
      "        GROUP_CONCAT(column_a)     # returns a comma separated list of all values in column_a\n",
      "    FROM\n",
      "        table_name\n",
      "\n",
      "- Functions can be applied to columns to help analyze data\n",
      "- You can find more than just these basic few in the link below, or just Google what you're looking to do - there's a lot of help available on forums \n",
      "- More on functions: http://www.w3schools.com/sql/sql_functions.asp\n",
      "\n",
      "The function below will sum up everything in the revenue column. Note that now we only get one row:"
     ]
    },
    {
     "cell_type": "code",
     "collapsed": false,
     "input": [
      "run('''\n",
      "    SELECT\n",
      "        SUM(revenue) AS Total_Revenue\n",
      "    FROM \n",
      "        sales_table\n",
      "    ''')"
     ],
     "language": "python",
     "metadata": {},
     "outputs": []
    },
    {
     "cell_type": "markdown",
     "metadata": {},
     "source": [
      "** Rewrite the query to return the average cost of goods for a car in the car table. Try rounding it to cents. **\n",
      "- If you can't remember the name of the column for cost of goods in the car_table, remember you can use \"SELECT * FROM car_table LIMIT 1\" to see the first row of all columns, or you can use \"PRAGMA TABLE_INFO(car_table)\""
     ]
    },
    {
     "cell_type": "code",
     "collapsed": false,
     "input": [
      "run('''\n",
      "    SELECT \n",
      "        ROUND(AVG(cogs), 2) AS Average_Cost_of_Goods\n",
      "    FROM\n",
      "        car_table\n",
      "    ''')\n",
      "#print(avg_cheat)"
     ],
     "language": "python",
     "metadata": {},
     "outputs": []
    },
    {
     "cell_type": "markdown",
     "metadata": {},
     "source": [
      "**Using COUNT(*) will return the number of rows in any given table. Rewrite the query to return the number of rows in the car_table:**\n",
      "- After you've run the query, try changing it by adding \"WHERE make = 'Subaru'\" and see what happens"
     ]
    },
    {
     "cell_type": "code",
     "collapsed": false,
     "input": [
      "run('''\n",
      "    SELECT \n",
      "        COUNT(*)\n",
      "    FROM\n",
      "        sales_table\n",
      "    ''')\n",
      "#print(count_cheat)"
     ],
     "language": "python",
     "metadata": {},
     "outputs": []
    },
    {
     "cell_type": "markdown",
     "metadata": {},
     "source": [
      "You can apply functions on top of other operators. Below is the sum of gross profits:"
     ]
    },
    {
     "cell_type": "code",
     "collapsed": false,
     "input": [
      "run('''\n",
      "    SELECT\n",
      "        '$ ' || SUM(S.revenue - C.cogs) total_gross_profit\n",
      "    FROM\n",
      "        sales_table S\n",
      "        JOIN car_table C on S.model_id = C.model_id \n",
      "    ''') "
     ],
     "language": "python",
     "metadata": {},
     "outputs": []
    },
    {
     "cell_type": "markdown",
     "metadata": {},
     "source": [
      "**Write a query to show the average difference between the sticker_price (in car_table) and the revenue.**\n",
      "- If you want a challenge, try to join cust_table and limit the query to only look at transactions where the customer's age is over 35"
     ]
    },
    {
     "cell_type": "code",
     "collapsed": false,
     "input": [
      "run('''\n",
      "    SELECT \n",
      "        AVG(sticker_price),\n",
      "        AVG(revenue),\n",
      "        AVG(sticker_price) - AVG(revenue)\n",
      "    FROM\n",
      "        sales_table S\n",
      "        JOIN car_table S ON S.model_id = C.model_id\n",
      "    ''') \n",
      "#print(avg_cheat2)"
     ],
     "language": "python",
     "metadata": {},
     "outputs": []
    },
    {
     "cell_type": "markdown",
     "metadata": {},
     "source": [
      "GROUP_CONCAT is useful to return comma-separated lists of the values in a column as well:"
     ]
    },
    {
     "cell_type": "code",
     "collapsed": false,
     "input": [
      "run('''\n",
      "    SELECT \n",
      "        GROUP_CONCAT(model) as Car_Models\n",
      "    FROM\n",
      "        car_table\n",
      "    ''') "
     ],
     "language": "python",
     "metadata": {},
     "outputs": []
    },
    {
     "cell_type": "markdown",
     "metadata": {},
     "source": [
      "__________\n",
      "__________\n"
     ]
    },
    {
     "cell_type": "heading",
     "level": 1,
     "metadata": {},
     "source": [
      "GROUP BY:"
     ]
    },
    {
     "cell_type": "markdown",
     "metadata": {},
     "source": [
      "    SELECT\n",
      "        column_a,                      \n",
      "        SUM(column_b)    # sums up the values in column_b\n",
      "    FROM\n",
      "        table_name\n",
      "    GROUP BY             # creates one group for each unique value in column_a\n",
      "        column_a\n",
      "\n",
      "\n",
      "- Creates a group for each unique value in the column you specify\n",
      "- Extremely helpful when you're using functions - it segments out results\n",
      "- More on GROUP BY: http://www.w3schools.com/sql/sql_groupby.asp\n",
      "\n",
      "The query below creates a group for each unique value in the car_table's model column, then sums up the revenue for each group. Note that you can use an alias in the GROUP BY clause."
     ]
    },
    {
     "cell_type": "code",
     "collapsed": false,
     "input": [
      "run('''\n",
      "    SELECT\n",
      "        C.model Car_Model, \n",
      "        SUM(revenue) Total_Revenue\n",
      "    FROM\n",
      "        sales_table S\n",
      "        JOIN car_table C on S.model_id = C.model_id\n",
      "    GROUP BY\n",
      "        Car_Model\n",
      "    ''')"
     ],
     "language": "python",
     "metadata": {},
     "outputs": []
    },
    {
     "cell_type": "markdown",
     "metadata": {},
     "source": [
      "**Rewrite the query above to return the average gross profit (revenue - cogs) per make (remember that make is in the car_table)**\n",
      "\n",
      "Extra things to try:\n",
      "- Round average revenue to two decimal points\n",
      "- Order the results by gross profit in descending order\n",
      "- Rename the make column as \"Car_Maker\" and use the alias in the GROUP BY clause\n",
      "- Rename gross profit column as \"Avg_Gross_Profit\" and use the alias in the ORDER BY clause\n",
      "- Join the salesman_table and filter results to only look at revenue where first_name is Michael\n",
      " - After you've gotten the query to run with all of these adjustments, think about the risks involved with adding something in the WHERE clause that doesn't show up in the SELECT clause. Think about a potential solution to these risks."
     ]
    },
    {
     "cell_type": "code",
     "collapsed": false,
     "input": [
      "run('''\n",
      "    SELECT NULL\n",
      "    ''')\n",
      "#print(group_cheat)"
     ],
     "language": "python",
     "metadata": {},
     "outputs": []
    },
    {
     "cell_type": "markdown",
     "metadata": {},
     "source": [
      "**Write a query to make a comma-separated list of models for each car maker:**"
     ]
    },
    {
     "cell_type": "code",
     "collapsed": false,
     "input": [
      "run('''\n",
      "    SELECT NULL\n",
      "    ''')\n",
      "#print(group_cheat1)"
     ],
     "language": "python",
     "metadata": {},
     "outputs": []
    },
    {
     "cell_type": "markdown",
     "metadata": {},
     "source": [
      "GROUP BY, when used with joins and functions, can help you quickly see trends in your data. Parse out what's going on here:"
     ]
    },
    {
     "cell_type": "code",
     "collapsed": false,
     "input": [
      "run('''\n",
      "    SELECT\n",
      "        C.model AS Car_Model, \n",
      "        MIN(S.revenue) AS Max_Sale,\n",
      "        MAX(S.revenue) AS Min_Sale,\n",
      "        MAX(S.revenue) - MIN(S.revenue) AS Range,\n",
      "        ROUND(AVG(S.revenue), 2) AS Average_Sale\n",
      "    FROM\n",
      "        sales_table S\n",
      "        JOIN car_table C on S.model_id = C.model_id \n",
      "    GROUP BY\n",
      "        Car_Model\n",
      "    ORDER BY\n",
      "        Average_Sale DESC\n",
      "    ''')"
     ],
     "language": "python",
     "metadata": {},
     "outputs": []
    },
    {
     "cell_type": "markdown",
     "metadata": {},
     "source": [
      "You can also use GROUP BY with multiple columns to segment out the results further:"
     ]
    },
    {
     "cell_type": "code",
     "collapsed": false,
     "input": [
      "run('''\n",
      "    SELECT\n",
      "        C.Make as car_caker, \n",
      "        payment_type,\n",
      "        ROUND(AVG(revenue)) as avg_revenue\n",
      "    FROM\n",
      "        sales_table S\n",
      "        JOIN car_table C on S.model_id = C.model_id \n",
      "    GROUP BY\n",
      "        C.Make, \n",
      "        payment_type\n",
      "    ''')"
     ],
     "language": "python",
     "metadata": {},
     "outputs": []
    },
    {
     "cell_type": "markdown",
     "metadata": {},
     "source": [
      "**Rewrite the query to find the total revenue grouped by each salesperson's first_name and by the customer's gender (gender column in cust_table)**\n",
      "- For an extra challenge, use the concatenating operator to use the salesperson's full name instead\n",
      "- Add COUNT(S.id) to the SELECT clause to see the number of transactions in each group"
     ]
    },
    {
     "cell_type": "code",
     "collapsed": false,
     "input": [
      "run('''\n",
      "    SELECT NULL\n",
      "    ''')\n",
      "#print(group_cheat2)"
     ],
     "language": "python",
     "metadata": {},
     "outputs": []
    },
    {
     "cell_type": "heading",
     "level": 1,
     "metadata": {},
     "source": [
      "\"HAVING\" in GROUP BY statements:"
     ]
    },
    {
     "cell_type": "markdown",
     "metadata": {},
     "source": [
      "    SELECT\n",
      "        column_a,\n",
      "        SUM(column_b) AS alias_b\n",
      "    FROM\n",
      "        table_name\n",
      "    GROUP BY\n",
      "        column_a HAVING alias_b > x   # only includes groups in column_a when the sum of column_b is greater than x \n",
      "\n",
      "- If you've applied a function to a column and want to filter to only show results meeting a particular criteria, use HAVING in your GROUP BY clause.\n",
      "- More on HAVING: http://www.w3schools.com/sql/sql_having.asp"
     ]
    },
    {
     "cell_type": "code",
     "collapsed": false,
     "input": [
      "run('''\n",
      "    SELECT\n",
      "        C.model as Car_Model, \n",
      "        SUM(revenue) as Total_Revenue\n",
      "    FROM\n",
      "        sales_table S\n",
      "        JOIN car_table C on S.model_id = C.model_id\n",
      "    GROUP BY\n",
      "        Car_Model HAVING Total_Revenue > 300000\n",
      "    ''')"
     ],
     "language": "python",
     "metadata": {},
     "outputs": []
    },
    {
     "cell_type": "markdown",
     "metadata": {},
     "source": [
      "**Rewrite the query above to look at average revenue per model, and using HAVING to filter your result-set to only include models whose average revenue is less than 18,000:**"
     ]
    },
    {
     "cell_type": "code",
     "collapsed": false,
     "input": [
      "run('''\n",
      "    SELECT NULL\n",
      "    ''')\n",
      "#print(having_cheat)"
     ],
     "language": "python",
     "metadata": {},
     "outputs": []
    },
    {
     "cell_type": "heading",
     "level": 3,
     "metadata": {},
     "source": [
      "HAVING vs WHERE:"
     ]
    },
    {
     "cell_type": "markdown",
     "metadata": {},
     "source": [
      "WHERE filters which rows will be included in the function, whereas HAVING filters what's returned *after* the function has been applied.\n",
      "\n",
      "Take a look at the query below. It might look like the query you just wrote (above) if you'd tried to use WHERE instead of HAVING:\n",
      "\n",
      "    SELECT \n",
      "        C.model as Car_Model,\n",
      "        AVG(S.revenue) as Avg_Revenue\n",
      "    FROM\n",
      "        sales_table S\n",
      "        JOIN car_table C on S.model_id = C.model_id      \n",
      "    WHERE \n",
      "        S.revenue < 18000\n",
      "    GROUP BY\n",
      "        Car_Model\n",
      "\n",
      "1. Find the sales_table and join it to the car_table\n",
      "2. Pull the data from the 'model' column in car_table and 'revenue' column in sales_table\n",
      "3. Filter out all rows where revenue is less than 18000\n",
      "4. Average remaining rows for each Car_Model\n",
      "\n",
      "Even though AVG( ) appears early in the query, it's not actually being applied until **after** the WHERE statement has filtered out rows with less than 18,000 in revenue.\n",
      "\n",
      "This is the result:"
     ]
    },
    {
     "cell_type": "code",
     "collapsed": false,
     "input": [
      "run('''\n",
      "    SELECT \n",
      "        C.model as Car_Model,\n",
      "        AVG(S.revenue) as Avg_Revenue\n",
      "    FROM\n",
      "        sales_table S\n",
      "        JOIN car_table C on S.model_id = C.model_id      \n",
      "    WHERE \n",
      "        S.revenue < 18000\n",
      "    GROUP BY\n",
      "        Car_Model\n",
      "    ''')"
     ],
     "language": "python",
     "metadata": {},
     "outputs": []
    },
    {
     "cell_type": "markdown",
     "metadata": {},
     "source": [
      "All model_ids are returned, but the averages are all much lower than they should be. That's because the query *first* drops all rows that have revenue greater than 18000, and *then* averages the remaining rows.\n",
      "\n",
      "When you use HAVING, SQL follows these steps instead (this query should look like the one you wrote in the last challenge):\n",
      "\n",
      "\tSELECT\n",
      "        C.model as Car_Model,\n",
      "        AVG(S.revenue) as Avg_Revenue\n",
      "    FROM\n",
      "        sales_table S\n",
      "        JOIN car_table C on S.model_id = C.model_id\n",
      "    GROUP BY\n",
      "        Car_Model HAVING Avg_Revenue < 18000\n",
      "        \n",
      "1. Find the sales_table and join it to the car_table (same as before)\n",
      "2. Pull the data from the 'model' column in car_table and 'revenue' column in sales_table (same as before)\n",
      "3. Average the rows for each Car_Model\n",
      "4. Return only the Car_Models whose averages are less than 18,000\n",
      "\n",
      "And as you can see, there's a big difference in these results and the results of the query that used \"WHERE\" instead of HAVING:"
     ]
    },
    {
     "cell_type": "code",
     "collapsed": false,
     "input": [
      "run('''\n",
      "    SELECT\n",
      "        C.model as Car_Model,\n",
      "        AVG(S.revenue) as Avg_Revenue\n",
      "    FROM\n",
      "        sales_table S\n",
      "        JOIN car_table C on S.model_id = C.model_id\n",
      "    GROUP BY\n",
      "        Car_Model HAVING Avg_Revenue < 18000\n",
      "    ''')     "
     ],
     "language": "python",
     "metadata": {},
     "outputs": []
    },
    {
     "cell_type": "heading",
     "level": 3,
     "metadata": {},
     "source": [
      "HAVING & WHERE in the same query:"
     ]
    },
    {
     "cell_type": "markdown",
     "metadata": {},
     "source": [
      "- *Sometimes*, you will want to use WHERE and HAVING in the same query\n",
      "- Just be aware of the order of the steps that SQL takes\n",
      "- Rule of thumb: if you're applying a function to a column, you probably don't want that column in there WHERE clause\n",
      "\n",
      "This query is only looking at Toyotas whose revenue is less than 18,000,  using WHERE to limit the results to Toyotas, and HAVING to limit the results by revenue:"
     ]
    },
    {
     "cell_type": "code",
     "collapsed": false,
     "input": [
      "run('''\n",
      "    SELECT\n",
      "        C.model as Car_Model,\n",
      "        AVG(S.revenue) as Avg_Revenue\n",
      "    FROM\n",
      "        sales_table S\n",
      "        JOIN car_table C on S.model_id = C.model_id\n",
      "    WHERE\n",
      "        C.make = 'Toyota'\n",
      "    GROUP BY\n",
      "        Car_Model HAVING Avg_Revenue < 18000\n",
      "    ''') "
     ],
     "language": "python",
     "metadata": {},
     "outputs": []
    },
    {
     "cell_type": "markdown",
     "metadata": {},
     "source": [
      "**Write a query with the following criteria:**\n",
      "- SELECT clause: \n",
      " - salesman's last name and average revenue, rounded to the nearest cent\n",
      "- FROM clause:\n",
      " - sales_table joined with the salesman_table and the cust_table\n",
      "- WHERE clause:\n",
      " - only female customers\n",
      "- GROUP BY clause:\n",
      " - only salespeople whose average revenue was greater than 20,000\n",
      "\n",
      "So, in plain English, we want to see salespeople whose average revenue for female customers is greater than 20,000"
     ]
    },
    {
     "cell_type": "code",
     "collapsed": false,
     "input": [
      "run('''\n",
      "    SELECT NULL\n",
      "    ''')\n",
      "#print(having_where_cheat)"
     ],
     "language": "python",
     "metadata": {},
     "outputs": []
    },
    {
     "cell_type": "markdown",
     "metadata": {},
     "source": [
      "__________\n",
      "___________\n"
     ]
    },
    {
     "cell_type": "heading",
     "level": 1,
     "metadata": {},
     "source": [
      "ROLLUP"
     ]
    },
    {
     "cell_type": "markdown",
     "metadata": {},
     "source": [
      "- Rollup, used with GROUP BY, provides subtotals and totals for your groups\n",
      "- Useful for quick analysis\n",
      "- Varies by RDBMS"
     ]
    },
    {
     "cell_type": "code",
     "collapsed": false,
     "input": [
      "rollup_differences"
     ],
     "language": "python",
     "metadata": {},
     "outputs": []
    },
    {
     "cell_type": "markdown",
     "metadata": {},
     "source": [
      "Because SQLite doesn't support ROLLUP, the query below is just intended to illustrate how ROLLUP would work. Don't worry about understanding the query itself, just get familiar with what's going on in the result-set:"
     ]
    },
    {
     "cell_type": "code",
     "collapsed": false,
     "input": [
      "run('''\n",
      "    SELECT\n",
      "        C.model AS Car_Model, \n",
      "        SUM(S.revenue) as Sum_Revenue\n",
      "    FROM\n",
      "        sales_table S\n",
      "        JOIN car_table C on S.model_id = C.model_id \n",
      "    GROUP BY C.model\n",
      "    \n",
      "    UNION ALL\n",
      "    \n",
      "    SELECT \n",
      "        'NULL', \n",
      "        SUM(S.revenue)\n",
      "    FROM \n",
      "        sales_table S\n",
      "''')"
     ],
     "language": "python",
     "metadata": {},
     "outputs": []
    },
    {
     "cell_type": "markdown",
     "metadata": {},
     "source": [
      "__________\n",
      "___________"
     ]
    },
    {
     "cell_type": "heading",
     "level": 1,
     "metadata": {},
     "source": [
      "Conditional Expressions - IF & CASE WHEN"
     ]
    },
    {
     "cell_type": "markdown",
     "metadata": {},
     "source": [
      "    SELECT\n",
      "        CASE WHEN column_a = x THEN some_value\n",
      "             WHEN column_a = y THEN some_value2\n",
      "             ELSE some_other_value\n",
      "             END some_alias                         # alias optional after END\n",
      "    FROM\n",
      "        table_name\n",
      "\n",
      "- Conditional expressions let you use IF/THEN logic in SQL\n",
      "- In SQLite, you have to use CASE WHEN, but in other RDBMS you may prefer to use IF, depending on your needs\n",
      "- More on CARE WHEN: http://www.dotnet-tricks.com/Tutorial/sqlserver/1MS1120313-Understanding-Case-Expression-in-SQL-Server-with-Example.html"
     ]
    },
    {
     "cell_type": "code",
     "collapsed": false,
     "input": [
      "conditional_differences"
     ],
     "language": "python",
     "metadata": {},
     "outputs": []
    },
    {
     "cell_type": "markdown",
     "metadata": {},
     "source": [
      "Starting with a simple example, here we'll use CASE WHEN to create a new column on the sales_table:"
     ]
    },
    {
     "cell_type": "code",
     "collapsed": false,
     "input": [
      "run('''\n",
      "    SELECT\n",
      "        revenue, \n",
      "        CASE WHEN revenue > 20000 THEN 'Revenue is more than 20,000' \n",
      "            END Conditional_Column\n",
      "    FROM\n",
      "        sales_table\n",
      "    LIMIT 10\n",
      "    ''')"
     ],
     "language": "python",
     "metadata": {},
     "outputs": []
    },
    {
     "cell_type": "markdown",
     "metadata": {},
     "source": [
      "Basically, CASE WHEN gets the value \"Revenue is more MORE 20,000\" when revenue in that same row is greater than 20,000. Otherwise, it has no value.\n",
      "\n",
      "Now let's add a level:"
     ]
    },
    {
     "cell_type": "code",
     "collapsed": false,
     "input": [
      "run('''\n",
      "    SELECT\n",
      "        revenue, \n",
      "        CASE WHEN revenue > 20000 THEN 'Revenue is MORE than 20,000' \n",
      "             WHEN revenue < 15000 THEN 'Revenue is LESS than 15,000'\n",
      "             END Conditional_Column\n",
      "    FROM\n",
      "        sales_table\n",
      "    LIMIT 10\n",
      "    ''')"
     ],
     "language": "python",
     "metadata": {},
     "outputs": []
    },
    {
     "cell_type": "markdown",
     "metadata": {},
     "source": [
      "Basically, you can add multiple conditional possibilities.\n",
      "\n",
      "Now to deal with the blank spaces. You can assign an \"ELSE\" value to catch anything that's not included in the prior expressions:"
     ]
    },
    {
     "cell_type": "code",
     "collapsed": false,
     "input": [
      "run('''\n",
      "    SELECT\n",
      "        revenue,\n",
      "        CASE WHEN revenue > 20000 THEN 'Revenue is MORE than 20,000' \n",
      "             WHEN revenue < 15000 THEN 'Revenue is LESS than 15,000'\n",
      "             ELSE 'Revenue is NEITHER <15,000 NOR >20,000'\n",
      "             END Conditional_Column\n",
      "    FROM\n",
      "        sales_table\n",
      "    LIMIT 10\n",
      "    ''') "
     ],
     "language": "python",
     "metadata": {},
     "outputs": []
    },
    {
     "cell_type": "markdown",
     "metadata": {},
     "source": [
      "You can use values from another column as well.  Remember this query from the GROUP BY lesson? It's often helpful to look at information broken out by multiple groups, but it's not especially easy to digest:"
     ]
    },
    {
     "cell_type": "code",
     "collapsed": false,
     "input": [
      "run('''\n",
      "    SELECT\n",
      "        C.Make as car_maker, \n",
      "        payment_type,\n",
      "        ROUND(AVG(S.revenue)) as avg_revenue\n",
      "    FROM\n",
      "        sales_table S\n",
      "        JOIN car_table C on S.model_id = C.model_id \n",
      "    GROUP BY\n",
      "        C.Make, \n",
      "        payment_type\n",
      "    ''')"
     ],
     "language": "python",
     "metadata": {},
     "outputs": []
    },
    {
     "cell_type": "markdown",
     "metadata": {},
     "source": [
      "Look at what's going on in that query without the AVG( ) function and the GROUP BY clause:"
     ]
    },
    {
     "cell_type": "code",
     "collapsed": false,
     "input": [
      "run('''\n",
      "    SELECT\n",
      "        C.Make as Car_Maker, \n",
      "        payment_type,\n",
      "        S.revenue\n",
      "    FROM\n",
      "        sales_table S\n",
      "        JOIN car_table C on S.model_id = C.model_id \n",
      "    ''')"
     ],
     "language": "python",
     "metadata": {},
     "outputs": []
    },
    {
     "cell_type": "markdown",
     "metadata": {},
     "source": [
      "The result-set above is essentially what SQL is working with right before it separates the rows into groups and averages the revenue within those groups. \n",
      "\n",
      "Now, we're going to use some CASE WHEN statements to change this a little:"
     ]
    },
    {
     "cell_type": "code",
     "collapsed": false,
     "input": [
      "run('''\n",
      "    SELECT\n",
      "        C.Make as Car_Maker, \n",
      "        payment_type,\n",
      "        CASE WHEN payment_type = 'cash' THEN S.revenue END Cash_Revenue,\n",
      "        CASE WHEN payment_type = 'finance' THEN S.revenue END Finance_Revenue\n",
      "    FROM\n",
      "        sales_table S\n",
      "        JOIN car_table C on S.model_id = C.model_id \n",
      "    ''')"
     ],
     "language": "python",
     "metadata": {},
     "outputs": []
    },
    {
     "cell_type": "markdown",
     "metadata": {},
     "source": [
      "Now let's add back the ROUND() and AVG() functions and the GROUP BY statement:"
     ]
    },
    {
     "cell_type": "code",
     "collapsed": false,
     "input": [
      "run('''\n",
      "    SELECT\n",
      "        C.Make as Car_Maker, \n",
      "        ROUND(AVG(CASE WHEN payment_type = 'cash' THEN S.revenue END)) AS Avg_Cash_Revenue,\n",
      "        ROUND(AVG(CASE WHEN payment_type = 'finance' THEN S.revenue END)) AS Avg_Finance_Revenue\n",
      "    FROM\n",
      "        sales_table S\n",
      "        JOIN car_table C on S.model_id = C.model_id \n",
      "    GROUP BY\n",
      "        C.Make\n",
      "    ''')"
     ],
     "language": "python",
     "metadata": {},
     "outputs": []
    },
    {
     "cell_type": "markdown",
     "metadata": {},
     "source": [
      "CASE WHEN makes this same information a lot easier to read by letting you pivot the result set a little.\n",
      "\n",
      "**Write a query using CASE WHEN to look at total revenue per gender, grouped by each car model**"
     ]
    },
    {
     "cell_type": "code",
     "collapsed": false,
     "input": [
      "run('''\n",
      "    SELECT NULL\n",
      "    ''')\n",
      "#print(case_cheat)"
     ],
     "language": "python",
     "metadata": {},
     "outputs": []
    },
    {
     "cell_type": "markdown",
     "metadata": {},
     "source": [
      "CASE WHEN also lets you create new groups.  Start by looking at the cust_table grouped by age - remember that COUNT(***) tells you how many rows are in each group (which is the same as telling you the number of customers in each group):"
     ]
    },
    {
     "cell_type": "code",
     "collapsed": false,
     "input": [
      "run('''\n",
      "    SELECT\n",
      "        age,\n",
      "        COUNT(*) customers\n",
      "    FROM\n",
      "        cust_table\n",
      "    GROUP BY\n",
      "        age\n",
      "    ''') "
     ],
     "language": "python",
     "metadata": {},
     "outputs": []
    },
    {
     "cell_type": "markdown",
     "metadata": {},
     "source": [
      "When you want to segment your results, but there are too many different values for GROUP BY to be helpful, use CASE WHEN to make your own groups. GROUP BY the column you created with CASE WHEN to look at your newly created segments."
     ]
    },
    {
     "cell_type": "code",
     "collapsed": false,
     "input": [
      "run('''\n",
      "    SELECT\n",
      "        CASE WHEN age BETWEEN 18 AND 24 THEN '18-24 years'\n",
      "             WHEN age BETWEEN 25 AND 34 THEN '25-34 years'\n",
      "             WHEN age BETWEEN 35 AND 44 THEN '35-45 years'\n",
      "             WHEN age BETWEEN 45 AND 54 THEN '45-54 years'\n",
      "             WHEN age BETWEEN 55 AND 64 THEN '55-64 years'\n",
      "             END Age_Group,\n",
      "        COUNT(*) as Customers\n",
      "    FROM\n",
      "        cust_table\n",
      "    GROUP BY\n",
      "        Age_Group\n",
      "    ''') "
     ],
     "language": "python",
     "metadata": {},
     "outputs": []
    },
    {
     "cell_type": "markdown",
     "metadata": {},
     "source": [
      "Ta-DA! Useful customer segments!\n",
      "\n",
      "**Try to break up the \"Customers\" column into 2 columns - one for male and one for female. Keep the age segments intact.** \n",
      "- Note that COUNT(***) cannot be wrapped around a CASE WHEN expression the way that other functions can. Try to think of a different way to get a count.\n",
      "- Extra challenge: try to express male and female customers as a percentage of the total for each group, rounded to 2 decimal points"
     ]
    },
    {
     "cell_type": "code",
     "collapsed": false,
     "input": [
      "run('''\n",
      "    SELECT NULL\n",
      "    ''')\n",
      "#print(case_cheat2)"
     ],
     "language": "python",
     "metadata": {},
     "outputs": []
    },
    {
     "cell_type": "markdown",
     "metadata": {},
     "source": [
      "__________\n",
      "___________\n"
     ]
    },
    {
     "cell_type": "heading",
     "level": 1,
     "metadata": {},
     "source": [
      "NESTING"
     ]
    },
    {
     "cell_type": "markdown",
     "metadata": {},
     "source": [
      "- Nested queries allow you to put a query within a query\n",
      "- Depending on your needs, you might put a nested query in the SELECT clause, the FROM clause, or the WHERE clause\n",
      "\n",
      "Consider the following query. We're using a nested query in the SELECT clause to see the sum of all revenue in the sales_table, and then using it again to what percentage of total revenue can be attributed to each Car_Model."
     ]
    },
    {
     "cell_type": "code",
     "collapsed": false,
     "input": [
      "run('''\n",
      "    SELECT\n",
      "        C.model AS Car_Model,\n",
      "        SUM(S.revenue) AS Revenue_Per_Model,\n",
      "        (SELECT SUM(revenue) FROM sales_table) AS Total_Revenue,\n",
      "        SUM(S.revenue) / (SELECT SUM(revenue) FROM sales_table) AS Contribution_to_Revenue\n",
      "    FROM\n",
      "        sales_table S\n",
      "        JOIN car_table C ON C.model_id = S.model_id\n",
      "    GROUP BY\n",
      "        Car_Model\n",
      "    ''')"
     ],
     "language": "python",
     "metadata": {},
     "outputs": []
    },
    {
     "cell_type": "markdown",
     "metadata": {},
     "source": [
      "**Write a query to look at the model name and COGs for each car in car_table, then use a nested query to also look at the average COGs off all car models in a third column  **\n",
      "- Extra Challenge: add a fourth colum using another nested query to return the difference between each car model's COGs and the average COGs"
     ]
    },
    {
     "cell_type": "code",
     "collapsed": false,
     "input": [
      "run('''\n",
      "    SELECT NULL\n",
      "    ''')\n",
      "#print(nest_cheat1)"
     ],
     "language": "python",
     "metadata": {},
     "outputs": []
    },
    {
     "cell_type": "heading",
     "level": 1,
     "metadata": {},
     "source": [
      "UNION & UNION ALL"
     ]
    },
    {
     "cell_type": "markdown",
     "metadata": {},
     "source": [
      "    SELECT\n",
      "        column_a\n",
      "    FROM\n",
      "        table_x\n",
      "    \n",
      "    UNION               # or UNION ALL\n",
      "    \n",
      "    SELECT\n",
      "        column_b\n",
      "    FROM\n",
      "        table_y\n",
      "- UNION allows you to run a 2nd query (or 3rd or 4th), the results will be ordered by default with the results of the first query\n",
      "- UNION ALL ensures that the results in the result set appear in order that the queries are written\n",
      "- The number of columns in each query **must be** the same in order for UNION & UNION ALL to work\n",
      "\n",
      "Starting with something simple (and a little nonsensical), UNION basically lets you run two entirely separate queries. Technically, they could have nothing to do with each other:"
     ]
    },
    {
     "cell_type": "code",
     "collapsed": false,
     "input": [
      "run('''\n",
      "    SELECT\n",
      "        model\n",
      "    FROM\n",
      "        car_table\n",
      "    WHERE\n",
      "        model = 'Tundra'\n",
      "    \n",
      "    UNION\n",
      "    \n",
      "    SELECT \n",
      "        first_name\n",
      "    FROM\n",
      "        salesman_table\n",
      "    WHERE first_name = 'Jared'\n",
      "    ''')"
     ],
     "language": "python",
     "metadata": {},
     "outputs": []
    },
    {
     "cell_type": "markdown",
     "metadata": {},
     "source": [
      "Some things to note:\n",
      "- Although these queries and their results are unrelated, the column header is dictated by the query that appears first\n",
      "- Even though the query for \"Tundra\" is first, \"Tundra\" is second in the results. UNION will sort all results according to the normal default rules, acending order. \n",
      "- Replace UNION with UNION ALL and run the query again. What changes? "
     ]
    },
    {
     "cell_type": "markdown",
     "metadata": {},
     "source": [
      "**Use UNION to join two queries. The first should have two columns: car model and COGs per car. The second query should show you to average COGs for all the car models, rounded to cents. You want the the average COGs to appear in the last row.** \n",
      "- Remember that united queries need to have the same number of columns."
     ]
    },
    {
     "cell_type": "code",
     "collapsed": false,
     "input": [
      "run('''\n",
      "    SELECT NULL\n",
      "    ''')\n",
      "#print(union_cheat1)"
     ],
     "language": "python",
     "metadata": {},
     "outputs": []
    },
    {
     "cell_type": "markdown",
     "metadata": {},
     "source": [
      "Consider the issue we had before, where SQLite didn't support WITH ROUNDUP. We used this query as a workaround. Does it make sense now?"
     ]
    },
    {
     "cell_type": "code",
     "collapsed": false,
     "input": [
      "run('''\n",
      "    SELECT\n",
      "        C.model AS Car_Model, \n",
      "        SUM(S.revenue) as Sum_Revenue\n",
      "    FROM\n",
      "        sales_table S\n",
      "        JOIN car_table C on S.model_id = C.model_id \n",
      "    GROUP BY C.model\n",
      "    \n",
      "    UNION ALL\n",
      "    \n",
      "    SELECT \n",
      "        'NULL', \n",
      "        SUM(S.revenue)\n",
      "    FROM \n",
      "        sales_table S\n",
      "''')"
     ],
     "language": "python",
     "metadata": {},
     "outputs": []
    },
    {
     "cell_type": "heading",
     "level": 1,
     "metadata": {},
     "source": [
      "Optimization: "
     ]
    },
    {
     "cell_type": "markdown",
     "metadata": {},
     "source": [
      "Non-optimized queries can cause a lot of problems because tables frequently have thousands or millions of rows:\n",
      "\n",
      "If you haven't optimized your query, it might:\n",
      "\n",
      "- Take several minutes (or even hours) to return the information you're requesting\n",
      "- Crash your computer\n",
      "- Muck up the server's processes, and you'll face the wrath of your company's system administrators once they figure out that you are the reason why the whole system has slowed down and everyone is sending them angry emails (this will probably happen to you no matter what. It's a rite of passage).\n",
      "\n",
      "Find a few more useful optimization tips here: http://hungred.com/useful-information/ways-optimize-sql-queries/\n",
      "\n",
      "Some of these seem strange, because we're going ling you NOT to do a bunch of things that you've learned how to do. Stick to this principal: if you're dealing with a small table, you can break a few of these rules. ***The larger the table, the fewer rules you can break.***"
     ]
    },
    {
     "cell_type": "heading",
     "level": 3,
     "metadata": {},
     "source": [
      "DO name specific columns in the SELECT CLAUSE:"
     ]
    },
    {
     "cell_type": "code",
     "collapsed": false,
     "input": [
      "run(''' \n",
      "    SELECT\n",
      "        date,\n",
      "        revenue\n",
      "    FROM \n",
      "        sales_table\n",
      "    ''').head()"
     ],
     "language": "python",
     "metadata": {},
     "outputs": []
    },
    {
     "cell_type": "heading",
     "level": 3,
     "metadata": {},
     "source": [
      "DON'T use an asterisk unless you absolutely have to:"
     ]
    },
    {
     "cell_type": "markdown",
     "metadata": {},
     "source": [
      "Despite everything I've shown you, this is considered a bad practice unless you know for certain that this is a small table:"
     ]
    },
    {
     "cell_type": "code",
     "collapsed": false,
     "input": [
      "run(''' \n",
      "    SELECT\n",
      "        *\n",
      "    FROM \n",
      "        sales_table\n",
      "    ''').head()"
     ],
     "language": "python",
     "metadata": {},
     "outputs": []
    },
    {
     "cell_type": "heading",
     "level": 3,
     "metadata": {},
     "source": [
      "DO use LIKE on small tables and in simple queries:"
     ]
    },
    {
     "cell_type": "markdown",
     "metadata": {},
     "source": [
      "LIKE is helpful if you know where to find something but you can't quite remember what it's called. Try to use a wildcard sparingly - don't use 2 when 1 will suffice:"
     ]
    },
    {
     "cell_type": "code",
     "collapsed": false,
     "input": [
      "run('''\n",
      "    SELECT\n",
      "        model_id, model\n",
      "    FROM \n",
      "        car_table\n",
      "    WHERE\n",
      "        model LIKE '%undra'\n",
      "    ''')"
     ],
     "language": "python",
     "metadata": {},
     "outputs": []
    },
    {
     "cell_type": "heading",
     "level": 3,
     "metadata": {},
     "source": [
      "DON'T use LIKE on large tables or when using JOINs:"
     ]
    },
    {
     "cell_type": "code",
     "collapsed": false,
     "input": [
      "run('''\n",
      "    SELECT \n",
      "        C.model, \n",
      "        AVG(revenue)\n",
      "    FROM\n",
      "        sales_table S\n",
      "        JOIN car_table C on S.model_id = C.model_id \n",
      "    WHERE\n",
      "        C.model LIKE '%undra'\n",
      "''')"
     ],
     "language": "python",
     "metadata": {},
     "outputs": []
    },
    {
     "cell_type": "markdown",
     "metadata": {},
     "source": [
      "If you want to look at average revenue for car models that are like \"%undra\", run the LIKE query on the small table (car_table) *first* to figure out exacly what you're looking for, then use that information to search for the data you need from the sales_table"
     ]
    },
    {
     "cell_type": "heading",
     "level": 3,
     "metadata": {},
     "source": [
      "DO dip your toe in by starting with a small data set"
     ]
    },
    {
     "cell_type": "markdown",
     "metadata": {},
     "source": [
      "Most often, this will take the form of limiting your query to looking at just 1-2 days' worth of data at first. If the query runs quickly, add a few days at a time. If it starts to run slowly, run just a few days at a time and paste results into excel to combine results.\n",
      "\n",
      "The query below won't work because SQLite doesn't recognize dates, but remember these concepts when working with other RDBMS "
     ]
    },
    {
     "cell_type": "code",
     "collapsed": false,
     "input": [
      "run('''\n",
      "    SELECT\n",
      "        revenue,\n",
      "        date\n",
      "    FROM\n",
      "        sales_table\n",
      "    WHERE\n",
      "        date = '1/1/14'\n",
      "    ''')"
     ],
     "language": "python",
     "metadata": {},
     "outputs": []
    },
    {
     "cell_type": "heading",
     "level": 3,
     "metadata": {},
     "source": [
      "DO use a UNION to look at result-sets that aren't mutually exclusive"
     ]
    },
    {
     "cell_type": "markdown",
     "metadata": {},
     "source": [
      "Let's say you were interested in seeing all Toyotas as well as cars with COGs of more than 13000. Write a query for the first group, then a query for the second group, and unite them with UNION. The result set won't show you repeats - if a row matches both result sets, it will only display once."
     ]
    },
    {
     "cell_type": "code",
     "collapsed": false,
     "input": [
      "run('''\n",
      "    SELECT\n",
      "        make, model, cogs\n",
      "    FROM\n",
      "        car_table\n",
      "    WHERE \n",
      "        make = 'Toyota'\n",
      "    \n",
      "    UNION\n",
      "    \n",
      "    SELECT \n",
      "        make, model, cogs\n",
      "    FROM\n",
      "        car_table\n",
      "    WHERE\n",
      "        cogs > 13000\n",
      "    ''')"
     ],
     "language": "python",
     "metadata": {},
     "outputs": []
    },
    {
     "cell_type": "heading",
     "level": 3,
     "metadata": {},
     "source": [
      "DON'T use OR when a UNION will generate the same results"
     ]
    },
    {
     "cell_type": "markdown",
     "metadata": {},
     "source": [
      "Note that we'll get the same results as above, but this query could run MUCH slower on a large table. It's tempting to use OR because it's faster to write, but unless you're dealing with very small tables, avoid the temptation. In 5 years of doing business analytics with SQL, I never used OR once. It's slow. Use a UNION."
     ]
    },
    {
     "cell_type": "code",
     "collapsed": false,
     "input": [
      "run('''\n",
      "    SELECT\n",
      "        make, model, cogs\n",
      "    FROM\n",
      "        car_table\n",
      "    WHERE\n",
      "        make = 'Toyota' OR cogs > 13000\n",
      "    ''')"
     ],
     "language": "python",
     "metadata": {},
     "outputs": []
    },
    {
     "cell_type": "heading",
     "level": 3,
     "metadata": {},
     "source": [
      "DON'T use negative filters when a positive filter is possible"
     ]
    },
    {
     "cell_type": "markdown",
     "metadata": {},
     "source": [
      "Let's say you want to look at cars made by Toyato and Honda, but you don't care about Subaru. It might be tempting to use a negative filter:"
     ]
    },
    {
     "cell_type": "code",
     "collapsed": false,
     "input": [
      "run('''\n",
      "    SELECT\n",
      "        *\n",
      "    FROM\n",
      "        car_table\n",
      "    WHERE\n",
      "        make != 'Subaru'\n",
      "    ''')"
     ],
     "language": "python",
     "metadata": {},
     "outputs": []
    },
    {
     "cell_type": "markdown",
     "metadata": {},
     "source": [
      "On a big table, this will run much more slowly than if you use a positive filter. Try this instead - it might require a little extra typing, but it will run much faster:"
     ]
    },
    {
     "cell_type": "code",
     "collapsed": false,
     "input": [
      "run('''\n",
      "    SELECT\n",
      "        *\n",
      "    FROM\n",
      "        car_table\n",
      "    WHERE\n",
      "        make in ('Toyota', 'Honda')\n",
      "    ''')"
     ],
     "language": "python",
     "metadata": {},
     "outputs": []
    },
    {
     "cell_type": "heading",
     "level": 1,
     "metadata": {},
     "source": [
      "Debugging:"
     ]
    },
    {
     "cell_type": "markdown",
     "metadata": {},
     "source": [
      "- Make sure you have the right names for your columns, and that these columns can be found in the tables named in your FROM clause\n",
      "- If you are joining tables, specify which table each column comes from using table_x.column_a or X.column_a formats\n",
      "- Delete any dangling commas. Often people add a comma to their last expression in the SELECT clause by accident\n",
      "- Check the order of the clauses. Remember to always follow this order:\n",
      "          SELECT\n",
      "          FROM\n",
      "          JOIN...ON \n",
      "          WHERE\n",
      "          GROUP BY\n",
      "          UNION\n",
      "          ORDER BY\n",
      "          LIMIT\n",
      "- Make sure any text variable in quotation marks is properly capitalized\n",
      "- Check all aliases. If you've joined a table, did you use a consistent alias for it throughout?\n",
      "- Getting 0 when you should be getting a number involving decimal points? SQLite is probably treating the number as an integer. Try multiplying the number by 1.0 and run it again.\n",
      "- If you are using UNION, make sure all the queries have the same number of columns/expressions in their SELECT clauses.\n",
      "- Make sure the expressions you are using are compatible with the RDBMS you are using. Google what you're trying to do with the name of the RDBMS (\"join tables oracle\")"
     ]
    },
    {
     "cell_type": "markdown",
     "metadata": {},
     "source": [
      "Diving deeper:\n",
      "http://tech.pro/tutorial/1555/10-easy-steps-to-a-complete-understanding-of-sql"
     ]
    },
    {
     "cell_type": "markdown",
     "metadata": {},
     "source": [
      "Useful tricks for MySQL date/time data: http://www.w3schools.com/sql/func_date_format.asp"
     ]
    },
    {
     "cell_type": "code",
     "collapsed": false,
     "input": [
      "rdbms_differences"
     ],
     "language": "python",
     "metadata": {},
     "outputs": []
    },
    {
     "cell_type": "heading",
     "level": 1,
     "metadata": {},
     "source": [
      "Sample Queries for Business Analysis:"
     ]
    },
    {
     "cell_type": "markdown",
     "metadata": {},
     "source": [
      "Let's say you recently opened a car dealership, and you now have one month's worth of sales data. You want to know how your sales team is doing.\n",
      "\n",
      "Start by looking at the number of cars each person sold last month. The names of the sales team and the list of transactions are on different tables in your database, but SQL can help you with that:"
     ]
    },
    {
     "cell_type": "code",
     "collapsed": false,
     "input": [
      "run('''\n",
      "    SELECT\n",
      "        first_name ||  ' ' || last_name as Salesperson,\n",
      "        COUNT(*) as Cars_Sold\n",
      "    FROM\n",
      "        sales_table S\n",
      "        JOIN salesman_table M ON S.salesman_id = M.id\n",
      "    GROUP BY \n",
      "        Salesperson\n",
      "    ORDER BY \n",
      "        Cars_Sold DESC\n",
      "    ''') "
     ],
     "language": "python",
     "metadata": {},
     "outputs": []
    },
    {
     "cell_type": "markdown",
     "metadata": {},
     "source": [
      "Add on the average amount of revenue made per sale:"
     ]
    },
    {
     "cell_type": "code",
     "collapsed": false,
     "input": [
      "run('''\n",
      "    SELECT\n",
      "        first_name ||  ' ' || last_name as Salesperson,\n",
      "        COUNT(*) as Cars_Sold, \n",
      "        ROUND(AVG(revenue)) as Revenue_per_Sale\n",
      "    FROM\n",
      "        sales_table S\n",
      "        JOIN salesman_table M ON S.salesman_id = M.id\n",
      "    GROUP BY \n",
      "        Salesperson\n",
      "    ORDER BY \n",
      "        Cars_Sold DESC\n",
      "    ''') "
     ],
     "language": "python",
     "metadata": {},
     "outputs": []
    },
    {
     "cell_type": "markdown",
     "metadata": {},
     "source": [
      "Make it easier to compare the average revenue of Jared's sales to the average revenue of per sale overall by adding a column to see by what percent each salesperson's sales are more or less than average:"
     ]
    },
    {
     "cell_type": "code",
     "collapsed": false,
     "input": [
      "run('''\n",
      "    SELECT\n",
      "        first_name ||  ' ' || last_name as Salesperson,\n",
      "        COUNT(*) as Cars_Sold, \n",
      "        ROUND(AVG(revenue), 2) as Rev_per_Sale,\n",
      "        ROUND((((AVG(revenue) \n",
      "            - (SELECT AVG(revenue) from sales_table))\n",
      "            /(SELECT AVG(revenue) from sales_table))*100), 1) || ' %'\n",
      "            as RPS_Compared_to_Avg\n",
      "    FROM\n",
      "        sales_table S\n",
      "        JOIN salesman_table M ON S.salesman_id = M.id\n",
      "    GROUP BY \n",
      "        Salesperson\n",
      "    ORDER BY \n",
      "        Cars_Sold DESC\n",
      "    ''')\n"
     ],
     "language": "python",
     "metadata": {},
     "outputs": []
    },
    {
     "cell_type": "markdown",
     "metadata": {},
     "source": [
      "So maybe Jared is just selling cheaper cars.\n",
      "\n",
      "Let's go further and compare the sale price of each car against the sticker price to see how low Jared was willing to negotiate with customers. Sticker price is in anther table, but again, that's no problem with SQL:"
     ]
    },
    {
     "cell_type": "code",
     "collapsed": false,
     "input": [
      "run('''\n",
      "    SELECT\n",
      "        first_name ||  ' ' || last_name as Salesperson,\n",
      "        COUNT(*) as Cars_Sold, \n",
      "        '$ ' || ROUND(AVG(revenue), 2)  as Rev_per_Sale,\n",
      "        ROUND((((AVG(revenue) \n",
      "            - (SELECT AVG(revenue) from sales_table where salesman_id != 215))\n",
      "            /(SELECT AVG(revenue) from sales_table where salesman_id != 215))*100), 1) || ' %'\n",
      "            AS RPS_Compared_to_Avg,\n",
      "        ROUND((1-(SUM(revenue) / SUM(sticker_price)))*100, 1) || ' %' as Avg_Customer_Discount\n",
      "    FROM\n",
      "        sales_table S\n",
      "        JOIN salesman_table M ON S.salesman_id = M.id\n",
      "        JOIN car_table C ON S.model_id = C.model_id\n",
      "    GROUP BY \n",
      "        Salesperson\n",
      "    ORDER BY \n",
      "        Cars_Sold DESC\n",
      "    ''') "
     ],
     "language": "python",
     "metadata": {},
     "outputs": []
    },
    {
     "cell_type": "markdown",
     "metadata": {},
     "source": [
      "Looks like Jared is letting customers negotiate prices down much more than his peers. \n",
      "\n",
      "But is this a real problem? How much is each salesperson contributing to our gross profits? "
     ]
    },
    {
     "cell_type": "code",
     "collapsed": false,
     "input": [
      "run('''\n",
      "    SELECT\n",
      "        first_name ||  ' ' || last_name as Salesperson,\n",
      "        COUNT(*) as Cars_Sold, \n",
      "        '$ ' || ROUND(AVG(revenue), 2)  as Rev_per_Sale,\n",
      "        ROUND((((AVG(revenue) \n",
      "            - (SELECT AVG(revenue) from sales_table where salesman_id != 215))\n",
      "            /(SELECT AVG(revenue) from sales_table where salesman_id != 215))*100), 1) || ' %'\n",
      "            AS RPS_Compared_to_Peers,\n",
      "        ROUND((1-(SUM(revenue) / SUM(sticker_price)))*100, 1) || ' %' as Avg_Customer_Discount, \n",
      "        ROUND(((SUM(revenue)-sum(C.cogs))\n",
      "            /(SELECT SUM(revenue)-sum(cogs) FROM sales_table S join car_table C on S.model_id = C.model_id))*100, 1) || ' %' as Gross_Profit_Contribution\n",
      "    FROM\n",
      "        sales_table S\n",
      "        JOIN salesman_table M ON S.salesman_id = M.id\n",
      "        JOIN car_table C ON S.model_id = C.model_id\n",
      "    GROUP BY \n",
      "        Salesperson\n",
      "    ORDER BY \n",
      "        Cars_Sold DESC\n",
      "    ''') "
     ],
     "language": "python",
     "metadata": {},
     "outputs": []
    },
    {
     "cell_type": "markdown",
     "metadata": {},
     "source": [
      "SQL really lets you dig. \n",
      "\n",
      "Some other quick examples - we could do a gender breakdown of customers per car model and add a total at the bottom:"
     ]
    },
    {
     "cell_type": "code",
     "collapsed": false,
     "input": [
      "run('''\n",
      "    SELECT\n",
      "        C.model as Car_Model, \n",
      "        ROUND(SUM(CASE WHEN CUST.gender = 'female' THEN 1 END)/(COUNT(S.id)*1.0), 2) AS '% Female Customers',\n",
      "        ROUND(SUM(CASE WHEN CUST.gender = 'male' THEN 1 END)/(COUNT(S.id)*1.0), 2) AS '% Male Customers'\n",
      "    FROM\n",
      "        sales_table S\n",
      "        JOIN car_table C on S.model_id = C.model_id \n",
      "        JOIN cust_table CUST on S.customer_id = CUST.customer_id\n",
      "    GROUP BY \n",
      "        Car_Model\n",
      "    \n",
      "    UNION ALL\n",
      "    \n",
      "    SELECT\n",
      "        'Total:', \n",
      "        ROUND(SUM(CASE WHEN CUST.gender = 'female' THEN 1 END)/(COUNT(S.id)*1.0), 2) AS '% Female Customers',\n",
      "        ROUND(SUM(CASE WHEN CUST.gender = 'male' THEN 1 END)/(COUNT(S.id)*1.0), 2) AS '% Male Customers'\n",
      "    FROM\n",
      "        sales_table S\n",
      "        JOIN cust_table CUST on S.customer_id = CUST.customer_id\n",
      "    ''')"
     ],
     "language": "python",
     "metadata": {},
     "outputs": []
    },
    {
     "cell_type": "markdown",
     "metadata": {},
     "source": [
      "Easily create age groups and see how aggressively each group negotiates (judged by the difference between the actual sale amount and the sticker price):"
     ]
    },
    {
     "cell_type": "code",
     "collapsed": false,
     "input": [
      "run('''\n",
      "    SELECT\n",
      "        CASE WHEN age BETWEEN 18 AND 24 THEN '18-24 years'\n",
      "             WHEN age BETWEEN 25 AND 34 THEN '25-34 years'\n",
      "             WHEN age BETWEEN 35 AND 44 THEN '35-44 years'\n",
      "             WHEN age BETWEEN 45 AND 54 THEN '45-54 years'\n",
      "             WHEN age BETWEEN 55 AND 64 THEN '55-64 years'\n",
      "             END Age_Group,\n",
      "        ROUND((SUM(S.revenue)-SUM(C.sticker_price))/SUM(C.sticker_price), 2) as '% Paid Below Sticker Price'\n",
      "    FROM\n",
      "        sales_table S\n",
      "        JOIN car_table C on S.model_id = C.model_id\n",
      "        JOIN cust_table CUST on S.customer_id = CUST.customer_id\n",
      "    GROUP BY\n",
      "        Age_Group\n",
      "    ''')"
     ],
     "language": "python",
     "metadata": {},
     "outputs": []
    }
   ],
   "metadata": {}
  }
 ]
}