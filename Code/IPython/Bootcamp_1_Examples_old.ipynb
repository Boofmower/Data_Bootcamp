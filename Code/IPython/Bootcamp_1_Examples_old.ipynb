{
 "metadata": {
  "name": "",
  "signature": "sha256:13f87186926ee00698ccb6098679b28c15f7d8d3640aa3101fca2729f06f75ac"
 },
 "nbformat": 3,
 "nbformat_minor": 0,
 "worksheets": [
  {
   "cells": [
    {
     "cell_type": "markdown",
     "metadata": {},
     "source": [
      "###Data Bootcamp 1:  Examples\n",
      "\n",
      "Introduction to Data Bootcamp:  examples that illustrate how Python can be used to access, manipulate, and graph economic and financial data. The examples are\n",
      "\n",
      "* Recent US GDP growth (data from FRED)\n",
      "* GDP per capita in selected countries (data from the World Bank)\n",
      "* Fama-French equity \"factors\" (data from Ken French's website)\n",
      "* S&P 500 ETF (Spyders) (data from Yahoo finance)\n",
      "* read a csv??\n",
      "\n",
      "This is part of a prospective course at NYU's Stern School of Business. More at our Github repository: https://github.com/DaveBackus/Data_Bootcamp"
     ]
    },
    {
     "cell_type": "markdown",
     "metadata": {},
     "source": [
      "**Example 1: Recent US GDP**\n",
      "\n",
      "References\n",
      "\n",
      "* http://research.stlouisfed.org/fred2/\n",
      "* http://pandas.pydata.org/pandas-docs/stable/\n",
      "* http://pandas.pydata.org/pandas-docs/stable/remote_data.html#fred"
     ]
    },
    {
     "cell_type": "code",
     "collapsed": false,
     "input": [
      "# load packages\n",
      "import datetime as dt \n",
      "import pandas.io.data as web\n",
      "import matplotlib.pyplot as plt\n",
      "\n",
      "# This is an IPython command, tells it to put plots here in the notebook, rather than open a separate window.\n",
      "# more at http://stackoverflow.com/questions/21176731/automatically-run-matplotlib-inline-in-ipython-notebook\n",
      "%matplotlib inline"
     ],
     "language": "python",
     "metadata": {},
     "outputs": [],
     "prompt_number": 1
    },
    {
     "cell_type": "code",
     "collapsed": false,
     "input": [
      "# get data from FRED\n",
      "fred_series = [\"GDPC1\"]\n",
      "start = dt.datetime(1985, 1, 1)\n",
      "data = web.DataReader(fred_series, \"fred\", start)\n",
      "print(data.tail())                  # see what we've got"
     ],
     "language": "python",
     "metadata": {},
     "outputs": [
      {
       "output_type": "stream",
       "stream": "stdout",
       "text": [
        "              GDPC1\n",
        "DATE               \n",
        "2013-04-01  15606.6\n",
        "2013-07-01  15779.9\n",
        "2013-10-01  15916.2\n",
        "2014-01-01  15831.7\n",
        "2014-04-01  15994.3\n"
       ]
      }
     ],
     "prompt_number": 2
    },
    {
     "cell_type": "code",
     "collapsed": false,
     "input": [
      "# compute growth rates and plot \n",
      "g = 4*data.pct_change()\n",
      "\n",
      "# change label and print last eight observations  \n",
      "g.columns = ['US GDP Growth']\n",
      "print(g.tail(8))"
     ],
     "language": "python",
     "metadata": {},
     "outputs": [
      {
       "output_type": "stream",
       "stream": "stdout",
       "text": [
        "            US GDP Growth\n",
        "DATE                     \n",
        "2012-07-01       0.024673\n",
        "2012-10-01       0.000622\n",
        "2013-01-01       0.027135\n",
        "2013-04-01       0.017557\n",
        "2013-07-01       0.044417\n",
        "2013-10-01       0.034550\n",
        "2014-01-01      -0.021236\n",
        "2014-04-01       0.041082\n"
       ]
      }
     ],
     "prompt_number": 6
    },
    {
     "cell_type": "code",
     "collapsed": false,
     "input": [
      "# quick and dirty plot \n",
      "g.plot() \n",
      "plt.show() "
     ],
     "language": "python",
     "metadata": {},
     "outputs": [
      {
       "metadata": {},
       "output_type": "display_data",
       "png": "[encoded data removed]",
       "text": [
        "<matplotlib.figure.Figure at 0x5d38ef0>"
       ]
      }
     ],
     "prompt_number": 4
    },
    {
     "cell_type": "code",
     "collapsed": false,
     "input": [
      "# more complex plot\n",
      "# *** coming! "
     ],
     "language": "python",
     "metadata": {},
     "outputs": [],
     "prompt_number": 5
    },
    {
     "cell_type": "code",
     "collapsed": false,
     "input": [],
     "language": "python",
     "metadata": {},
     "outputs": []
    },
    {
     "cell_type": "markdown",
     "metadata": {},
     "source": [
      "**Example 2: GDP per capita and life expectancy**\n",
      "\n",
      "Scatterplot with ball size tied to population...  \n",
      "References\n",
      "??\n",
      "* http://pandas.pydata.org/pandas-docs/stable/remote_data.html#fred"
     ]
    },
    {
     "cell_type": "code",
     "collapsed": false,
     "input": [],
     "language": "python",
     "metadata": {},
     "outputs": []
    },
    {
     "cell_type": "markdown",
     "metadata": {},
     "source": [
      "**Example 3: Fama-French equity \"factors\"**\n",
      "\n",
      "References\n",
      "\n",
      "* http://research.stlouisfed.org/fred2/\n",
      "* http://pandas.pydata.org/pandas-docs/stable/\n",
      "* http://pandas.pydata.org/pandas-docs/stable/remote_data.html#fred"
     ]
    },
    {
     "cell_type": "code",
     "collapsed": false,
     "input": [],
     "language": "python",
     "metadata": {},
     "outputs": []
    },
    {
     "cell_type": "code",
     "collapsed": false,
     "input": [],
     "language": "python",
     "metadata": {},
     "outputs": []
    },
    {
     "cell_type": "code",
     "collapsed": false,
     "input": [],
     "language": "python",
     "metadata": {},
     "outputs": []
    }
   ],
   "metadata": {}
  }
 ]
}