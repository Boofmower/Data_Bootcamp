{
 "metadata": {
  "name": "",
  "signature": "sha256:c3eac9312818f6a6caee5d8394072ce86a02909044873eab749196d98e30f5f1"
 },
 "nbformat": 3,
 "nbformat_minor": 0,
 "worksheets": [
  {
   "cells": [
    {
     "cell_type": "code",
     "collapsed": false,
     "input": [
      "import pandas as pd\n",
      "import sqlite3\n",
      "import xlrd as xl"
     ],
     "language": "python",
     "metadata": {},
     "outputs": [],
     "prompt_number": 1
    },
    {
     "cell_type": "raw",
     "metadata": {},
     "source": [
      "# Set up a SQLite database using an excel file:\n",
      "## http://nbviewer.ipython.org/github/jvns/pandas-cookbook/blob/master/cookbook/Chapter%209%20-%20Loading%20data%20from%20SQL%20databases.ipynb\n",
      "\n",
      "# Select a sample file. \n",
      "# Using an excel file purely because pandas can select different sheets from .xlsx files and this will be useful when creating multiple tables within a single SQLite database\n",
      "path = ('car_sales.xlsx')\n",
      "\n",
      "# if this .sqlite db doesn't already exists, this will create it\n",
      "# if the .sqlite db *does* already exist, this establishes the desired connection\n",
      "con = sqlite3.connect(\"sqlite_cars.sqlite\")\n",
      "\n",
      "# this pulls out the names of the sheets in the workbook. We'll use these to name the different tables in the SQLite database that we'll create\n",
      "table_names = xl.open_workbook(path).sheet_names()\n",
      "\n",
      "# this loop makes it possible to use any other .xls sheet, since the sheet names aren't called out specifically\n",
      "for table in table_names:\n",
      "    df = pd.read_excel(path, sheetname='{}'.format(table))\n",
      "    con.execute(\"DROP TABLE IF EXISTS {}\".format(table))\n",
      "    pd.io.sql.to_sql(df, \"{}\".format(table), con, index=False)\n",
      "\n",
      "# now the spreadsheets are in tables in a mini database!\n",
      "\n",
      "# Finally, a little function to make it easy to run queries on this mini-database\n",
      "def run(query):\n",
      "    results = pd.read_sql(\"{}\".format(query), con)\n",
      "    return results"
     ]
    },
    {
     "cell_type": "code",
     "collapsed": false,
     "input": [
      "# Set up a SQLite database using several .csv files:\n",
      "\n",
      "# if this .sqlite db doesn't already exists, this will create it\n",
      "# if the .sqlite db *does* already exist, this establishes the desired connection\n",
      "con = sqlite3.connect(\"sqlite_cars.sqlite\")\n",
      "\n",
      "# create dataframes from each .csv file:\n",
      "sales_table = pd.read_csv('https://raw.githubusercontent.com/DaveBackus/Data_Bootcamp/master/Code/SQL/sales_table.csv')\n",
      "car_table = pd.read_csv('https://raw.githubusercontent.com/DaveBackus/Data_Bootcamp/master/Code/SQL/car_table.csv')\n",
      "salesman_table = pd.read_csv('https://raw.githubusercontent.com/DaveBackus/Data_Bootcamp/master/Code/SQL/salesman_table.csv')\n",
      "cust_table = pd.read_csv('https://raw.githubusercontent.com/DaveBackus/Data_Bootcamp/master/Code/SQL/cust_table.csv')\n",
      "# make a list of the tables (dataframes) and table names:\n",
      "tables = [sales_table, car_table, salesman_table, cust_table]\n",
      "table_names = ['sales_table', 'car_table', 'salesman_table', 'cust_table']\n",
      "# drop each table name if it already exists to avoid error if you rerun this bit of code\n",
      "# then add it back (or for the first time, if the table didn't already exist)\n",
      "for i in range(len(tables)):\n",
      "    table_name = table_names[i]\n",
      "    table = tables[i]\n",
      "    con.execute(\"DROP TABLE IF EXISTS {}\".format(table_name))\n",
      "    pd.io.sql.to_sql(table, \"{}\".format(table_name), con, index=False)"
     ],
     "language": "python",
     "metadata": {},
     "outputs": [],
     "prompt_number": 2
    },
    {
     "cell_type": "code",
     "collapsed": false,
     "input": [
      "# Finally, a little function to make it easy to run queries on this mini-database\n",
      "def run(query):\n",
      "    results = pd.read_sql(\"{}\".format(query), con)\n",
      "    return results"
     ],
     "language": "python",
     "metadata": {},
     "outputs": [],
     "prompt_number": 3
    },
    {
     "cell_type": "code",
     "collapsed": false,
     "input": [
      "# don't read, just run!\n",
      "join_df_index = ['JOIN or INNER JOIN', 'LEFT JOIN or LEFT OUTER JOIN', 'RIGHT JOIN or RIGHT OUTER JOIN', 'OUTER JOIN or FULL OUTER JOIN']\n",
      "join_df = pd.DataFrame({'SQLite' : pd.Series(['\u2713', '\u2713', 'not supported', 'not supported'], index=join_df_index),\n",
      "                        'MySQL' : pd.Series(['\u2713', '\u2713', '\u2713', 'not supported'], index=join_df_index),\n",
      "                        'Microsoft SQL Server' : pd.Series(['\u2713','\u2713','\u2713','\u2713'], index=join_df_index),\n",
      "                        'Oracle' : pd.Series(['\u2713','\u2713','\u2713','\u2713'], index=join_df_index)})"
     ],
     "language": "python",
     "metadata": {},
     "outputs": [],
     "prompt_number": 4
    },
    {
     "cell_type": "code",
     "collapsed": false,
     "input": [
      "# don't read, just run!\n",
      "path = ('/Users/sarahbeckett-hile/Dropbox/join_examples.xlsx')\n",
      "table_names = xl.open_workbook(path).sheet_names()\n",
      "for table in table_names:\n",
      "    df = pd.read_excel(path, sheetname='{}'.format(table))\n",
      "    con.execute(\"DROP TABLE IF EXISTS {}\".format(table))\n",
      "    pd.io.sql.to_sql(df, \"{}\".format(table), con, index=False)\n",
      "\n",
      "# now the spreadsheets are in tables in our mini database!"
     ],
     "language": "python",
     "metadata": {},
     "outputs": [],
     "prompt_number": 5
    },
    {
     "cell_type": "code",
     "collapsed": false,
     "input": [
      "select_cheat1 = '''\n",
      "    SELECT\n",
      "        *\n",
      "    FROM\n",
      "        car_table\n",
      "    '''\n",
      "    \n",
      "    "
     ],
     "language": "python",
     "metadata": {},
     "outputs": [],
     "prompt_number": 2
    },
    {
     "cell_type": "code",
     "collapsed": false,
     "input": [],
     "language": "python",
     "metadata": {},
     "outputs": []
    }
   ],
   "metadata": {}
  }
 ]
}