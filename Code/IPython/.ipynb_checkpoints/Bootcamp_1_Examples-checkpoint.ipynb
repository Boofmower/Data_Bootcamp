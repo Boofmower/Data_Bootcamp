{
 "metadata": {
  "name": "",
  "signature": "sha256:10ef149cba316e51b9a8254732dd64d09c36cb40fc1f17ace47209da737494e4"
 },
 "nbformat": 3,
 "nbformat_minor": 0,
 "worksheets": [
  {
   "cells": [
    {
     "cell_type": "markdown",
     "metadata": {},
     "source": [
      "## Data Bootcamp 1:  Examples\n",
      "### Python applied to economic and financial data\n",
      "\n",
      "This is an introduction to Data Bootcamp, a course at NYU designed to give students some familiarity with (i) Python and (ii) economic and financial data.  A more complete collection of materials, including this IPython notebook, is available in our [Github repository](https://github.com/DaveBackus/Data_Bootcamp).  \n",
      "\n",
      "In this Python Notebook we illustrate some of the possibilities with examples.  The code will be obscure if you're new to Python, but we will fill in the gaps over time.  In the meantime, you might note for future reference things you run across that you'd like to understand better.  We think it's best to take this one step at a time, but if you're interested in the logic behind the code, we give links to relevant documentation under \"References.\"  The occasional \"Comments\" are things for us to follow up on, we suggest you ignore them.    \n",
      "\n",
      "* Recent US GDP growth (data from FRED)\n",
      "* GDP per capita in selected countries (data from the World Bank)\n",
      "* Fama-French equity \"factors\" (data from Ken French's website)\n",
      "* S&P 500 ETF (Spyders) (data from Yahoo finance)\n",
      "* read a csv??\n",
      "\n",
      "**Warnings**\n",
      "\n",
      "* This program requires internet access, that's where the data comes from.  \n",
      "* It's also work in progress, the eta for the course is Fall 2015.  \n"
     ]
    },
    {
     "cell_type": "markdown",
     "metadata": {},
     "source": [
      "---\n",
      "\n",
      "### Example 1: US GDP Growth\n",
      "\n",
      "Investors -- and others -- keep a close eye on the state of the economy because it affects the performance of firms and financial assets. We'll go into this more extensively later, but for now we want to see what the economy has done in the past, especially the recent past.  We use the wonderful FRED interface (\"API\") and load the data straight from their website.  Then we graph GDP growth over the past 50 years or so and for a more recent period of greater interest.  \n",
      "\n",
      "This strategy -- find the data on the web, load it, and produce a graph -- is a model for much of what we do.  \n",
      "\n",
      "**Question(s).** \n",
      "It's always good to know what you're looking for so we'll post question(s) for each example.  Here we \n",
      "ask how the economy is doing, and how its current performance compares to the past.\n",
      "\n",
      "References\n",
      "\n",
      "* FRED: http://research.stlouisfed.org/fred2/\n",
      "* Pandas: http://pandas.pydata.org/pandas-docs/stable/\n",
      "* Data access: http://pandas.pydata.org/pandas-docs/stable/remote_data.html#fred\n",
      "* Inline plots:  http://stackoverflow.com/questions/21176731/automatically-run-matplotlib-inline-in-ipython-notebook \n",
      "\n",
      "*Note to self:* \n",
      "The FRED API allows you to import transformations like growth rates directly. Is that possible with Pandas? \n",
      "\n",
      "---"
     ]
    },
    {
     "cell_type": "code",
     "collapsed": false,
     "input": [
      "# anything after the hashtag is a comment \n",
      "# load packages \n",
      "import datetime as dt \n",
      "import pandas.io.data as web       # data import tools \n",
      "import matplotlib.pyplot as plt    # plotting tools \n",
      "\n",
      "# The next one is an IPython command:  it says to put plots here in the notebook, rather than open a separate window.\n",
      "%matplotlib inline"
     ],
     "language": "python",
     "metadata": {},
     "outputs": [],
     "prompt_number": 44
    },
    {
     "cell_type": "code",
     "collapsed": false,
     "input": [
      "# get data from FRED\n",
      "fred_series = [\"GDPC1\"]\n",
      "start_date = dt.datetime(1960, 1, 1)\n",
      "data = web.DataReader(fred_series, \"fred\", start_date)\n",
      "\n",
      "# print last 3 data points to see what we've got \n",
      "print(data.tail(3))                  "
     ],
     "language": "python",
     "metadata": {},
     "outputs": [
      {
       "output_type": "stream",
       "stream": "stdout",
       "text": [
        "              GDPC1\n",
        "DATE               \n",
        "2013-10-01  15916.2\n",
        "2014-01-01  15831.7\n",
        "2014-04-01  15994.3\n"
       ]
      }
     ],
     "prompt_number": 36
    },
    {
     "cell_type": "code",
     "collapsed": false,
     "input": [
      "# compute annual growth rates \n",
      "g = 4*data.pct_change()\n",
      "\n",
      "# change label   \n",
      "g.columns = ['US GDP Growth']"
     ],
     "language": "python",
     "metadata": {},
     "outputs": [],
     "prompt_number": 37
    },
    {
     "cell_type": "markdown",
     "metadata": {},
     "source": [
      "The variable g (quarterly GDP growth expressed as an annual rate) is now what Python calls a DataFrame, which is a collection of data organized by variable and observation.  You can get some of its properties by typing some or all of the following in the box below:\n",
      "\n",
      "* type(g)\n",
      "* g.tail()\n",
      "* g.head(2)\n",
      "\n",
      "You can get information about g and what we can do with it by typing:  g.[tab]. (Don't type the second period!) That will pop up a list you can scroll through.  Typically it's a long list, so it takes some experience to know what to do with it.  \n",
      "\n",
      "You can also get information about things you can do with g by typing commands with an open paren:  g.command( and wait.  That will give you the arguments of the command.  g.head and g.tail, for example, have an argument n which is the number of observations to print.  head prints the top of the DataFrame, tail prints the bottom.  If you leave it blank, it prints 5.  "
     ]
    },
    {
     "cell_type": "code",
     "collapsed": false,
     "input": [
      "# enter your commands here\n"
     ],
     "language": "python",
     "metadata": {},
     "outputs": [],
     "prompt_number": 38
    },
    {
     "cell_type": "code",
     "collapsed": false,
     "input": [
      "# more examples:  some statistics on GDP growth  \n",
      "print(['Mean GDP growth ', g.mean()])\n",
      "print(['Std deviation ', g.std()])\n",
      "\n",
      "# do this for subperiods... "
     ],
     "language": "python",
     "metadata": {},
     "outputs": [
      {
       "output_type": "stream",
       "stream": "stdout",
       "text": [
        "['Mean GDP growth ', US GDP Growth    0.030364\n",
        "dtype: float64]\n",
        "['Std deviation ', US GDP Growth    0.033951\n",
        "dtype: float64]\n"
       ]
      }
     ],
     "prompt_number": 39
    },
    {
     "cell_type": "code",
     "collapsed": false,
     "input": [
      "# quick and dirty plot \n",
      "# note the financial crisis:  GDP fell 8% one quarter (at an annual rate, so really 2%)\n",
      "g.plot() \n",
      "plt.show() "
     ],
     "language": "python",
     "metadata": {},
     "outputs": [
      {
       "metadata": {},
       "output_type": "display_data",
       "png": "[encoded data removed]",
       "text": [
        "<matplotlib.figure.Figure at 0x8728b00>"
       ]
      }
     ],
     "prompt_number": 42
    },
    {
     "cell_type": "code",
     "collapsed": false,
     "input": [
      "# more complex plot, bar chart for last 6 quarters\n",
      "# *** coming! \n",
      "\n",
      "# also:  add moving average?  "
     ],
     "language": "python",
     "metadata": {},
     "outputs": [],
     "prompt_number": 7
    },
    {
     "cell_type": "markdown",
     "metadata": {},
     "source": [
      "---\n",
      "\n",
      "### Example 2: Fama-French equity \"factors\"\n",
      "\n",
      "Gene Fama and Ken French are two of the leading academics studying (primarily) equity returns.  Some of this work is summarized in the [press release](http://www.nobelprize.org/nobel_prizes/economic-sciences/laureates/2013/press.html) and related material for the 1013 Nobel Prize in economics, which was shared by Fama with Lars Hansen and Robert Shiller.  For now, it's enough to say that Ken French posts an extensive collection of equity data on his website.  \n",
      "\n",
      "We'll look at what have come to be called the Fama-French factors.  The data includes:\n",
      "\n",
      "* xsm:  the return on the market (aggregate equity) minus the riskfree rate\n",
      "* smb (small minus big):  the return on small firms minus the return on big firms \n",
      "* hml (high minus low):  the return on firms with high book-to-market ratios minus those with low ratios. \n",
      "* rf:  the riskfree rate.\n",
      "\n",
      "We download all of these at once, monthly from 1926.  Each is reported as a percentage.\n",
      "Since they're monthly, you can get a rough annual number if you multiply by 12. \n",
      "\n",
      "**Question(s).** \n",
      "The question we address is how the returns compare:  their means, their variability, and so on.  \n",
      "[Ask yourself:  how would I answer this?  What would I like to do with the data?]\n",
      "\n",
      "References\n",
      "\n",
      "* http://mba.tuck.dartmouth.edu/pages/faculty/ken.french/data_library.html\n",
      "* http://quant-econ.net/pandas.html\n",
      "* http://pandas.pydata.org/pandas-docs/dev/remote_data.html#fama-french\n",
      "* http://pandas.pydata.org/pandas-docs/stable/10min.html#selection \n",
      "* http://matplotlib.org/api/pyplot_api.html#matplotlib.pyplot.boxplot\n",
      "* http://pandas.pydata.org/pandas-docs/dev/generated/pandas.DataFrame.hist.html \n",
      "\n",
      "---"
     ]
    },
    {
     "cell_type": "code",
     "collapsed": false,
     "input": [
      "# read data from Ken French's website (we're still using web)\n",
      "ff = web.DataReader('F-F_Research_Data_Factors', 'famafrench')[0] \n",
      "# NB:  ff.xs is a conflict, rename to xsm  \n",
      "ff.columns = ['xsm', 'smb', 'hml', 'rf']\n",
      "\n",
      "# see what we've got\n",
      "print(ff.tail())\n",
      "print(ff.head(3))\n",
      "print(ff.describe())"
     ],
     "language": "python",
     "metadata": {},
     "outputs": [
      {
       "output_type": "stream",
       "stream": "stdout",
       "text": [
        "         xsm   smb   hml  rf\n",
        "201402  4.65  0.26 -0.48   0\n",
        "201403  0.40 -1.82  4.71   0\n",
        "201404 -0.19 -4.19  1.62   0\n",
        "201405  2.06 -1.88 -0.40   0\n",
        "201406  2.59  2.98 -0.63   0\n",
        "         xsm   smb   hml    rf\n",
        "192607  2.95 -2.46 -2.87  0.22\n",
        "192608  2.63 -1.19  4.60  0.25\n",
        "192609  0.38 -1.33 -0.23  0.23\n",
        "               xsm          smb          hml           rf\n",
        "count  1056.000000  1056.000000  1056.000000  1056.000000\n",
        "mean      0.652045     0.228589     0.393513     0.285511\n",
        "std       5.400846     3.232958     3.509093     0.254148\n",
        "min     -29.080000   -16.390000   -12.680000    -0.060000\n",
        "25%      -2.025000    -1.535000    -1.290000     0.060000\n",
        "50%       1.030000     0.065000     0.225000     0.250000\n",
        "75%       3.675000     1.732500     1.732500     0.430000\n",
        "max      38.040000    37.470000    34.080000     1.350000\n"
       ]
      }
     ],
     "prompt_number": 8
    },
    {
     "cell_type": "code",
     "collapsed": false,
     "input": [
      "# compute and print summary stats \n",
      "moments = [ff.mean(), ff.std(), ff.skew(), ff.kurtosis() - 3]\n",
      "\n",
      "# \\n here is a line break\n",
      "print('Summary stats for Fama-French factors (mean, std, skew, ex kurt)', end='\\n\\n') \n",
      "[print(moment, end='\\n\\n') for moment in moments]"
     ],
     "language": "python",
     "metadata": {},
     "outputs": [
      {
       "output_type": "stream",
       "stream": "stdout",
       "text": [
        "Summary stats for Fama-French factors (mean, std, skew, ex kurt)\n",
        "\n",
        "xsm    0.652045\n",
        "smb    0.228589\n",
        "hml    0.393513\n",
        "rf     0.285511\n",
        "dtype: float64\n",
        "\n",
        "xsm    5.400846\n",
        "smb    3.232958\n",
        "hml    3.509093\n",
        "rf     0.254148\n",
        "dtype: float64\n",
        "\n",
        "xsm    0.157244\n",
        "smb    2.055828\n",
        "hml    1.925815\n",
        "rf     1.046757\n",
        "dtype: float64\n",
        "\n",
        "xsm     4.471481\n",
        "smb    17.623527\n",
        "hml    12.826291\n",
        "rf     -1.744754\n",
        "dtype: float64\n",
        "\n"
       ]
      },
      {
       "metadata": {},
       "output_type": "pyout",
       "prompt_number": 19,
       "text": [
        "[None, None, None, None]"
       ]
      }
     ],
     "prompt_number": 19
    },
    {
     "cell_type": "code",
     "collapsed": false,
     "input": [
      "# try some things yourself \n",
      "# like what?  type ff.[tab]\n"
     ],
     "language": "python",
     "metadata": {},
     "outputs": [
      {
       "output_type": "stream",
       "stream": "stderr",
       "text": [
        "Python 3.4.1 :: Anaconda 2.0.1 (64-bit)\n"
       ]
      }
     ],
     "prompt_number": 21
    },
    {
     "cell_type": "code",
     "collapsed": false,
     "input": [
      "# some plots \n",
      "ff.plot()\n",
      "plt.show()\n",
      "\n",
      "ff.hist(bins=50, sharex=True)\n",
      "plt.show()\n",
      "\n",
      "ff.boxplot(whis=0)\n",
      "plt.show()"
     ],
     "language": "python",
     "metadata": {},
     "outputs": [],
     "prompt_number": 6
    },
    {
     "cell_type": "markdown",
     "metadata": {},
     "source": [
      "**Answer(s)?**  What do you see?  How do the various returns compare?   "
     ]
    },
    {
     "cell_type": "markdown",
     "metadata": {},
     "source": [
      "---\n",
      "\n",
      "### Example 3: GDP per capita and life expectancy\n",
      "\n",
      "The World Bank collects a broad range of economic and social indicators for most countries in the World.  They also have a nice interface.  It's a good source for basic information about the economic climate compares across countries.  \n",
      "\n",
      "We illustrate its usefulness with a ccatterplot of life expectancy v GDP per capita.  \n",
      "\n",
      "**Question(s).**  How closely are these two indicators of quality of life are related.  \n",
      "\n",
      "**References**\n",
      "\n",
      "* http://data.worldbank.org/\n",
      "* http://pandas.pydata.org/pandas-docs/stable/remote_data.html#world-bank\n",
      "* http://matplotlib.org/examples/shapes_and_collections/scatter_demo.html\n",
      "\n",
      "---"
     ]
    },
    {
     "cell_type": "code",
     "collapsed": false,
     "input": [
      "# load package under name wb \n",
      "from pandas.io import wb\n",
      "\n",
      "# find the codes for the variables of interest \n",
      "wb.search\n",
      "#wb.search(string='gdp.*capita')\n",
      "wb.search('gdp.*capita.*const').iloc[:,:2]\n",
      "#wb.search('life*').iloc[:,:2]\n",
      "#wb.search('life*').iloc[:,:2]"
     ],
     "language": "python",
     "metadata": {},
     "outputs": [],
     "prompt_number": 7
    },
    {
     "cell_type": "code",
     "collapsed": false,
     "input": [
      "# specify dates, variables, and countries \n",
      "start = 2011\n",
      "# GDP per capita, population, life expectancy\n",
      "variable_list = ['NY.GDP.PCAP.KD', 'SP.POP.TOTL', 'SP.DYN.LE00.IN']\n",
      "country_list = ['US', 'FR', 'JP', 'CN', 'IN', 'BR', 'MX'] \n",
      "\n",
      "# Python understands we need to go to the second line because ( hasn't been closed by )\n",
      "data = wb.download(indicator=variable_list, \n",
      "                   country=country_list, start=start, end=start).dropna()\n",
      "\n",
      "# see what we've got\n",
      "print(data)"
     ],
     "language": "python",
     "metadata": {},
     "outputs": [],
     "prompt_number": 8
    },
    {
     "cell_type": "code",
     "collapsed": false,
     "input": [
      "# check the column labels, change to something simpler \n",
      "print(data.columns)\n",
      "data.columns = ['gdppc', 'pop', 'le']\n",
      "print(data)\n",
      "print(data['gdppc'])"
     ],
     "language": "python",
     "metadata": {},
     "outputs": [],
     "prompt_number": 9
    },
    {
     "cell_type": "code",
     "collapsed": false,
     "input": [
      "# scatterplot\n",
      "# life expectancy v GDP per capita \n",
      "# size of circles controlled by population \n",
      "\n",
      "# load packages (ignored if redundant) \n",
      "import numpy as np            \n",
      "import matplotlib.pyplot as plt\n",
      "\n",
      "gdppc = np.array(data['gdppc'])\n",
      "print(gdppc)\n",
      "\n",
      "plt.scatter(data['gdppc'], data['le']) %, s=area, alpha=0.5)\n",
      "plt.show()"
     ],
     "language": "python",
     "metadata": {},
     "outputs": [],
     "prompt_number": 10
    },
    {
     "cell_type": "code",
     "collapsed": false,
     "input": [],
     "language": "python",
     "metadata": {},
     "outputs": []
    },
    {
     "cell_type": "code",
     "collapsed": false,
     "input": [],
     "language": "python",
     "metadata": {},
     "outputs": []
    },
    {
     "cell_type": "code",
     "collapsed": false,
     "input": [],
     "language": "python",
     "metadata": {},
     "outputs": []
    },
    {
     "cell_type": "code",
     "collapsed": false,
     "input": [],
     "language": "python",
     "metadata": {},
     "outputs": [],
     "prompt_number": 10
    },
    {
     "cell_type": "markdown",
     "metadata": {},
     "source": [
      "---\n",
      "\n",
      "### Example 4: Option prices\n",
      "\n",
      "A financial option gives its owner the right to buy or sell an asset (the \"underlying\") at a preset price (the \"strike\") by a specific date (the \"expiration date\").  Puts are options to sell, calls are options to buy.  We explore option prices with Yahoo Finance, specifically options on the S&P 500 exchange-traded fund, ticker SPY.  \n",
      "\n",
      "We illustrate its usefulness with a scatterplot of life expectancy v GDP per capita.  \n",
      "\n",
      "**Question(s).**  How do put and call prices vary with their strike price?  [Think about this.  What would you expect?] \n",
      "\n",
      "**References**\n",
      "\n",
      "* http://finance.yahoo.com/q/op?s=SPY+Options\n",
      "* http://pandas.pydata.org/pandas-docs/stable/remote_data.html#yahoo-finance\n",
      "* http://pandas.pydata.org/pandas-docs/stable/remote_data.html#yahoo-finance-options\n",
      "\n",
      "---"
     ]
    },
    {
     "cell_type": "code",
     "collapsed": false,
     "input": [
      "# load packages \n",
      "import pandas as pd \n",
      "import pandas.io.data as web\n",
      "from pandas.io.data import Options\n",
      "import datetime as dt \n",
      "import matplotlib.pylab as plt\n",
      "\n",
      "# ticker \n",
      "ticker = 'spy' "
     ],
     "language": "python",
     "metadata": {},
     "outputs": [],
     "prompt_number": 47
    },
    {
     "cell_type": "code",
     "collapsed": false,
     "input": [
      "# load stock price first (the underlying) \n",
      "# pick a recent date and subtract seven days to be sure we get a quote  \n",
      "# http://pymotw.com/2/datetime/#date-arithmetic\n",
      "today = dt.date.today()\n",
      "one_week = dt.timedelta(days=7)\n",
      "start = today - one_week\n",
      "stock = web.DataReader(ticker, 'yahoo', start) \n",
      "print(stock)        # just to see what we have\n",
      "\n",
      "# take the last close (-1 is the last, 'Close' is the close)\n",
      "# this shows up in our figure \n",
      "atm = stock.ix[-1,'Close']      # the -1 takes the last observation   "
     ],
     "language": "python",
     "metadata": {},
     "outputs": [
      {
       "output_type": "stream",
       "stream": "stdout",
       "text": [
        "              Open    High     Low   Close     Volume  Adj Close\n",
        "Date                                                            \n",
        "2014-09-02  200.97  201.00  199.86  200.61   72265100     200.61\n",
        "2014-09-03  201.38  201.41  200.22  200.50   57379700     200.50\n",
        "2014-09-04  200.84  201.58  199.66  200.21   85033400     200.21\n",
        "2014-09-05  200.17  201.19  199.41  201.11  102023800     201.11\n"
       ]
      }
     ],
     "prompt_number": 59
    },
    {
     "cell_type": "code",
     "collapsed": false,
     "input": [
      "# get option prices for same ticker \n",
      "option = Options(ticker, 'yahoo')\n",
      "expiry = dt.date(2014, 11, 20)\n",
      "data_calls = option.get_call_data(expiry=expiry) #.dropna()\n",
      "data_puts  = option.get_put_data(expiry=expiry).dropna()\n",
      "\n",
      "# check what we have \n",
      "print(data_calls.index) \n",
      "print(data_calls.tail())"
     ],
     "language": "python",
     "metadata": {},
     "outputs": [
      {
       "output_type": "stream",
       "stream": "stdout",
       "text": [
        "Int64Index([0, 1, 2, 3, 4, 5, 6, 7, 8, 9, 10, 11, 12, 13, 14, 15, 16, 17, 18, 19, 20, 21, 22, 23, 24, 25, 26, 27, 28, 29, 30, 31, 32, 33, 34, 35, 36, 37, 38, 39, 40, 41, 42, 43, 44, 45, 46, 47, 48, 49, 50, 51, 52, 53, 54, 55, 56], dtype='int64')\n",
        "    Strike              Symbol  Last   Chg   Bid   Ask   Vol  Open Int\n",
        "52     215  SPY141122C00215000  0.12  0.00  0.10  0.13  2174     13098\n",
        "53     220  SPY141122C00220000  0.04  0.01  0.03  0.06     1      5502\n",
        "54     225  SPY141122C00225000  0.02  0.00  0.01  0.03   200       529\n",
        "55     230  SPY141122C00230000  0.02  0.00   NaN  0.02    40       123\n",
        "56     240  SPY141122C00240000  0.01  0.00   NaN  0.02     5         5\n"
       ]
      }
     ],
     "prompt_number": 61
    },
    {
     "cell_type": "code",
     "collapsed": false,
     "input": [
      "# compute mid of bid and ask and arrange series for plotting \n",
      "calls_bid = data_calls['Bid']\n",
      "calls_ask = data_calls['Ask'] \n",
      "\n",
      "calls_strikes = data_calls['Strike']\n",
      "calls_mid = (data_calls['Bid'] + data_calls['Ask'])/2\n",
      "puts_strikes = data_puts['Strike']\n",
      "puts_mid = (data_puts['Bid'] + data_puts['Ask'])/2"
     ],
     "language": "python",
     "metadata": {},
     "outputs": [],
     "prompt_number": 62
    },
    {
     "cell_type": "markdown",
     "metadata": {},
     "source": [
      "*Note to self.* \n",
      "In older versions of Pandas, prior to 0.14.1, the option input puts the strike in the index, not as a column of data.\n",
      "The next two lines check the versions of pandas and python on the off chance we want to check:  print(pd.__version__), \n",
      "! python --version "
     ]
    },
    {
     "cell_type": "code",
     "collapsed": false,
     "input": [
      "# plot call and put prices v strike \n",
      "plt.plot(calls_strikes, calls_mid, 'r', lw=2, label='calls')\n",
      "plt.plot(puts_strikes, puts_mid, 'b', lw=2, label='puts')\n",
      "\n",
      "# prettify it \n",
      "plt.axis([120, 250, 0, 50])\n",
      "plt.axvline(x=atm, color='k', linestyle='--', label='ATM')               \n",
      "plt.legend(loc='best')\n",
      "plt.show()"
     ],
     "language": "python",
     "metadata": {},
     "outputs": [
      {
       "metadata": {},
       "output_type": "display_data",
       "png": "[encoded data removed]",
       "text": [
        "<matplotlib.figure.Figure at 0x8634710>"
       ]
      }
     ],
     "prompt_number": 65
    },
    {
     "cell_type": "code",
     "collapsed": false,
     "input": [
      "# rerun the figure above with different color lines.  Or dashed lines for call and put prices.  \n",
      "# or change the form of the vertical ATM line:  solid? another color?  "
     ],
     "language": "python",
     "metadata": {},
     "outputs": [],
     "prompt_number": 66
    },
    {
     "cell_type": "code",
     "collapsed": false,
     "input": [],
     "language": "python",
     "metadata": {},
     "outputs": []
    }
   ],
   "metadata": {}
  }
 ]
}