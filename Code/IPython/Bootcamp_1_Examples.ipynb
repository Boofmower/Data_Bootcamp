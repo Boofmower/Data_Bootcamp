{
 "metadata": {
  "name": "",
  "signature": "sha256:6f32fc59689e297d02f03e67e076002ca22fd529614342891d836a39897cb3df"
 },
 "nbformat": 3,
 "nbformat_minor": 0,
 "worksheets": [
  {
   "cells": [
    {
     "cell_type": "markdown",
     "metadata": {},
     "source": [
      "## Data Bootcamp 1:  Examples\n",
      "### Python applied to economic and financial data\n",
      "\n",
      "This is an introduction to Data Bootcamp, a (prospective) course at NYU designed to give students some familiarity with (i) Python and (ii) economic and financial data.  A more complete collection of materials, including this IPython Notebook, is available in our [Github repository](https://github.com/DaveBackus/Data_Bootcamp). (And yes, Python and IPython are different things, but ignore that for now.) \n",
      "\n",
      "In this Notebook we illustrate some of the possibilities with examples.  The code will be obscure if you're new to Python, but we will fill in the gaps over time.  In the meantime, you might note for future reference things you run across that you'd like to understand better.  We think it's best to take this one step at a time, but if you're interested in the logic behind the code, we give links to relevant documentation under \"References.\"  The occasional \"Comments\" are things for us to follow up on, we suggest you ignore them.    \n",
      "\n",
      "* Recent US GDP growth (data from FRED)\n",
      "* GDP per capita in selected countries (data from the World Bank)\n",
      "* Fama-French equity \"factors\" (data from Ken French's website)\n",
      "* S&P 500 ETF (Spyders) (data from Yahoo finance)\n",
      "* read a csv??\n",
      "\n",
      "**Warnings**\n",
      "\n",
      "* This program requires internet access, that's where the data comes from.  \n",
      "* It's also work in progress, the eta for the course is Fall 2015.  \n",
      "\n",
      "**About us.** This is part of a collection of quantitative materials for economics and finance at NYU.  More  at \n",
      "\n",
      "* Tom Sargent and John Stachurski's [Quantitative Economics](http://quant-econ.net/).  Dynamic macroeconomic theory with Python.  \n",
      "* Dave Backus's [Macrofoundations course](https://sites.google.com/site/nyusternmacrofoundations/). A course on the macroeconomics foundations of asset prices and returns, including equity index options and long-term bonds.  Uses Matlab.  \n",
      "\n",
      "---"
     ]
    },
    {
     "cell_type": "markdown",
     "metadata": {},
     "source": [
      "---\n",
      "\n",
      "### Getting started   \n",
      "\n",
      "**Python.**  Python is a popular general-purpose programming language that has been used for a broad range of applications.  Dropbox, for example, is written entirely in Python.  \n",
      "\n",
      "We'll use Python to study economic and financial data, but the same methods -- and more -- can be applied to data from any source.  One of our former students is using it to study patterns of [survival on the Titanic](http://www.kaggle.com/c/titanic-gettingStarted). Another is using it to \n",
      "[process text](http://www.nltk.org/) from analyst reports.  Thanks to [AQR](http://pandas.pydata.org/community.html#history-of-development) and others, the data analytic toolsets in Python now rival stat-focused languages like R.   \n",
      "\n",
      "**Python on the Cloud.**\n",
      "The easiest way to run Python is to run it on the Cloud with [Wakari](https://wakari.io/).  Just click on the link and sign up for an account.  In our experience, it's virtually instantaneous.  Wakari runs what are called IPython Notebooks, which are a combination of Python code and text, with the code executable in chunks.  The text allows us to document what we're doing as we go.  A former student (one who is reasonably tech savvy) writes:  \"IPython seems best for beginners. The structure almost forces good documentation and you can build the script over time versus building and running it all at once.\"\n",
      "\n",
      "The one downside we've found to this is that the Wakari default uses a older version of Python that does not allow some of the cool web tools for data input.  The interface for Yahoo Options data, for example, doesn't quite work (close, but not quite).  We can probably tell Wakari to use a newer version, or write a workaround for this version, but we're not there yet.  \n",
      "\n",
      "If you'd like to give Wakari a try, set up an account and give it a try.  It's pretty close to self-explanatory.  In the near future, we'll give instructions for accessing and running this Notebook. \n",
      "\n",
      "**Python on your computer.** We find this more user-friendly, but it's trickier to set up initially.  Here's what's involved:  \n",
      "\n",
      "*Step 1: Download and install the Anaconda distribution of Python.*  Anaconda is a combination of basic Python and toolsets called packages -- what aficionados call a \"code distribution.\"  Anaconda has all the basics and covers most of what we plan to do.  It has options for most operating systems (Windows, Mac OS, Linux, all of various vintages) and versions of Python (we use version 3.4).  Follow these steps:      \n",
      "\n",
      "* Download the installer. Click on [this link](http://continuum.io/downloads).  Below the words \"Download Anaconda\" you'll see in caps:  \"CHOOSE YOUR INSTALLER.\"  To the right you'll see three logos and the words \"I WANT PYTHON 3.4.\"  First, choose your computer's operating system by clicking on the appropriate logo (window panes, apple, or penguin).  The site usually guesses this, which you can tell because it will be blue rather than gray.  Second, click on \"I WANT PYTHON 3.4.\"  Yup, only the newest and best for you!  Finally, immediately below the words \"CHOOSE YOUR INSTALLER\" you'll see a box with words like \"[Op System] 64-bit / Python 3.4 / Graphical Installer.\"  Click on it to download the installer.  \n",
      "\n",
      "* Install Python.  Once you've downloaded the installer, click on it and follow instructions.  This is no different from any other installation you've done.  \n",
      "\n",
      "*Step 2:  Running Python.* You should now have Python on your computer.  There are two standard ways to run Python:   \n",
      "\n",
      "* Spyder. Our preferred method is to run Python in Spyder.  We'd like to say:  Start it up as you would any program.  That's intentionally glib, we've had difficulty finding the on button in some environments, but there's no single solution, every operating system is different.  In Windows 7, for example, installation usually puts a Spyder icon on the desktop. Click on it and you're good to go.  In Windows 8.1, we managed to locate Spyder in the apps, but it's well hidden.  \n",
      "\n",
      "* Spyder, continued.  Once you get Spyder going, you'll have a pretty standard graphical user interface, similar to what you'd have with Matlab or R (RStudio, for example).  There's an editor, typically on the left, where you can write and edit code.  There are buttons at the top for running it.  There's an IPython console where you can try out commands or ask for help.  We'll do a lot of this, but not right now.    \n",
      "\n",
      "* IPython.  To create or run an IPython Notebook, you need to do something like:  go to the command line and type ipython notebook. If it works, it will look a lot like Wakari, but you'll be running IPython on your computer with whatever version of Python you have installed.  As with Spyder, getting it going is harded in some systems than others.  Good luck!      \n",
      "\n",
      "**Advice.** There's a steep learning curve at the start of any effort like this.  You'll get through it in time, but it takes patience and persistence  We suggest:\n",
      "\n",
      "* Take your time.  This won't happen overnight.  But it won't take weeks, either, before you're doing cool things.  \n",
      "* Ask for help.  This is much easier to do if you have friends doing the same thing.  Or even better, friends who are ahead of you.  You'll probably find you need a lot of help at the start, but once you get going you'll be able to help yourself.  \n",
      "* Google fu.  Once you've made some progress, you can learn a lot just by Googling your issue.  The best links are often the Python documentation and Stack Overflow.  \n",
      "* Start from templates.  The easiest place to start is with programs that work.  Start with one and tweak it till you get what you want.  The documentation includes lots of examples.  And we'll have examples of our own.  \n",
      "\n",
      "**Wordplay.** Python is named for Monty Python.  Idle, a well-know Python editor, is a reference to Eric Idle.  Anaconda is, of course, a play on the snake theme.   \n",
      "\n",
      "--- "
     ]
    },
    {
     "cell_type": "markdown",
     "metadata": {},
     "source": [
      "---\n",
      "\n",
      "### Example 1: US GDP Growth\n",
      "\n",
      "Investors -- and others -- keep a close eye on the state of the economy because it affects the performance of firms and financial assets. We'll go into this more extensively later, but for now we want to see what the economy has done in the past, especially the recent past.  We use the wonderful FRED interface (\"API\") and load the data straight from their website.  Then we graph GDP growth over the past 50 years or so and for a more recent period of greater interest.  \n",
      "\n",
      "This strategy -- find the data on the web, load it, and produce a graph -- is a model for much of what we do.  \n",
      "\n",
      "**Question(s).** \n",
      "It's always good to know what you're looking for so we'll post question(s) for each example.  Here we \n",
      "ask how the economy is doing, and how its current performance compares to the past.\n",
      "\n",
      "References\n",
      "\n",
      "* FRED: http://research.stlouisfed.org/fred2/\n",
      "* Pandas: http://pandas.pydata.org/pandas-docs/stable/\n",
      "* Data access: http://pandas.pydata.org/pandas-docs/stable/remote_data.html#fred\n",
      "* Inline plots:  http://stackoverflow.com/questions/21176731/automatically-run-matplotlib-inline-in-ipython-notebook \n",
      "\n",
      "*Note to self:* \n",
      "The FRED API allows you to import transformations like growth rates directly. Is that possible with Pandas? \n",
      "\n",
      "---"
     ]
    },
    {
     "cell_type": "code",
     "collapsed": false,
     "input": [
      "# anything after the hashtag is a comment \n",
      "# load packages \n",
      "import datetime as dt \n",
      "import pandas.io.data as web       # data import tools \n",
      "import matplotlib.pyplot as plt    # plotting tools \n",
      "\n",
      "# The next one is an IPython command:  it says to put plots here in the notebook, rather than open a separate window.\n",
      "%matplotlib inline"
     ],
     "language": "python",
     "metadata": {},
     "outputs": [],
     "prompt_number": 1
    },
    {
     "cell_type": "code",
     "collapsed": false,
     "input": [
      "# get data from FRED\n",
      "fred_series = [\"GDPC1\"]\n",
      "start_date = dt.datetime(1960, 1, 1)\n",
      "data = web.DataReader(fred_series, \"fred\", start_date)\n",
      "\n",
      "# print last 3 data points to see what we've got \n",
      "print(data.tail(3))                  "
     ],
     "language": "python",
     "metadata": {},
     "outputs": [
      {
       "output_type": "stream",
       "stream": "stdout",
       "text": [
        "              GDPC1\n",
        "DATE               \n",
        "2013-10-01  15916.2\n",
        "2014-01-01  15831.7\n",
        "2014-04-01  16010.4\n"
       ]
      }
     ],
     "prompt_number": 2
    },
    {
     "cell_type": "code",
     "collapsed": false,
     "input": [
      "# compute annual growth rates \n",
      "g = 4*data.pct_change()\n",
      "\n",
      "# change label   \n",
      "g.columns = ['US GDP Growth']"
     ],
     "language": "python",
     "metadata": {},
     "outputs": [],
     "prompt_number": 3
    },
    {
     "cell_type": "markdown",
     "metadata": {},
     "source": [
      "The variable g (quarterly GDP growth expressed as an annual rate) is now what Python calls a DataFrame, which is a collection of data organized by variable and observation.  You can get some of its properties by typing some or all of the following in the box below:\n",
      "\n",
      "* type(g)\n",
      "* g.tail()\n",
      "* g.head(2)\n",
      "\n",
      "You can get information about g and what we can do with it by typing:  g.[tab]. (Don't type the second period!) That will pop up a list you can scroll through.  Typically it's a long list, so it takes some experience to know what to do with it.  \n",
      "\n",
      "You can also get information about things you can do with g by typing commands with an open paren:  g.command( and wait.  That will give you the arguments of the command.  g.head and g.tail, for example, have an argument n which is the number of observations to print.  head prints the top of the DataFrame, tail prints the bottom.  If you leave it blank, it prints 5.  "
     ]
    },
    {
     "cell_type": "code",
     "collapsed": false,
     "input": [
      "# enter your commands here\n"
     ],
     "language": "python",
     "metadata": {},
     "outputs": [],
     "prompt_number": 4
    },
    {
     "cell_type": "code",
     "collapsed": false,
     "input": [
      "# more examples:  some statistics on GDP growth  \n",
      "print(['Mean GDP growth ', g.mean()])\n",
      "print(['Std deviation ', g.std()])\n",
      "\n",
      "# do this for subperiods... "
     ],
     "language": "python",
     "metadata": {},
     "outputs": [
      {
       "output_type": "stream",
       "stream": "stdout",
       "text": [
        "['Mean GDP growth ', US GDP Growth    0.030383\n",
        "dtype: float64]\n",
        "['Std deviation ', US GDP Growth    0.033958\n",
        "dtype: float64]\n"
       ]
      }
     ],
     "prompt_number": 5
    },
    {
     "cell_type": "code",
     "collapsed": false,
     "input": [
      "# quick and dirty plot \n",
      "# note the financial crisis:  GDP fell 8% one quarter (at an annual rate, so really 2%)\n",
      "g.plot() \n",
      "plt.show() "
     ],
     "language": "python",
     "metadata": {},
     "outputs": [
      {
       "metadata": {},
       "output_type": "display_data",
       "png": "[encoded data removed]",
       "text": [
        "<matplotlib.figure.Figure at 0x108406ed0>"
       ]
      }
     ],
     "prompt_number": 6
    },
    {
     "cell_type": "code",
     "collapsed": false,
     "input": [
      "# more complex plot, bar chart for last 6 quarters\n",
      "# also:  add moving average?  "
     ],
     "language": "python",
     "metadata": {},
     "outputs": [],
     "prompt_number": 7
    },
    {
     "cell_type": "markdown",
     "metadata": {},
     "source": [
      "---\n",
      "\n",
      "### Example 2: Fama-French equity \"factors\"\n",
      "\n",
      "Gene Fama and Ken French are two of the leading academics studying (primarily) equity returns.  Some of this work is summarized in the [press release](http://www.nobelprize.org/nobel_prizes/economic-sciences/laureates/2013/press.html) and related material for the 2013 Nobel Prize in economics, which was shared by Fama with Lars Hansen and Robert Shiller.  For now, it's enough to say that Ken French posts an extensive collection of equity data on his website.  \n",
      "\n",
      "We'll look at what have come to be called the Fama-French factors.  The data includes:\n",
      "\n",
      "* xsm:  the return on the market (aggregate equity) minus the riskfree rate\n",
      "* smb (small minus big):  the return on small firms minus the return on big firms \n",
      "* hml (high minus low):  the return on firms with high book-to-market ratios minus those with low ratios. \n",
      "* rf:  the riskfree rate.\n",
      "\n",
      "We download all of these at once, monthly from 1926.  Each is reported as a percentage.\n",
      "Since they're monthly, you can get a rough annual number if you multiply by 12. \n",
      "\n",
      "**Question(s).** \n",
      "The question we address is how the returns compare:  their means, their variability, and so on.  \n",
      "[Ask yourself:  how would I answer this?  What would I like to do with the data?]\n",
      "\n",
      "References\n",
      "\n",
      "* http://mba.tuck.dartmouth.edu/pages/faculty/ken.french/data_library.html\n",
      "* http://quant-econ.net/pandas.html\n",
      "* http://pandas.pydata.org/pandas-docs/dev/remote_data.html#fama-french\n",
      "* http://pandas.pydata.org/pandas-docs/stable/10min.html#selection \n",
      "* http://matplotlib.org/api/pyplot_api.html#matplotlib.pyplot.boxplot\n",
      "* http://pandas.pydata.org/pandas-docs/dev/generated/pandas.DataFrame.hist.html \n",
      "\n",
      "---"
     ]
    },
    {
     "cell_type": "code",
     "collapsed": false,
     "input": [
      "# load packages (if it's redundant it'll be ignored)\n",
      "import pandas.io.data as web      \n",
      "\n",
      "# read data from Ken French's website \n",
      "ff = web.DataReader('F-F_Research_Data_Factors', 'famafrench')[0] \n",
      "# NB:  ff.xs is a conflict, rename to xsm  \n",
      "ff.columns = ['xsm', 'smb', 'hml', 'rf']\n",
      "\n",
      "# see what we've got\n",
      "print(ff.head(3))\n",
      "print(ff.describe())"
     ],
     "language": "python",
     "metadata": {},
     "outputs": [
      {
       "output_type": "stream",
       "stream": "stdout",
       "text": [
        "         xsm   smb   hml    rf\n",
        "192607  2.95 -2.46 -2.87  0.22\n",
        "192608  2.63 -1.19  4.60  0.25\n",
        "192609  0.38 -1.33 -0.23  0.23\n",
        "\n",
        "[3 rows x 4 columns]\n",
        "               xsm          smb          hml           rf\n",
        "count  1056.000000  1056.000000  1056.000000  1056.000000\n",
        "mean      0.652045     0.228589     0.393513     0.285511\n",
        "std       5.400846     3.232958     3.509093     0.254148\n",
        "min     -29.080000   -16.390000   -12.680000    -0.060000\n",
        "25%      -2.025000    -1.535000    -1.290000     0.060000\n",
        "50%       1.030000     0.065000     0.225000     0.250000\n",
        "75%       3.675000     1.732500     1.732500     0.430000\n",
        "max      38.040000    37.470000    34.080000     1.350000\n",
        "\n",
        "[8 rows x 4 columns]\n"
       ]
      }
     ],
     "prompt_number": 1
    },
    {
     "cell_type": "code",
     "collapsed": false,
     "input": [
      "# compute and print summary stats \n",
      "moments = [ff.mean(), ff.std(), ff.skew(), ff.kurtosis() - 3]\n",
      "\n",
      "# \\n here is a line break\n",
      "print('Summary stats for Fama-French factors (mean, std, skew, ex kurt)') #, end='\\n\\n') \n",
      "print(moments)\n",
      "#[print(moment, end='\\n\\n') for moment in moments]"
     ],
     "language": "python",
     "metadata": {},
     "outputs": [
      {
       "output_type": "stream",
       "stream": "stdout",
       "text": [
        "Summary stats for Fama-French factors (mean, std, skew, ex kurt)\n",
        "[xsm    0.652045\n",
        "smb    0.228589\n",
        "hml    0.393513\n",
        "rf     0.285511\n",
        "dtype: float64, xsm    5.400846\n",
        "smb    3.232958\n",
        "hml    3.509093\n",
        "rf     0.254148\n",
        "dtype: float64, xsm    0.157244\n",
        "smb    2.055828\n",
        "hml    1.925815\n",
        "rf     1.046757\n",
        "dtype: float64, xsm     4.471481\n",
        "smb    17.623527\n",
        "hml    12.826291\n",
        "rf     -1.744754\n",
        "dtype: float64]\n"
       ]
      }
     ],
     "prompt_number": 2
    },
    {
     "cell_type": "code",
     "collapsed": false,
     "input": [
      "# try some things yourself \n",
      "# like what?  type ff.[tab]\n",
      "import pandas as pd\n",
      "pd.__version__\n"
     ],
     "language": "python",
     "metadata": {},
     "outputs": [
      {
       "metadata": {},
       "output_type": "pyout",
       "prompt_number": 4,
       "text": [
        "'0.13.1'"
       ]
      }
     ],
     "prompt_number": 4
    },
    {
     "cell_type": "code",
     "collapsed": false,
     "input": [
      "# some plots \n",
      "ff.plot()\n",
      "plt.show()\n",
      "\n",
      "ff.hist(bins=50, sharex=True)\n",
      "plt.show()\n",
      "\n",
      "ff.boxplot(whis=0, return_type='axes')\n",
      "plt.show()"
     ],
     "language": "python",
     "metadata": {},
     "outputs": [
      {
       "metadata": {},
       "output_type": "display_data",
       "png": "[encoded data removed]",
       "text": [
        "<matplotlib.figure.Figure at 0x7f4f063d23d0>"
       ]
      },
      {
       "metadata": {},
       "output_type": "display_data",
       "png": "[encoded data removed]",
       "text": [
        "<matplotlib.figure.Figure at 0x7f4f06383390>"
       ]
      },
      {
       "metadata": {},
       "output_type": "display_data",
       "png": "[encoded data removed]",
       "text": [
        "<matplotlib.figure.Figure at 0x7f4f05bbf650>"
       ]
      }
     ],
     "prompt_number": 11
    },
    {
     "cell_type": "markdown",
     "metadata": {},
     "source": [
      "**Answer(s)?**  Aren't the boxplots in the last figure cool?  The histograms above them?  What do you see in them?  How do the various returns compare?   "
     ]
    },
    {
     "cell_type": "markdown",
     "metadata": {},
     "source": [
      "---\n",
      "\n",
      "### Example 3: GDP per capita and life expectancy\n",
      "\n",
      "The World Bank collects a broad range of economic and social indicators for most countries in the World.  They also have a nice interface.  It's a good source for basic information about the economic climate compares across countries.  \n",
      "\n",
      "We illustrate its usefulness with a scatterplot of life expectancy v GDP per capita.  \n",
      "\n",
      "**Question(s).**  How closely are these two indicators of quality of life are related.  \n",
      "\n",
      "**References**\n",
      "\n",
      "* http://data.worldbank.org/\n",
      "* http://pandas.pydata.org/pandas-docs/stable/remote_data.html#world-bank\n",
      "* http://matplotlib.org/examples/shapes_and_collections/scatter_demo.html\n",
      "\n",
      "---"
     ]
    },
    {
     "cell_type": "code",
     "collapsed": false,
     "input": [
      "# load package under name wb \n",
      "from pandas.io import wb\n",
      "\n",
      "# find the codes for the variables of interest \n",
      "wb.search\n",
      "wb.search(string='gdp.*capita').iloc[:2]"
     ],
     "language": "python",
     "metadata": {},
     "outputs": [
      {
       "html": [
        "<div style=\"max-height:1000px;max-width:1500px;overflow:auto;\">\n",
        "<table border=\"1\" class=\"dataframe\">\n",
        "  <thead>\n",
        "    <tr style=\"text-align: right;\">\n",
        "      <th></th>\n",
        "      <th>id</th>\n",
        "      <th>name</th>\n",
        "      <th>source</th>\n",
        "      <th>sourceNote</th>\n",
        "      <th>sourceOrganization</th>\n",
        "      <th>topics</th>\n",
        "    </tr>\n",
        "  </thead>\n",
        "  <tbody>\n",
        "    <tr>\n",
        "      <th>699</th>\n",
        "      <td>          6.0.GDPpc</td>\n",
        "      <td>                         GDP per capita (2005 USD)</td>\n",
        "      <td> LAC Equity Lab</td>\n",
        "      <td> GDP per capita is gross domestic product divid...</td>\n",
        "      <td> LAC Equity Lab Tablulations of the World Devel...</td>\n",
        "      <td> Economy &amp; Growth</td>\n",
        "    </tr>\n",
        "    <tr>\n",
        "      <th>700</th>\n",
        "      <td> 6.0.GDPpc_constant</td>\n",
        "      <td> GDP per capita, PPP (constant 2011 internation...</td>\n",
        "      <td> LAC Equity Lab</td>\n",
        "      <td> GDP per capita based on purchasing power parit...</td>\n",
        "      <td>     NULWorld Development Indicators (World Bank)L</td>\n",
        "      <td> Economy &amp; Growth</td>\n",
        "    </tr>\n",
        "  </tbody>\n",
        "</table>\n",
        "</div>"
       ],
       "metadata": {},
       "output_type": "pyout",
       "prompt_number": 12,
       "text": [
        "                     id                                               name  \\\n",
        "699           6.0.GDPpc                          GDP per capita (2005 USD)   \n",
        "700  6.0.GDPpc_constant  GDP per capita, PPP (constant 2011 internation...   \n",
        "\n",
        "             source                                         sourceNote  \\\n",
        "699  LAC Equity Lab  GDP per capita is gross domestic product divid...   \n",
        "700  LAC Equity Lab  GDP per capita based on purchasing power parit...   \n",
        "\n",
        "                                    sourceOrganization            topics  \n",
        "699  LAC Equity Lab Tablulations of the World Devel...  Economy & Growth  \n",
        "700      NULWorld Development Indicators (World Bank)L  Economy & Growth  "
       ]
      }
     ],
     "prompt_number": 12
    },
    {
     "cell_type": "code",
     "collapsed": false,
     "input": [
      "# specify dates, variables, and countries \n",
      "start = 2011\n",
      "# GDP per capita, population, life expectancy\n",
      "variable_list = ['NY.GDP.PCAP.KD', 'SP.POP.TOTL', 'SP.DYN.LE00.IN']\n",
      "country_list  = ['US', 'FR', 'JP', 'CN', 'IN', 'BR', 'MX'] \n",
      "\n",
      "# Python understands we need to go to the second line because ( hasn't been closed by )\n",
      "data = wb.download(indicator=variable_list, \n",
      "                   country=country_list, start=start, end=start).dropna()\n",
      "\n",
      "# see what we've got\n",
      "print(data)"
     ],
     "language": "python",
     "metadata": {},
     "outputs": [
      {
       "output_type": "stream",
       "stream": "stdout",
       "text": [
        "                    NY.GDP.PCAP.KD  SP.POP.TOTL  SP.DYN.LE00.IN\n",
        "country       year                                             \n",
        "Brazil        2011     5721.289504    196935134       73.347366\n",
        "China         2011     3121.969728   1344130000       75.042000\n",
        "France        2011    34420.021559     65343588       82.114634\n",
        "India         2011     1086.048676   1221156319       65.958488\n",
        "Japan         2011    36203.430066    127817277       82.591220\n",
        "Mexico        2011     8307.686996    119361233       76.914171\n",
        "United States 2011    44440.158166    311582564       78.641463\n"
       ]
      }
     ],
     "prompt_number": 13
    },
    {
     "cell_type": "code",
     "collapsed": false,
     "input": [
      "# check the column labels, change to something simpler \n",
      "print(data.columns)\n",
      "data.columns = ['gdppc', 'pop', 'le']\n",
      "print(data)"
     ],
     "language": "python",
     "metadata": {},
     "outputs": [
      {
       "output_type": "stream",
       "stream": "stdout",
       "text": [
        "Index([u'NY.GDP.PCAP.KD', u'SP.POP.TOTL', u'SP.DYN.LE00.IN'], dtype='object')\n",
        "                           gdppc         pop         le\n",
        "country       year                                     \n",
        "Brazil        2011   5721.289504   196935134  73.347366\n",
        "China         2011   3121.969728  1344130000  75.042000\n",
        "France        2011  34420.021559    65343588  82.114634\n",
        "India         2011   1086.048676  1221156319  65.958488\n",
        "Japan         2011  36203.430066   127817277  82.591220\n",
        "Mexico        2011   8307.686996   119361233  76.914171\n",
        "United States 2011  44440.158166   311582564  78.641463\n"
       ]
      }
     ],
     "prompt_number": 14
    },
    {
     "cell_type": "code",
     "collapsed": false,
     "input": [
      "# scatterplot\n",
      "# life expectancy v GDP per capita \n",
      "# size of circles controlled by population \n",
      "\n",
      "# load packages (ignored if redundant) \n",
      "import numpy as np            \n",
      "import matplotlib.pyplot as plt\n",
      "\n",
      "plt.scatter(data['gdppc'], data['le'], s=0.000001*data['pop'], alpha=0.5)\n",
      "plt.ylabel('Life Expectancy')\n",
      "plt.xlabel('GDP Per Capita')\n",
      "plt.show()"
     ],
     "language": "python",
     "metadata": {},
     "outputs": [
      {
       "metadata": {},
       "output_type": "display_data",
       "png": "[encoded data removed]",
       "text": [
        "<matplotlib.figure.Figure at 0x7f4f057e5510>"
       ]
      }
     ],
     "prompt_number": 15
    },
    {
     "cell_type": "code",
     "collapsed": false,
     "input": [
      "# Note:  size of circles based on population "
     ],
     "language": "python",
     "metadata": {},
     "outputs": [],
     "prompt_number": 16
    },
    {
     "cell_type": "markdown",
     "metadata": {},
     "source": [
      "---\n",
      "\n",
      "### Example 4: Option prices\n",
      "\n",
      "A financial option gives its owner the right to buy or sell an asset (the \"underlying\") at a preset price (the \"strike\") by a specific date (the \"expiration date\").  Puts are options to sell, calls are options to buy.  We explore option prices with Yahoo Finance, specifically options on the S&P 500 exchange-traded fund, ticker SPY.  \n",
      "\n",
      "We illustrate its usefulness with a scatterplot of life expectancy v GDP per capita.  \n",
      "\n",
      "**Question(s).**  How do put and call prices vary with their strike price?  [Think about this.  What would you expect?] \n",
      "\n",
      "**Warning.** This won't work in Python 2.7 or, in fact, in any environment that uses versions of Pandas prior to 0.14.1.  The Yahoo Option API is labeled experimental and it seems the earlier versions don't allow easy access to the strike prices.  \n",
      "\n",
      "**References**\n",
      "\n",
      "* http://finance.yahoo.com/q/op?s=SPY+Options\n",
      "* http://pandas.pydata.org/pandas-docs/stable/remote_data.html#yahoo-finance\n",
      "* http://pandas.pydata.org/pandas-docs/stable/remote_data.html#yahoo-finance-options\n",
      "\n",
      "---"
     ]
    },
    {
     "cell_type": "code",
     "collapsed": false,
     "input": [
      "# load packages \n",
      "import pandas as pd \n",
      "import pandas.io.data as web\n",
      "from pandas.io.data import Options\n",
      "import datetime as dt \n",
      "import matplotlib.pylab as plt\n",
      "\n",
      "# ticker \n",
      "ticker = 'spy' "
     ],
     "language": "python",
     "metadata": {},
     "outputs": [],
     "prompt_number": 5
    },
    {
     "cell_type": "code",
     "collapsed": false,
     "input": [
      "# load stock price first (the underlying) \n",
      "# pick a recent date and subtract seven days to be sure we get a quote  \n",
      "# http://pymotw.com/2/datetime/#date-arithmetic\n",
      "today = dt.date.today()\n",
      "one_week = dt.timedelta(days=7)\n",
      "start = today - one_week\n",
      "stock = web.DataReader(ticker, 'yahoo', start) \n",
      "print(stock)        # just to see what we have\n",
      "\n",
      "# take the last close (-1 is the last, 'Close' is the close)\n",
      "# this shows up in our figure \n",
      "atm = stock.ix[-1,'Close']      # the -1 takes the last observation   "
     ],
     "language": "python",
     "metadata": {},
     "outputs": [
      {
       "output_type": "stream",
       "stream": "stdout",
       "text": [
        "              Open    High     Low   Close     Volume  Adj Close\n",
        "Date                                                            \n",
        "2014-09-02  200.97  201.00  199.86  200.61   72265100     200.61\n",
        "2014-09-03  201.38  201.41  200.22  200.50   57379700     200.50\n",
        "2014-09-04  200.84  201.58  199.66  200.21   85033400     200.21\n",
        "2014-09-05  200.17  201.19  199.41  201.11  102023800     201.11\n",
        "\n",
        "[4 rows x 6 columns]\n"
       ]
      }
     ],
     "prompt_number": 6
    },
    {
     "cell_type": "code",
     "collapsed": false,
     "input": [
      "# get option prices for same ticker \n",
      "option = Options(ticker, 'yahoo')\n",
      "expiry = dt.date(2014, 11, 20)\n",
      "data_calls = option.get_call_data(expiry=expiry).dropna()\n",
      "data_puts  = option.get_put_data(expiry=expiry).dropna()\n",
      "\n",
      "# check what we have \n",
      "print(data_calls.index) \n",
      "print(data_calls.tail())"
     ],
     "language": "python",
     "metadata": {},
     "outputs": [
      {
       "output_type": "stream",
       "stream": "stdout",
       "text": [
        "Strike  Expiry      Type  Symbol            \n",
        "150     2014-11-22  call  SPY141122C00150000\n",
        "160     2014-11-22  call  SPY141122C00160000\n",
        "162     2014-11-22  call  SPY141122C00162000\n",
        "163     2014-11-22  call  SPY141122C00163000\n",
        "165     2014-11-22  call  SPY141122C00165000\n",
        "167     2014-11-22  call  SPY141122C00167000\n",
        "168     2014-11-22  call  SPY141122C00168000\n",
        "170     2014-11-22  call  SPY141122C00170000\n",
        "171     2014-11-22  call  SPY141122C00171000\n",
        "172     2014-11-22  call  SPY141122C00172000\n",
        "173     2014-11-22  call  SPY141122C00173000\n",
        "174     2014-11-22  call  SPY141122C00174000\n",
        "175     2014-11-22  call  SPY141122C00175000\n",
        "176     2014-11-22  call  SPY141122C00176000\n",
        "177     2014-11-22  call  SPY141122C00177000\n",
        "178     2014-11-22  call  SPY141122C00178000\n",
        "179     2014-11-22  call  SPY141122C00179000\n",
        "180     2014-11-22  call  SPY141122C00180000\n",
        "181     2014-11-22  call  SPY141122C00181000\n",
        "182     2014-11-22  call  SPY141122C00182000\n",
        "183     2014-11-22  call  SPY141122C00183000\n",
        "184     2014-11-22  call  SPY141122C00184000\n",
        "185     2014-11-22  call  SPY141122C00185000\n",
        "186     2014-11-22  call  SPY141122C00186000\n",
        "187     2014-11-22  call  SPY141122C00187000\n",
        "188     2014-11-22  call  SPY141122C00188000\n",
        "189     2014-11-22  call  SPY141122C00189000\n",
        "190     2014-11-22  call  SPY141122C00190000\n",
        "191     2014-11-22  call  SPY141122C00191000\n",
        "192     2014-11-22  call  SPY141122C00192000\n",
        "193     2014-11-22  call  SPY141122C00193000\n",
        "194     2014-11-22  call  SPY141122C00194000\n",
        "195     2014-11-22  call  SPY141122C00195000\n",
        "196     2014-11-22  call  SPY141122C00196000\n",
        "197     2014-11-22  call  SPY141122C00197000\n",
        "198     2014-11-22  call  SPY141122C00198000\n",
        "199     2014-11-22  call  SPY141122C00199000\n",
        "200     2014-11-22  call  SPY141122C00200000\n",
        "201     2014-11-22  call  SPY141122C00201000\n",
        "202     2014-11-22  call  SPY141122C00202000\n",
        "203     2014-11-22  call  SPY141122C00203000\n",
        "204     2014-11-22  call  SPY141122C00204000\n",
        "205     2014-11-22  call  SPY141122C00205000\n",
        "206     2014-11-22  call  SPY141122C00206000\n",
        "207     2014-11-22  call  SPY141122C00207000\n",
        "208     2014-11-22  call  SPY141122C00208000\n",
        "209     2014-11-22  call  SPY141122C00209000\n",
        "210     2014-11-22  call  SPY141122C00210000\n",
        "211     2014-11-22  call  SPY141122C00211000\n",
        "212     2014-11-22  call  SPY141122C00212000\n",
        "213     2014-11-22  call  SPY141122C00213000\n",
        "214     2014-11-22  call  SPY141122C00214000\n",
        "215     2014-11-22  call  SPY141122C00215000\n",
        "220     2014-11-22  call  SPY141122C00220000\n",
        "225     2014-11-22  call  SPY141122C00225000\n",
        "                                           Last   Chg   Bid   Ask  Vol  \\\n",
        "Strike Expiry     Type Symbol                                            \n",
        "213    2014-11-22 call SPY141122C00213000  0.18  0.00  0.16  0.18    7   \n",
        "214    2014-11-22 call SPY141122C00214000  0.14  0.00  0.12  0.13   46   \n",
        "215    2014-11-22 call SPY141122C00215000  0.10 -0.02  0.09  0.11   10   \n",
        "220    2014-11-22 call SPY141122C00220000  0.04  0.00  0.03  0.05    1   \n",
        "225    2014-11-22 call SPY141122C00225000  0.02  0.00  0.01  0.03  200   \n",
        "\n",
        "                                           Open_Int Root IsNonstandard  \\\n",
        "Strike Expiry     Type Symbol                                            \n",
        "213    2014-11-22 call SPY141122C00213000         7  SPY         False   \n",
        "214    2014-11-22 call SPY141122C00214000        45  SPY         False   \n",
        "215    2014-11-22 call SPY141122C00215000     14983  SPY         False   \n",
        "220    2014-11-22 call SPY141122C00220000      5502  SPY         False   \n",
        "225    2014-11-22 call SPY141122C00225000       529  SPY         False   \n",
        "\n",
        "                                          Underlying  Underlying_Price  \\\n",
        "Strike Expiry     Type Symbol                                            \n",
        "213    2014-11-22 call SPY141122C00213000        SPY            200.28   \n",
        "214    2014-11-22 call SPY141122C00214000        SPY            200.28   \n",
        "215    2014-11-22 call SPY141122C00215000        SPY            200.28   \n",
        "220    2014-11-22 call SPY141122C00220000        SPY            200.28   \n",
        "225    2014-11-22 call SPY141122C00225000        SPY            200.28   \n",
        "\n",
        "                                                   Quote_Time  \n",
        "Strike Expiry     Type Symbol                                  \n",
        "213    2014-11-22 call SPY141122C00213000 2014-09-08 01:21:00  \n",
        "214    2014-11-22 call SPY141122C00214000 2014-09-08 01:21:00  \n",
        "215    2014-11-22 call SPY141122C00215000 2014-09-08 01:21:00  \n",
        "220    2014-11-22 call SPY141122C00220000 2014-09-08 01:21:00  \n",
        "225    2014-11-22 call SPY141122C00225000 2014-09-08 01:21:00  \n"
       ]
      }
     ],
     "prompt_number": 18
    },
    {
     "cell_type": "code",
     "collapsed": false,
     "input": [
      "# compute mid of bid and ask and arrange series for plotting \n",
      "calls_bid = data_calls['Bid']\n",
      "calls_ask = data_calls['Ask'] \n",
      "\n",
      "calls_strikes = data_calls['Strike']\n",
      "calls_mid = (data_calls['Bid'] + data_calls['Ask'])/2\n",
      "puts_strikes = data_puts['Strike']\n",
      "puts_mid = (data_puts['Bid'] + data_puts['Ask'])/2"
     ],
     "language": "python",
     "metadata": {},
     "outputs": [
      {
       "ename": "KeyError",
       "evalue": "'Strike'",
       "output_type": "pyerr",
       "traceback": [
        "\u001b[1;31m---------------------------------------------------------------------------\u001b[0m\n\u001b[1;31mKeyError\u001b[0m                                  Traceback (most recent call last)",
        "\u001b[1;32m<ipython-input-19-25b0edcf3607>\u001b[0m in \u001b[0;36m<module>\u001b[1;34m()\u001b[0m\n\u001b[0;32m      3\u001b[0m \u001b[0mcalls_ask\u001b[0m \u001b[1;33m=\u001b[0m \u001b[0mdata_calls\u001b[0m\u001b[1;33m[\u001b[0m\u001b[1;34m'Ask'\u001b[0m\u001b[1;33m]\u001b[0m\u001b[1;33m\u001b[0m\u001b[0m\n\u001b[0;32m      4\u001b[0m \u001b[1;33m\u001b[0m\u001b[0m\n\u001b[1;32m----> 5\u001b[1;33m \u001b[0mcalls_strikes\u001b[0m \u001b[1;33m=\u001b[0m \u001b[0mdata_calls\u001b[0m\u001b[1;33m[\u001b[0m\u001b[1;34m'Strike'\u001b[0m\u001b[1;33m]\u001b[0m\u001b[1;33m\u001b[0m\u001b[0m\n\u001b[0m\u001b[0;32m      6\u001b[0m \u001b[0mcalls_mid\u001b[0m \u001b[1;33m=\u001b[0m \u001b[1;33m(\u001b[0m\u001b[0mdata_calls\u001b[0m\u001b[1;33m[\u001b[0m\u001b[1;34m'Bid'\u001b[0m\u001b[1;33m]\u001b[0m \u001b[1;33m+\u001b[0m \u001b[0mdata_calls\u001b[0m\u001b[1;33m[\u001b[0m\u001b[1;34m'Ask'\u001b[0m\u001b[1;33m]\u001b[0m\u001b[1;33m)\u001b[0m\u001b[1;33m/\u001b[0m\u001b[1;36m2\u001b[0m\u001b[1;33m\u001b[0m\u001b[0m\n\u001b[0;32m      7\u001b[0m \u001b[0mputs_strikes\u001b[0m \u001b[1;33m=\u001b[0m \u001b[0mdata_puts\u001b[0m\u001b[1;33m[\u001b[0m\u001b[1;34m'Strike'\u001b[0m\u001b[1;33m]\u001b[0m\u001b[1;33m\u001b[0m\u001b[0m\n",
        "\u001b[1;32m/opt/anaconda/envs/np18py27-1.9/lib/python2.7/site-packages/pandas/core/frame.pyc\u001b[0m in \u001b[0;36m__getitem__\u001b[1;34m(self, key)\u001b[0m\n\u001b[0;32m   1676\u001b[0m             \u001b[1;32mreturn\u001b[0m \u001b[0mself\u001b[0m\u001b[1;33m.\u001b[0m\u001b[0m_getitem_multilevel\u001b[0m\u001b[1;33m(\u001b[0m\u001b[0mkey\u001b[0m\u001b[1;33m)\u001b[0m\u001b[1;33m\u001b[0m\u001b[0m\n\u001b[0;32m   1677\u001b[0m         \u001b[1;32melse\u001b[0m\u001b[1;33m:\u001b[0m\u001b[1;33m\u001b[0m\u001b[0m\n\u001b[1;32m-> 1678\u001b[1;33m             \u001b[1;32mreturn\u001b[0m \u001b[0mself\u001b[0m\u001b[1;33m.\u001b[0m\u001b[0m_getitem_column\u001b[0m\u001b[1;33m(\u001b[0m\u001b[0mkey\u001b[0m\u001b[1;33m)\u001b[0m\u001b[1;33m\u001b[0m\u001b[0m\n\u001b[0m\u001b[0;32m   1679\u001b[0m \u001b[1;33m\u001b[0m\u001b[0m\n\u001b[0;32m   1680\u001b[0m     \u001b[1;32mdef\u001b[0m \u001b[0m_getitem_column\u001b[0m\u001b[1;33m(\u001b[0m\u001b[0mself\u001b[0m\u001b[1;33m,\u001b[0m \u001b[0mkey\u001b[0m\u001b[1;33m)\u001b[0m\u001b[1;33m:\u001b[0m\u001b[1;33m\u001b[0m\u001b[0m\n",
        "\u001b[1;32m/opt/anaconda/envs/np18py27-1.9/lib/python2.7/site-packages/pandas/core/frame.pyc\u001b[0m in \u001b[0;36m_getitem_column\u001b[1;34m(self, key)\u001b[0m\n\u001b[0;32m   1683\u001b[0m         \u001b[1;31m# get column\u001b[0m\u001b[1;33m\u001b[0m\u001b[1;33m\u001b[0m\u001b[0m\n\u001b[0;32m   1684\u001b[0m         \u001b[1;32mif\u001b[0m \u001b[0mself\u001b[0m\u001b[1;33m.\u001b[0m\u001b[0mcolumns\u001b[0m\u001b[1;33m.\u001b[0m\u001b[0mis_unique\u001b[0m\u001b[1;33m:\u001b[0m\u001b[1;33m\u001b[0m\u001b[0m\n\u001b[1;32m-> 1685\u001b[1;33m             \u001b[1;32mreturn\u001b[0m \u001b[0mself\u001b[0m\u001b[1;33m.\u001b[0m\u001b[0m_get_item_cache\u001b[0m\u001b[1;33m(\u001b[0m\u001b[0mkey\u001b[0m\u001b[1;33m)\u001b[0m\u001b[1;33m\u001b[0m\u001b[0m\n\u001b[0m\u001b[0;32m   1686\u001b[0m \u001b[1;33m\u001b[0m\u001b[0m\n\u001b[0;32m   1687\u001b[0m         \u001b[1;31m# duplicate columns & possible reduce dimensionaility\u001b[0m\u001b[1;33m\u001b[0m\u001b[1;33m\u001b[0m\u001b[0m\n",
        "\u001b[1;32m/opt/anaconda/envs/np18py27-1.9/lib/python2.7/site-packages/pandas/core/generic.pyc\u001b[0m in \u001b[0;36m_get_item_cache\u001b[1;34m(self, item)\u001b[0m\n\u001b[0;32m   1050\u001b[0m         \u001b[0mres\u001b[0m \u001b[1;33m=\u001b[0m \u001b[0mcache\u001b[0m\u001b[1;33m.\u001b[0m\u001b[0mget\u001b[0m\u001b[1;33m(\u001b[0m\u001b[0mitem\u001b[0m\u001b[1;33m)\u001b[0m\u001b[1;33m\u001b[0m\u001b[0m\n\u001b[0;32m   1051\u001b[0m         \u001b[1;32mif\u001b[0m \u001b[0mres\u001b[0m \u001b[1;32mis\u001b[0m \u001b[0mNone\u001b[0m\u001b[1;33m:\u001b[0m\u001b[1;33m\u001b[0m\u001b[0m\n\u001b[1;32m-> 1052\u001b[1;33m             \u001b[0mvalues\u001b[0m \u001b[1;33m=\u001b[0m \u001b[0mself\u001b[0m\u001b[1;33m.\u001b[0m\u001b[0m_data\u001b[0m\u001b[1;33m.\u001b[0m\u001b[0mget\u001b[0m\u001b[1;33m(\u001b[0m\u001b[0mitem\u001b[0m\u001b[1;33m)\u001b[0m\u001b[1;33m\u001b[0m\u001b[0m\n\u001b[0m\u001b[0;32m   1053\u001b[0m             \u001b[0mres\u001b[0m \u001b[1;33m=\u001b[0m \u001b[0mself\u001b[0m\u001b[1;33m.\u001b[0m\u001b[0m_box_item_values\u001b[0m\u001b[1;33m(\u001b[0m\u001b[0mitem\u001b[0m\u001b[1;33m,\u001b[0m \u001b[0mvalues\u001b[0m\u001b[1;33m)\u001b[0m\u001b[1;33m\u001b[0m\u001b[0m\n\u001b[0;32m   1054\u001b[0m             \u001b[0mcache\u001b[0m\u001b[1;33m[\u001b[0m\u001b[0mitem\u001b[0m\u001b[1;33m]\u001b[0m \u001b[1;33m=\u001b[0m \u001b[0mres\u001b[0m\u001b[1;33m\u001b[0m\u001b[0m\n",
        "\u001b[1;32m/opt/anaconda/envs/np18py27-1.9/lib/python2.7/site-packages/pandas/core/internals.pyc\u001b[0m in \u001b[0;36mget\u001b[1;34m(self, item, fastpath)\u001b[0m\n\u001b[0;32m   2563\u001b[0m \u001b[1;33m\u001b[0m\u001b[0m\n\u001b[0;32m   2564\u001b[0m             \u001b[1;32mif\u001b[0m \u001b[1;32mnot\u001b[0m \u001b[0misnull\u001b[0m\u001b[1;33m(\u001b[0m\u001b[0mitem\u001b[0m\u001b[1;33m)\u001b[0m\u001b[1;33m:\u001b[0m\u001b[1;33m\u001b[0m\u001b[0m\n\u001b[1;32m-> 2565\u001b[1;33m                 \u001b[0mloc\u001b[0m \u001b[1;33m=\u001b[0m \u001b[0mself\u001b[0m\u001b[1;33m.\u001b[0m\u001b[0mitems\u001b[0m\u001b[1;33m.\u001b[0m\u001b[0mget_loc\u001b[0m\u001b[1;33m(\u001b[0m\u001b[0mitem\u001b[0m\u001b[1;33m)\u001b[0m\u001b[1;33m\u001b[0m\u001b[0m\n\u001b[0m\u001b[0;32m   2566\u001b[0m             \u001b[1;32melse\u001b[0m\u001b[1;33m:\u001b[0m\u001b[1;33m\u001b[0m\u001b[0m\n\u001b[0;32m   2567\u001b[0m                 \u001b[0mindexer\u001b[0m \u001b[1;33m=\u001b[0m \u001b[0mnp\u001b[0m\u001b[1;33m.\u001b[0m\u001b[0marange\u001b[0m\u001b[1;33m(\u001b[0m\u001b[0mlen\u001b[0m\u001b[1;33m(\u001b[0m\u001b[0mself\u001b[0m\u001b[1;33m.\u001b[0m\u001b[0mitems\u001b[0m\u001b[1;33m)\u001b[0m\u001b[1;33m)\u001b[0m\u001b[1;33m[\u001b[0m\u001b[0misnull\u001b[0m\u001b[1;33m(\u001b[0m\u001b[0mself\u001b[0m\u001b[1;33m.\u001b[0m\u001b[0mitems\u001b[0m\u001b[1;33m)\u001b[0m\u001b[1;33m]\u001b[0m\u001b[1;33m\u001b[0m\u001b[0m\n",
        "\u001b[1;32m/opt/anaconda/envs/np18py27-1.9/lib/python2.7/site-packages/pandas/core/index.pyc\u001b[0m in \u001b[0;36mget_loc\u001b[1;34m(self, key)\u001b[0m\n\u001b[0;32m   1179\u001b[0m         \u001b[0mloc\u001b[0m \u001b[1;33m:\u001b[0m \u001b[0mint\u001b[0m \u001b[1;32mif\u001b[0m \u001b[0munique\u001b[0m \u001b[0mindex\u001b[0m\u001b[1;33m,\u001b[0m \u001b[0mpossibly\u001b[0m \u001b[0mslice\u001b[0m \u001b[1;32mor\u001b[0m \u001b[0mmask\u001b[0m \u001b[1;32mif\u001b[0m \u001b[1;32mnot\u001b[0m\u001b[1;33m\u001b[0m\u001b[0m\n\u001b[0;32m   1180\u001b[0m         \"\"\"\n\u001b[1;32m-> 1181\u001b[1;33m         \u001b[1;32mreturn\u001b[0m \u001b[0mself\u001b[0m\u001b[1;33m.\u001b[0m\u001b[0m_engine\u001b[0m\u001b[1;33m.\u001b[0m\u001b[0mget_loc\u001b[0m\u001b[1;33m(\u001b[0m\u001b[0m_values_from_object\u001b[0m\u001b[1;33m(\u001b[0m\u001b[0mkey\u001b[0m\u001b[1;33m)\u001b[0m\u001b[1;33m)\u001b[0m\u001b[1;33m\u001b[0m\u001b[0m\n\u001b[0m\u001b[0;32m   1182\u001b[0m \u001b[1;33m\u001b[0m\u001b[0m\n\u001b[0;32m   1183\u001b[0m     \u001b[1;32mdef\u001b[0m \u001b[0mget_value\u001b[0m\u001b[1;33m(\u001b[0m\u001b[0mself\u001b[0m\u001b[1;33m,\u001b[0m \u001b[0mseries\u001b[0m\u001b[1;33m,\u001b[0m \u001b[0mkey\u001b[0m\u001b[1;33m)\u001b[0m\u001b[1;33m:\u001b[0m\u001b[1;33m\u001b[0m\u001b[0m\n",
        "\u001b[1;32m/opt/anaconda/envs/np18py27-1.9/lib/python2.7/site-packages/pandas/index.so\u001b[0m in \u001b[0;36mpandas.index.IndexEngine.get_loc (pandas/index.c:3656)\u001b[1;34m()\u001b[0m\n",
        "\u001b[1;32m/opt/anaconda/envs/np18py27-1.9/lib/python2.7/site-packages/pandas/index.so\u001b[0m in \u001b[0;36mpandas.index.IndexEngine.get_loc (pandas/index.c:3534)\u001b[1;34m()\u001b[0m\n",
        "\u001b[1;32m/opt/anaconda/envs/np18py27-1.9/lib/python2.7/site-packages/pandas/hashtable.so\u001b[0m in \u001b[0;36mpandas.hashtable.PyObjectHashTable.get_item (pandas/hashtable.c:11911)\u001b[1;34m()\u001b[0m\n",
        "\u001b[1;32m/opt/anaconda/envs/np18py27-1.9/lib/python2.7/site-packages/pandas/hashtable.so\u001b[0m in \u001b[0;36mpandas.hashtable.PyObjectHashTable.get_item (pandas/hashtable.c:11864)\u001b[1;34m()\u001b[0m\n",
        "\u001b[1;31mKeyError\u001b[0m: 'Strike'"
       ]
      }
     ],
     "prompt_number": 19
    },
    {
     "cell_type": "markdown",
     "metadata": {},
     "source": [
      "*Note to self.* \n",
      "In older versions of Pandas, prior to 0.14.1, the option input puts the strike in the index, not as a column of data.\n",
      "The next two lines check the versions of pandas and python on the off chance we want to check:  print(pd.__version__), \n",
      "! python --version "
     ]
    },
    {
     "cell_type": "code",
     "collapsed": false,
     "input": [
      "# plot call and put prices v strike \n",
      "plt.plot(calls_strikes, calls_mid, 'r', lw=2, label='calls')\n",
      "plt.plot(puts_strikes, puts_mid, 'b', lw=2, label='puts')\n",
      "\n",
      "# prettify it \n",
      "#plt.axis([120, 250, 0, 50])\n",
      "plt.axvline(x=atm, color='k', linestyle='--', label='ATM')               \n",
      "plt.legend(loc='best')\n",
      "plt.show()"
     ],
     "language": "python",
     "metadata": {},
     "outputs": [
      {
       "ename": "NameError",
       "evalue": "name 'calls_strikes' is not defined",
       "output_type": "pyerr",
       "traceback": [
        "\u001b[1;31m---------------------------------------------------------------------------\u001b[0m\n\u001b[1;31mNameError\u001b[0m                                 Traceback (most recent call last)",
        "\u001b[1;32m<ipython-input-20-1a046d611596>\u001b[0m in \u001b[0;36m<module>\u001b[1;34m()\u001b[0m\n\u001b[0;32m      1\u001b[0m \u001b[1;31m# plot call and put prices v strike\u001b[0m\u001b[1;33m\u001b[0m\u001b[1;33m\u001b[0m\u001b[0m\n\u001b[1;32m----> 2\u001b[1;33m \u001b[0mplt\u001b[0m\u001b[1;33m.\u001b[0m\u001b[0mplot\u001b[0m\u001b[1;33m(\u001b[0m\u001b[0mcalls_strikes\u001b[0m\u001b[1;33m,\u001b[0m \u001b[0mcalls_mid\u001b[0m\u001b[1;33m,\u001b[0m \u001b[1;34m'r'\u001b[0m\u001b[1;33m,\u001b[0m \u001b[0mlw\u001b[0m\u001b[1;33m=\u001b[0m\u001b[1;36m2\u001b[0m\u001b[1;33m,\u001b[0m \u001b[0mlabel\u001b[0m\u001b[1;33m=\u001b[0m\u001b[1;34m'calls'\u001b[0m\u001b[1;33m)\u001b[0m\u001b[1;33m\u001b[0m\u001b[0m\n\u001b[0m\u001b[0;32m      3\u001b[0m \u001b[0mplt\u001b[0m\u001b[1;33m.\u001b[0m\u001b[0mplot\u001b[0m\u001b[1;33m(\u001b[0m\u001b[0mputs_strikes\u001b[0m\u001b[1;33m,\u001b[0m \u001b[0mputs_mid\u001b[0m\u001b[1;33m,\u001b[0m \u001b[1;34m'b'\u001b[0m\u001b[1;33m,\u001b[0m \u001b[0mlw\u001b[0m\u001b[1;33m=\u001b[0m\u001b[1;36m2\u001b[0m\u001b[1;33m,\u001b[0m \u001b[0mlabel\u001b[0m\u001b[1;33m=\u001b[0m\u001b[1;34m'puts'\u001b[0m\u001b[1;33m)\u001b[0m\u001b[1;33m\u001b[0m\u001b[0m\n\u001b[0;32m      4\u001b[0m \u001b[1;33m\u001b[0m\u001b[0m\n\u001b[0;32m      5\u001b[0m \u001b[1;31m# prettify it\u001b[0m\u001b[1;33m\u001b[0m\u001b[1;33m\u001b[0m\u001b[0m\n",
        "\u001b[1;31mNameError\u001b[0m: name 'calls_strikes' is not defined"
       ]
      }
     ],
     "prompt_number": 20
    },
    {
     "cell_type": "code",
     "collapsed": false,
     "input": [
      "# rerun the figure above with different color lines.  Or dashed lines for call and put prices.  \n",
      "# or change the form of the vertical ATM line:  solid? another color?  \n"
     ],
     "language": "python",
     "metadata": {},
     "outputs": [],
     "prompt_number": 21
    },
    {
     "cell_type": "code",
     "collapsed": false,
     "input": [],
     "language": "python",
     "metadata": {},
     "outputs": []
    }
   ],
   "metadata": {}
  }
 ]
}