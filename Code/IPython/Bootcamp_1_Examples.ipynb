{
 "metadata": {
  "name": "",
  "signature": "sha256:34efe84585af226635267af5aeb0d13d8668ae377aa1b34cc6304ea841f5e743"
 },
 "nbformat": 3,
 "nbformat_minor": 0,
 "worksheets": [
  {
   "cells": [
    {
     "cell_type": "markdown",
     "metadata": {},
     "source": [
      "## Data Bootcamp 1:  Examples\n",
      "### Python applied to economic and financial data\n",
      "\n",
      "This is an introduction to Data Bootcamp, a course at NYU designed to give students some familiarity with (i) Python and (ii) economic and financial data.  A more complete collection of materials, including this IPython notebook, is available in our [Github repository](https://github.com/DaveBackus/Data_Bootcamp).  \n",
      "\n",
      "In this Python Notebook we illustrate some of the possibilities with examples.  The code will be obscure if you're new to Python, but we will fill in the gaps over time.  In the meantime, you might note for future reference things you run across that you'd like to understand better.  We think it's best to take this one step at a time, but if you're interested in the logic behind the code, we give links to relevant documentation under \"References.\"  The occasional \"Comments\" are things for us to follow up on, we suggest you ignore them.    \n",
      "\n",
      "* Recent US GDP growth (data from FRED)\n",
      "* GDP per capita in selected countries (data from the World Bank)\n",
      "* Fama-French equity \"factors\" (data from Ken French's website)\n",
      "* S&P 500 ETF (Spyders) (data from Yahoo finance)\n",
      "* read a csv??\n",
      "\n",
      "**Warnings**\n",
      "\n",
      "* This program requires internet access, that's where the data comes from.  \n",
      "* It's also work in progress, the eta for the course is Fall 2015.  \n"
     ]
    },
    {
     "cell_type": "markdown",
     "metadata": {},
     "source": [
      "---\n",
      "\n",
      "### Quick guide \n",
      "\n",
      "This will, obviously, be distributed separately, but we repeat it here.  To use this notebook, please do exactly the following:  \n",
      "\n",
      "**Step 1: Download the Anaconda distribution of Python**  \n",
      "\n",
      "* Click [here](http://docs.continuum.io/anaconda/install.html) and choose Python 3.4 for whatever operating system you use.  \n",
      "* This should explain itself, but to give you the idea:  (i) At the top of the page you should see the words \"Download Anaconda.\"  (ii) Click on the logo of the operating system of the computer you are using, Linux, Windows, or Mac.  It'll probably guess right on its own. (iii) Click on \"I want Python 3.4.\"  (iv) You should now see a box with \"Some Stuff xxx Python 3.4 Graphical Installer.\"  Click on it.  (v) When the installer has downloaded, click on it and follow the directions. \n",
      "\n",
      "**Step 2: Download the Bootcamp introductions**\n",
      "\n",
      "* Once you've installed Python 3.4, go to the command line and type:  ipython notebook. In Windows, this means click on the Windows button on your computer and type \"cmd\" in the box.  That will give you a command line, where you type:  ipython notebook.  \n",
      "\n",
      "** Step 3:  Start IPython and load this notebook**\n",
      "\n",
      "* Download this notebook. ??\n",
      "\n",
      "--- "
     ]
    },
    {
     "cell_type": "markdown",
     "metadata": {},
     "source": [
      "---\n",
      "\n",
      "### Example 1: US GDP Growth\n",
      "\n",
      "Investors -- and others -- keep a close eye on the state of the economy because it affects the performance of firms and financial assets. We'll go into this more extensively later, but for now we want to see what the economy has done in the past, especially the recent past.  We use the wonderful FRED interface (\"API\") and load the data straight from their website.  Then we graph GDP growth over the past 50 years or so and for a more recent period of greater interest.  \n",
      "\n",
      "This strategy -- find the data on the web, load it, and produce a graph -- is a model for much of what we do.  \n",
      "\n",
      "**Question(s).** \n",
      "It's always good to know what you're looking for so we'll post question(s) for each example.  Here we \n",
      "ask how the economy is doing, and how its current performance compares to the past.\n",
      "\n",
      "References\n",
      "\n",
      "* FRED: http://research.stlouisfed.org/fred2/\n",
      "* Pandas: http://pandas.pydata.org/pandas-docs/stable/\n",
      "* Data access: http://pandas.pydata.org/pandas-docs/stable/remote_data.html#fred\n",
      "* Inline plots:  http://stackoverflow.com/questions/21176731/automatically-run-matplotlib-inline-in-ipython-notebook \n",
      "\n",
      "*Note to self:* \n",
      "The FRED API allows you to import transformations like growth rates directly. Is that possible with Pandas? \n",
      "\n",
      "---"
     ]
    },
    {
     "cell_type": "code",
     "collapsed": false,
     "input": [
      "# anything after the hashtag is a comment \n",
      "# load packages \n",
      "import datetime as dt \n",
      "import pandas.io.data as web       # data import tools \n",
      "import matplotlib.pyplot as plt    # plotting tools \n",
      "\n",
      "# The next one is an IPython command:  it says to put plots here in the notebook, rather than open a separate window.\n",
      "%matplotlib inline"
     ],
     "language": "python",
     "metadata": {},
     "outputs": [],
     "prompt_number": 1
    },
    {
     "cell_type": "code",
     "collapsed": false,
     "input": [
      "# get data from FRED\n",
      "fred_series = [\"GDPC1\"]\n",
      "start_date = dt.datetime(1960, 1, 1)\n",
      "data = web.DataReader(fred_series, \"fred\", start_date)\n",
      "\n",
      "# print last 3 data points to see what we've got \n",
      "print(data.tail(3))                  "
     ],
     "language": "python",
     "metadata": {},
     "outputs": [
      {
       "output_type": "stream",
       "stream": "stdout",
       "text": [
        "              GDPC1\n",
        "DATE               \n",
        "2013-10-01  15916.2\n",
        "2014-01-01  15831.7\n",
        "2014-04-01  15994.3\n"
       ]
      }
     ],
     "prompt_number": 2
    },
    {
     "cell_type": "code",
     "collapsed": false,
     "input": [
      "# compute annual growth rates \n",
      "g = 4*data.pct_change()\n",
      "\n",
      "# change label   \n",
      "g.columns = ['US GDP Growth']"
     ],
     "language": "python",
     "metadata": {},
     "outputs": [],
     "prompt_number": 3
    },
    {
     "cell_type": "markdown",
     "metadata": {},
     "source": [
      "The variable g (quarterly GDP growth expressed as an annual rate) is now what Python calls a DataFrame, which is a collection of data organized by variable and observation.  You can get some of its properties by typing some or all of the following in the box below:\n",
      "\n",
      "* type(g)\n",
      "* g.tail()\n",
      "* g.head(2)\n",
      "\n",
      "You can get information about g and what we can do with it by typing:  g.[tab]. (Don't type the second period!) That will pop up a list you can scroll through.  Typically it's a long list, so it takes some experience to know what to do with it.  \n",
      "\n",
      "You can also get information about things you can do with g by typing commands with an open paren:  g.command( and wait.  That will give you the arguments of the command.  g.head and g.tail, for example, have an argument n which is the number of observations to print.  head prints the top of the DataFrame, tail prints the bottom.  If you leave it blank, it prints 5.  "
     ]
    },
    {
     "cell_type": "code",
     "collapsed": false,
     "input": [
      "# enter your commands here\n"
     ],
     "language": "python",
     "metadata": {},
     "outputs": [],
     "prompt_number": 4
    },
    {
     "cell_type": "code",
     "collapsed": false,
     "input": [
      "# more examples:  some statistics on GDP growth  \n",
      "print(['Mean GDP growth ', g.mean()])\n",
      "print(['Std deviation ', g.std()])\n",
      "\n",
      "# do this for subperiods... "
     ],
     "language": "python",
     "metadata": {},
     "outputs": [
      {
       "output_type": "stream",
       "stream": "stdout",
       "text": [
        "['Mean GDP growth ', US GDP Growth    0.030364\n",
        "dtype: float64]\n",
        "['Std deviation ', US GDP Growth    0.033951\n",
        "dtype: float64]\n"
       ]
      }
     ],
     "prompt_number": 5
    },
    {
     "cell_type": "code",
     "collapsed": false,
     "input": [
      "# quick and dirty plot \n",
      "# note the financial crisis:  GDP fell 8% one quarter (at an annual rate, so really 2%)\n",
      "g.plot() \n",
      "plt.show() "
     ],
     "language": "python",
     "metadata": {},
     "outputs": [
      {
       "metadata": {},
       "output_type": "display_data",
       "png": "[encoded data removed]",
       "text": [
        "<matplotlib.figure.Figure at 0x5b28e10>"
       ]
      }
     ],
     "prompt_number": 6
    },
    {
     "cell_type": "code",
     "collapsed": false,
     "input": [
      "# more complex plot, bar chart for last 6 quarters\n",
      "# also:  add moving average?  "
     ],
     "language": "python",
     "metadata": {},
     "outputs": [],
     "prompt_number": 7
    },
    {
     "cell_type": "markdown",
     "metadata": {},
     "source": [
      "---\n",
      "\n",
      "### Example 2: Fama-French equity \"factors\"\n",
      "\n",
      "Gene Fama and Ken French are two of the leading academics studying (primarily) equity returns.  Some of this work is summarized in the [press release](http://www.nobelprize.org/nobel_prizes/economic-sciences/laureates/2013/press.html) and related material for the 1013 Nobel Prize in economics, which was shared by Fama with Lars Hansen and Robert Shiller.  For now, it's enough to say that Ken French posts an extensive collection of equity data on his website.  \n",
      "\n",
      "We'll look at what have come to be called the Fama-French factors.  The data includes:\n",
      "\n",
      "* xsm:  the return on the market (aggregate equity) minus the riskfree rate\n",
      "* smb (small minus big):  the return on small firms minus the return on big firms \n",
      "* hml (high minus low):  the return on firms with high book-to-market ratios minus those with low ratios. \n",
      "* rf:  the riskfree rate.\n",
      "\n",
      "We download all of these at once, monthly from 1926.  Each is reported as a percentage.\n",
      "Since they're monthly, you can get a rough annual number if you multiply by 12. \n",
      "\n",
      "**Question(s).** \n",
      "The question we address is how the returns compare:  their means, their variability, and so on.  \n",
      "[Ask yourself:  how would I answer this?  What would I like to do with the data?]\n",
      "\n",
      "References\n",
      "\n",
      "* http://mba.tuck.dartmouth.edu/pages/faculty/ken.french/data_library.html\n",
      "* http://quant-econ.net/pandas.html\n",
      "* http://pandas.pydata.org/pandas-docs/dev/remote_data.html#fama-french\n",
      "* http://pandas.pydata.org/pandas-docs/stable/10min.html#selection \n",
      "* http://matplotlib.org/api/pyplot_api.html#matplotlib.pyplot.boxplot\n",
      "* http://pandas.pydata.org/pandas-docs/dev/generated/pandas.DataFrame.hist.html \n",
      "\n",
      "---"
     ]
    },
    {
     "cell_type": "code",
     "collapsed": false,
     "input": [
      "# read data from Ken French's website (we're still using web)\n",
      "ff = web.DataReader('F-F_Research_Data_Factors', 'famafrench')[0] \n",
      "# NB:  ff.xs is a conflict, rename to xsm  \n",
      "ff.columns = ['xsm', 'smb', 'hml', 'rf']\n",
      "\n",
      "# see what we've got\n",
      "print(ff.head(3))\n",
      "print(ff.describe())"
     ],
     "language": "python",
     "metadata": {},
     "outputs": [
      {
       "output_type": "stream",
       "stream": "stdout",
       "text": [
        "         xsm   smb   hml    rf\n",
        "192607  2.95 -2.46 -2.87  0.22\n",
        "192608  2.63 -1.19  4.60  0.25\n",
        "192609  0.38 -1.33 -0.23  0.23\n",
        "               xsm          smb          hml           rf\n",
        "count  1056.000000  1056.000000  1056.000000  1056.000000\n",
        "mean      0.652045     0.228589     0.393513     0.285511\n",
        "std       5.400846     3.232958     3.509093     0.254148\n",
        "min     -29.080000   -16.390000   -12.680000    -0.060000\n",
        "25%      -2.025000    -1.535000    -1.290000     0.060000\n",
        "50%       1.030000     0.065000     0.225000     0.250000\n",
        "75%       3.675000     1.732500     1.732500     0.430000\n",
        "max      38.040000    37.470000    34.080000     1.350000\n"
       ]
      }
     ],
     "prompt_number": 8
    },
    {
     "cell_type": "code",
     "collapsed": false,
     "input": [
      "# compute and print summary stats \n",
      "moments = [ff.mean(), ff.std(), ff.skew(), ff.kurtosis() - 3]\n",
      "\n",
      "# \\n here is a line break\n",
      "print('Summary stats for Fama-French factors (mean, std, skew, ex kurt)', end='\\n\\n') \n",
      "[print(moment, end='\\n\\n') for moment in moments]"
     ],
     "language": "python",
     "metadata": {},
     "outputs": [
      {
       "output_type": "stream",
       "stream": "stdout",
       "text": [
        "Summary stats for Fama-French factors (mean, std, skew, ex kurt)\n",
        "\n",
        "xsm    0.652045\n",
        "smb    0.228589\n",
        "hml    0.393513\n",
        "rf     0.285511\n",
        "dtype: float64\n",
        "\n",
        "xsm    5.400846\n",
        "smb    3.232958\n",
        "hml    3.509093\n",
        "rf     0.254148\n",
        "dtype: float64\n",
        "\n",
        "xsm    0.157244\n",
        "smb    2.055828\n",
        "hml    1.925815\n",
        "rf     1.046757\n",
        "dtype: float64\n",
        "\n",
        "xsm     4.471481\n",
        "smb    17.623527\n",
        "hml    12.826291\n",
        "rf     -1.744754\n",
        "dtype: float64\n",
        "\n"
       ]
      },
      {
       "metadata": {},
       "output_type": "pyout",
       "prompt_number": 9,
       "text": [
        "[None, None, None, None]"
       ]
      }
     ],
     "prompt_number": 9
    },
    {
     "cell_type": "code",
     "collapsed": false,
     "input": [
      "# try some things yourself \n",
      "# like what?  type ff.[tab]\n"
     ],
     "language": "python",
     "metadata": {},
     "outputs": [],
     "prompt_number": 10
    },
    {
     "cell_type": "code",
     "collapsed": false,
     "input": [
      "# some plots \n",
      "ff.plot()\n",
      "plt.show()\n",
      "\n",
      "ff.hist(bins=50, sharex=True)\n",
      "plt.show()\n",
      "\n",
      "ff.boxplot(whis=0, return_type='axes')\n",
      "plt.show()"
     ],
     "language": "python",
     "metadata": {},
     "outputs": [
      {
       "metadata": {},
       "output_type": "display_data",
       "png": "[encoded data removed]",
       "text": [
        "<matplotlib.figure.Figure at 0x8671c88>"
       ]
      },
      {
       "metadata": {},
       "output_type": "display_data",
       "png": "[encoded data removed]",
       "text": [
        "<matplotlib.figure.Figure at 0x84d7438>"
       ]
      },
      {
       "metadata": {},
       "output_type": "display_data",
       "png": "[encoded data removed]",
       "text": [
        "<matplotlib.figure.Figure at 0x8797358>"
       ]
      }
     ],
     "prompt_number": 11
    },
    {
     "cell_type": "markdown",
     "metadata": {},
     "source": [
      "**Answer(s)?**  What do you see?  How do the various returns compare?   "
     ]
    },
    {
     "cell_type": "markdown",
     "metadata": {},
     "source": [
      "---\n",
      "\n",
      "### Example 3: GDP per capita and life expectancy\n",
      "\n",
      "The World Bank collects a broad range of economic and social indicators for most countries in the World.  They also have a nice interface.  It's a good source for basic information about the economic climate compares across countries.  \n",
      "\n",
      "We illustrate its usefulness with a ccatterplot of life expectancy v GDP per capita.  \n",
      "\n",
      "**Question(s).**  How closely are these two indicators of quality of life are related.  \n",
      "\n",
      "**References**\n",
      "\n",
      "* http://data.worldbank.org/\n",
      "* http://pandas.pydata.org/pandas-docs/stable/remote_data.html#world-bank\n",
      "* http://matplotlib.org/examples/shapes_and_collections/scatter_demo.html\n",
      "\n",
      "---"
     ]
    },
    {
     "cell_type": "code",
     "collapsed": false,
     "input": [
      "# load package under name wb \n",
      "from pandas.io import wb\n",
      "\n",
      "# find the codes for the variables of interest \n",
      "wb.search\n",
      "wb.search(string='gdp.*capita').iloc[:2]"
     ],
     "language": "python",
     "metadata": {},
     "outputs": [
      {
       "html": [
        "<div style=\"max-height:1000px;max-width:1500px;overflow:auto;\">\n",
        "<table border=\"1\" class=\"dataframe\">\n",
        "  <thead>\n",
        "    <tr style=\"text-align: right;\">\n",
        "      <th></th>\n",
        "      <th>id</th>\n",
        "      <th>name</th>\n",
        "      <th>source</th>\n",
        "      <th>sourceNote</th>\n",
        "      <th>sourceOrganization</th>\n",
        "      <th>topics</th>\n",
        "    </tr>\n",
        "  </thead>\n",
        "  <tbody>\n",
        "    <tr>\n",
        "      <th>699</th>\n",
        "      <td>          6.0.GDPpc</td>\n",
        "      <td>                         GDP per capita (2005 USD)</td>\n",
        "      <td> LAC Equity Lab</td>\n",
        "      <td> GDP per capita is gross domestic product divid...</td>\n",
        "      <td> b'LAC Equity Lab Tablulations of the World Dev...</td>\n",
        "      <td> Economy &amp; Growth</td>\n",
        "    </tr>\n",
        "    <tr>\n",
        "      <th>700</th>\n",
        "      <td> 6.0.GDPpc_constant</td>\n",
        "      <td> GDP per capita, PPP (constant 2011 internation...</td>\n",
        "      <td> LAC Equity Lab</td>\n",
        "      <td> GDP per capita based on purchasing power parit...</td>\n",
        "      <td>  b'NULWorld Development Indicators (World Bank)L'</td>\n",
        "      <td> Economy &amp; Growth</td>\n",
        "    </tr>\n",
        "  </tbody>\n",
        "</table>\n",
        "</div>"
       ],
       "metadata": {},
       "output_type": "pyout",
       "prompt_number": 12,
       "text": [
        "                     id                                               name  \\\n",
        "699           6.0.GDPpc                          GDP per capita (2005 USD)   \n",
        "700  6.0.GDPpc_constant  GDP per capita, PPP (constant 2011 internation...   \n",
        "\n",
        "             source                                         sourceNote  \\\n",
        "699  LAC Equity Lab  GDP per capita is gross domestic product divid...   \n",
        "700  LAC Equity Lab  GDP per capita based on purchasing power parit...   \n",
        "\n",
        "                                    sourceOrganization            topics  \n",
        "699  b'LAC Equity Lab Tablulations of the World Dev...  Economy & Growth  \n",
        "700   b'NULWorld Development Indicators (World Bank)L'  Economy & Growth  "
       ]
      }
     ],
     "prompt_number": 12
    },
    {
     "cell_type": "code",
     "collapsed": false,
     "input": [
      "# specify dates, variables, and countries \n",
      "start = 2011\n",
      "# GDP per capita, population, life expectancy\n",
      "variable_list = ['NY.GDP.PCAP.KD', 'SP.POP.TOTL', 'SP.DYN.LE00.IN']\n",
      "country_list  = ['US', 'FR', 'JP', 'CN', 'IN', 'BR', 'MX'] \n",
      "\n",
      "# Python understands we need to go to the second line because ( hasn't been closed by )\n",
      "data = wb.download(indicator=variable_list, \n",
      "                   country=country_list, start=start, end=start).dropna()\n",
      "\n",
      "# see what we've got\n",
      "print(data)"
     ],
     "language": "python",
     "metadata": {},
     "outputs": [
      {
       "output_type": "stream",
       "stream": "stdout",
       "text": [
        "                    NY.GDP.PCAP.KD  SP.POP.TOTL  SP.DYN.LE00.IN\n",
        "country       year                                             \n",
        "Brazil        2011     5721.289504    196935134       73.347366\n",
        "China         2011     3121.969728   1344130000       75.042000\n",
        "France        2011    34420.021559     65343588       82.114634\n",
        "India         2011     1086.048676   1221156319       65.958488\n",
        "Japan         2011    36203.430066    127817277       82.591220\n",
        "Mexico        2011     8307.686996    119361233       76.914171\n",
        "United States 2011    44440.158166    311582564       78.641463\n"
       ]
      }
     ],
     "prompt_number": 13
    },
    {
     "cell_type": "code",
     "collapsed": false,
     "input": [
      "# check the column labels, change to something simpler \n",
      "print(data.columns)\n",
      "data.columns = ['gdppc', 'pop', 'le']\n",
      "print(data)"
     ],
     "language": "python",
     "metadata": {},
     "outputs": [
      {
       "output_type": "stream",
       "stream": "stdout",
       "text": [
        "Index(['NY.GDP.PCAP.KD', 'SP.POP.TOTL', 'SP.DYN.LE00.IN'], dtype='object')\n",
        "                           gdppc         pop         le\n",
        "country       year                                     \n",
        "Brazil        2011   5721.289504   196935134  73.347366\n",
        "China         2011   3121.969728  1344130000  75.042000\n",
        "France        2011  34420.021559    65343588  82.114634\n",
        "India         2011   1086.048676  1221156319  65.958488\n",
        "Japan         2011  36203.430066   127817277  82.591220\n",
        "Mexico        2011   8307.686996   119361233  76.914171\n",
        "United States 2011  44440.158166   311582564  78.641463\n"
       ]
      }
     ],
     "prompt_number": 14
    },
    {
     "cell_type": "code",
     "collapsed": false,
     "input": [
      "# scatterplot\n",
      "# life expectancy v GDP per capita \n",
      "# size of circles controlled by population \n",
      "\n",
      "# load packages (ignored if redundant) \n",
      "import numpy as np            \n",
      "import matplotlib.pyplot as plt\n",
      "\n",
      "plt.scatter(data['gdppc'], data['le'], s=0.000001*data['pop'], alpha=0.5)\n",
      "plt.ylabel('Life Expectancy')\n",
      "plt.xlabel('GDP Per Capita')\n",
      "plt.show()"
     ],
     "language": "python",
     "metadata": {},
     "outputs": [
      {
       "metadata": {},
       "output_type": "display_data",
       "png": "[encoded data removed]",
       "text": [
        "<matplotlib.figure.Figure at 0x87d3630>"
       ]
      }
     ],
     "prompt_number": 15
    },
    {
     "cell_type": "code",
     "collapsed": false,
     "input": [
      "# size of circles based on population "
     ],
     "language": "python",
     "metadata": {},
     "outputs": [],
     "prompt_number": 16
    },
    {
     "cell_type": "markdown",
     "metadata": {},
     "source": [
      "---\n",
      "\n",
      "### Example 4: Option prices\n",
      "\n",
      "A financial option gives its owner the right to buy or sell an asset (the \"underlying\") at a preset price (the \"strike\") by a specific date (the \"expiration date\").  Puts are options to sell, calls are options to buy.  We explore option prices with Yahoo Finance, specifically options on the S&P 500 exchange-traded fund, ticker SPY.  \n",
      "\n",
      "We illustrate its usefulness with a scatterplot of life expectancy v GDP per capita.  \n",
      "\n",
      "**Question(s).**  How do put and call prices vary with their strike price?  [Think about this.  What would you expect?] \n",
      "\n",
      "**References**\n",
      "\n",
      "* http://finance.yahoo.com/q/op?s=SPY+Options\n",
      "* http://pandas.pydata.org/pandas-docs/stable/remote_data.html#yahoo-finance\n",
      "* http://pandas.pydata.org/pandas-docs/stable/remote_data.html#yahoo-finance-options\n",
      "\n",
      "---"
     ]
    },
    {
     "cell_type": "code",
     "collapsed": false,
     "input": [
      "# load packages \n",
      "import pandas as pd \n",
      "import pandas.io.data as web\n",
      "from pandas.io.data import Options\n",
      "import datetime as dt \n",
      "import matplotlib.pylab as plt\n",
      "\n",
      "# ticker \n",
      "ticker = 'spy' "
     ],
     "language": "python",
     "metadata": {},
     "outputs": [],
     "prompt_number": 17
    },
    {
     "cell_type": "code",
     "collapsed": false,
     "input": [
      "# load stock price first (the underlying) \n",
      "# pick a recent date and subtract seven days to be sure we get a quote  \n",
      "# http://pymotw.com/2/datetime/#date-arithmetic\n",
      "today = dt.date.today()\n",
      "one_week = dt.timedelta(days=7)\n",
      "start = today - one_week\n",
      "stock = web.DataReader(ticker, 'yahoo', start) \n",
      "print(stock)        # just to see what we have\n",
      "\n",
      "# take the last close (-1 is the last, 'Close' is the close)\n",
      "# this shows up in our figure \n",
      "atm = stock.ix[-1,'Close']      # the -1 takes the last observation   "
     ],
     "language": "python",
     "metadata": {},
     "outputs": [
      {
       "output_type": "stream",
       "stream": "stdout",
       "text": [
        "              Open    High     Low   Close     Volume  Adj Close\n",
        "Date                                                            \n",
        "2014-09-02  200.97  201.00  199.86  200.61   72265100     200.61\n",
        "2014-09-03  201.38  201.41  200.22  200.50   57379700     200.50\n",
        "2014-09-04  200.84  201.58  199.66  200.21   85033400     200.21\n",
        "2014-09-05  200.17  201.19  199.41  201.11  102023800     201.11\n"
       ]
      }
     ],
     "prompt_number": 18
    },
    {
     "cell_type": "code",
     "collapsed": false,
     "input": [
      "# get option prices for same ticker \n",
      "option = Options(ticker, 'yahoo')\n",
      "expiry = dt.date(2014, 11, 20)\n",
      "data_calls = option.get_call_data(expiry=expiry).dropna()\n",
      "data_puts  = option.get_put_data(expiry=expiry).dropna()\n",
      "\n",
      "# check what we have \n",
      "print(data_calls.index) \n",
      "print(data_calls.tail())"
     ],
     "language": "python",
     "metadata": {},
     "outputs": [
      {
       "output_type": "stream",
       "stream": "stdout",
       "text": [
        "Int64Index([], dtype='int64')\n",
        "Empty DataFrame\n",
        "Columns: [Strike, Symbol, Last, Chg, Bid, Ask, Vol, Open Int]\n",
        "Index: []\n"
       ]
      }
     ],
     "prompt_number": 24
    },
    {
     "cell_type": "code",
     "collapsed": false,
     "input": [
      "# compute mid of bid and ask and arrange series for plotting \n",
      "calls_bid = data_calls['Bid']\n",
      "calls_ask = data_calls['Ask'] \n",
      "\n",
      "calls_strikes = data_calls['Strike']\n",
      "calls_mid = (data_calls['Bid'] + data_calls['Ask'])/2\n",
      "puts_strikes = data_puts['Strike']\n",
      "puts_mid = (data_puts['Bid'] + data_puts['Ask'])/2"
     ],
     "language": "python",
     "metadata": {},
     "outputs": [],
     "prompt_number": 20
    },
    {
     "cell_type": "markdown",
     "metadata": {},
     "source": [
      "*Note to self.* \n",
      "In older versions of Pandas, prior to 0.14.1, the option input puts the strike in the index, not as a column of data.\n",
      "The next two lines check the versions of pandas and python on the off chance we want to check:  print(pd.__version__), \n",
      "! python --version "
     ]
    },
    {
     "cell_type": "code",
     "collapsed": false,
     "input": [
      "# plot call and put prices v strike \n",
      "plt.plot(calls_strikes, calls_mid, 'r', lw=2, label='calls')\n",
      "plt.plot(puts_strikes, puts_mid, 'b', lw=2, label='puts')\n",
      "\n",
      "# prettify it \n",
      "#plt.axis([120, 250, 0, 50])\n",
      "plt.axvline(x=atm, color='k', linestyle='--', label='ATM')               \n",
      "plt.legend(loc='best')\n",
      "plt.show()"
     ],
     "language": "python",
     "metadata": {},
     "outputs": [
      {
       "metadata": {},
       "output_type": "display_data",
       "png": "[encoded data removed]",
       "text": [
        "<matplotlib.figure.Figure at 0x8671550>"
       ]
      }
     ],
     "prompt_number": 21
    },
    {
     "cell_type": "code",
     "collapsed": false,
     "input": [
      "# rerun the figure above with different color lines.  Or dashed lines for call and put prices.  \n",
      "# or change the form of the vertical ATM line:  solid? another color?  "
     ],
     "language": "python",
     "metadata": {},
     "outputs": [],
     "prompt_number": 45
    },
    {
     "cell_type": "code",
     "collapsed": false,
     "input": [
      "# temp checks \n",
      "print([calls_mid, calls_strikes])"
     ],
     "language": "python",
     "metadata": {},
     "outputs": [
      {
       "output_type": "stream",
       "stream": "stdout",
       "text": [
        "[0    NaN\n",
        "1    NaN\n",
        "2    NaN\n",
        "3    NaN\n",
        "4    NaN\n",
        "5    NaN\n",
        "6    NaN\n",
        "7    NaN\n",
        "8    NaN\n",
        "9    NaN\n",
        "10   NaN\n",
        "11   NaN\n",
        "12   NaN\n",
        "13   NaN\n",
        "14   NaN\n",
        "15   NaN\n",
        "16   NaN\n",
        "17   NaN\n",
        "18   NaN\n",
        "19   NaN\n",
        "20   NaN\n",
        "21   NaN\n",
        "22   NaN\n",
        "23   NaN\n",
        "24   NaN\n",
        "25   NaN\n",
        "26   NaN\n",
        "27   NaN\n",
        "28   NaN\n",
        "29   NaN\n",
        "30   NaN\n",
        "31   NaN\n",
        "32   NaN\n",
        "33   NaN\n",
        "34   NaN\n",
        "35   NaN\n",
        "36   NaN\n",
        "37   NaN\n",
        "38   NaN\n",
        "39   NaN\n",
        "40   NaN\n",
        "41   NaN\n",
        "42   NaN\n",
        "43   NaN\n",
        "44   NaN\n",
        "45   NaN\n",
        "46   NaN\n",
        "47   NaN\n",
        "48   NaN\n",
        "49   NaN\n",
        "50   NaN\n",
        "51   NaN\n",
        "52   NaN\n",
        "53   NaN\n",
        "54   NaN\n",
        "55   NaN\n",
        "56   NaN\n",
        "Length: 57, dtype: float64, 0     150\n",
        "1     160\n",
        "2     162\n",
        "3     163\n",
        "4     165\n",
        "5     167\n",
        "6     168\n",
        "7     170\n",
        "8     171\n",
        "9     172\n",
        "10    173\n",
        "11    174\n",
        "12    175\n",
        "13    176\n",
        "14    177\n",
        "15    178\n",
        "16    179\n",
        "17    180\n",
        "18    181\n",
        "19    182\n",
        "20    183\n",
        "21    184\n",
        "22    185\n",
        "23    186\n",
        "24    187\n",
        "25    188\n",
        "26    189\n",
        "27    190\n",
        "28    191\n",
        "29    192\n",
        "30    193\n",
        "31    194\n",
        "32    195\n",
        "33    196\n",
        "34    197\n",
        "35    198\n",
        "36    199\n",
        "37    200\n",
        "38    201\n",
        "39    202\n",
        "40    203\n",
        "41    204\n",
        "42    205\n",
        "43    206\n",
        "44    207\n",
        "45    208\n",
        "46    209\n",
        "47    210\n",
        "48    211\n",
        "49    212\n",
        "50    213\n",
        "51    214\n",
        "52    215\n",
        "53    220\n",
        "54    225\n",
        "55    230\n",
        "56    240\n",
        "Name: Strike, Length: 57, dtype: float64]\n"
       ]
      }
     ],
     "prompt_number": 23
    },
    {
     "cell_type": "code",
     "collapsed": false,
     "input": [],
     "language": "python",
     "metadata": {},
     "outputs": []
    }
   ],
   "metadata": {}
  }
 ]
}